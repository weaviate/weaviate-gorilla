{
 "cells": [
  {
   "cell_type": "markdown",
   "metadata": {},
   "source": [
    "# Function Calling with Structured Outputs"
   ]
  },
  {
   "cell_type": "code",
   "execution_count": 22,
   "metadata": {},
   "outputs": [
    {
     "name": "stdout",
     "output_type": "stream",
     "text": [
      "Parsed Structured Response: generic_response=\"You're doing a wonderful job, and your efforts truly make a positive impact. Keep shining bright!\"\n",
      "Type: <class '__main__.MyStructuredModel'>\n",
      "generic_response field: You're doing a wonderful job, and your efforts truly make a positive impact. Keep shining bright!\n"
     ]
    }
   ],
   "source": [
    "import os\n",
    "from pydantic import BaseModel\n",
    "import openai\n",
    "\n",
    "openai_api_key = \"\"\n",
    "\n",
    "# Define a structured output model\n",
    "class MyStructuredModel(BaseModel):\n",
    "    generic_response: str\n",
    "\n",
    "# Prepare the messages and instructions\n",
    "messages = [\n",
    "    {\"role\": \"system\", \"content\": \"You are a helpful assistant. Follow the response format instructions.\"},\n",
    "    {\"role\": \"user\", \"content\": \"Say something nice.\"}\n",
    "]\n",
    "\n",
    "# Send request to the LLM with a structured output format\n",
    "response = openai.OpenAI(api_key=openai_api_key).beta.chat.completions.parse(\n",
    "    model=\"gpt-4o\",   # Replace with your desired model\n",
    "    messages=messages,\n",
    "    response_format=MyStructuredModel\n",
    ")\n",
    "\n",
    "# The parsed response will be an instance of MyStructuredModel\n",
    "parsed_response = response.choices[0].message.parsed\n",
    "print(\"Parsed Structured Response:\", parsed_response)\n",
    "print(\"Type:\", type(parsed_response))\n",
    "print(\"generic_response field:\", parsed_response.generic_response)\n"
   ]
  },
  {
   "cell_type": "code",
   "execution_count": 24,
   "metadata": {},
   "outputs": [
    {
     "name": "stdout",
     "output_type": "stream",
     "text": [
      "Parsed Response:\n",
      "reflection_about_tool_use='I need to search the BostonRestaurants database to find the count of restaurants with an averageRating higher than 4.' use_tools=True response=None tool_calls=[ToolCall(function_name='search_database', arguments=ToolArguments(collection_name='BostonRestaurants', search_query=None, integer_property_filter=IntegerPropertyFilter(property_name='averageRating', operator='>', value=4.0), text_property_filter=None, boolean_property_filter=None, integer_property_aggregation=IntegerPropertyAggregation(property_name='averageRating', metrics='COUNT'), text_property_aggregation=None, boolean_property_aggregation=None, groupby_property=None))]\n"
     ]
    }
   ],
   "source": [
    "from typing import Optional, Dict, Any, List\n",
    "from pydantic import BaseModel, Field\n",
    "from typing import Literal\n",
    "\n",
    "from typing import Optional, List, Dict, Any\n",
    "from pydantic import BaseModel, Field\n",
    "from typing import Literal\n",
    "\n",
    "# Filters\n",
    "class IntegerPropertyFilter(BaseModel):\n",
    "    property_name: str\n",
    "    operator: Literal[\"=\", \"<\", \">\", \"<=\", \">=\"]\n",
    "    value: float  # numeric type since operator implies numeric comparison\n",
    "\n",
    "class TextPropertyFilter(BaseModel):\n",
    "    property_name: str\n",
    "    operator: Literal[\"=\", \"LIKE\"]\n",
    "    value: str\n",
    "\n",
    "class BooleanPropertyFilter(BaseModel):\n",
    "    property_name: str\n",
    "    operator: Literal[\"=\", \"!=\"]\n",
    "    value: bool\n",
    "\n",
    "# Aggregations\n",
    "class IntegerPropertyAggregation(BaseModel):\n",
    "    property_name: str\n",
    "    metrics: Literal[\"COUNT\", \"TYPE\", \"MIN\", \"MAX\", \"MEAN\", \"MEDIAN\", \"MODE\", \"SUM\"]\n",
    "\n",
    "class TextPropertyAggregation(BaseModel):\n",
    "    property_name: str\n",
    "    metrics: Literal[\"COUNT\", \"TYPE\", \"TOP_OCCURRENCES\"]\n",
    "    top_occurrences_limit: Optional[int] = None\n",
    "\n",
    "class BooleanPropertyAggregation(BaseModel):\n",
    "    property_name: str\n",
    "    metrics: Literal[\"COUNT\", \"TYPE\", \"TOTAL_TRUE\", \"TOTAL_FALSE\", \"PERCENTAGE_TRUE\", \"PERCENTAGE_FALSE\"]\n",
    "\n",
    "# This model aggregates all possible arguments for the query_database tool.\n",
    "# All fields are optional so the LLM can choose which ones to include.\n",
    "class ToolArguments(BaseModel):\n",
    "    collection_name: str\n",
    "    search_query: Optional[str] = None\n",
    "    integer_property_filter: Optional[IntegerPropertyFilter] = None\n",
    "    text_property_filter: Optional[TextPropertyFilter] = None\n",
    "    boolean_property_filter: Optional[BooleanPropertyFilter] = None\n",
    "    integer_property_aggregation: Optional[IntegerPropertyAggregation] = None\n",
    "    text_property_aggregation: Optional[TextPropertyAggregation] = None\n",
    "    boolean_property_aggregation: Optional[BooleanPropertyAggregation] = None\n",
    "    groupby_property: Optional[str] = None\n",
    "\n",
    "class ToolCall(BaseModel):\n",
    "    function_name: str\n",
    "    arguments: ToolArguments\n",
    "\n",
    "class ResponseOrToolCalls(BaseModel):\n",
    "    reflection_about_tool_use: Optional[str] = Field(\n",
    "        default=None,\n",
    "        description=\"A rationale regarding whether tool calls are needed.\"\n",
    "    )\n",
    "    use_tools: bool\n",
    "    response: Optional[str] = None\n",
    "    tool_calls: Optional[List[ToolCall]] = None\n",
    "\n",
    "\n",
    "# Tool Description Prompt\n",
    "tools_description = \"\"\"\n",
    "Tools:\n",
    "- name: search_database\n",
    "- description: Search a database with the following collections and their respective schemas:\n",
    "BostonRestaurants (collection): name (text), description (searchable text), averageRating (number), and openNow (bool).\n",
    "- arguments:\n",
    "-- search_query (str): The query to search with.\n",
    "-- integer_property_filter (object): A filter to apply to retrieve objects that match a condition.s\n",
    "\"\"\"\n",
    "\n",
    "prompt = \"How many restaurants in Boston are rated higher than a 4?\"\n",
    "\n",
    "messages = [\n",
    "    {\"role\": \"system\", \"content\": f\"You are a helpful assistant. Follow the response format instructions and use the tools if needed. Here is a description of the available tools {tools_description}\"},\n",
    "    {\"role\": \"user\", \"content\": prompt}\n",
    "]\n",
    "\n",
    "response = openai.OpenAI(api_key=openai_api_key).beta.chat.completions.parse(\n",
    "    model=\"gpt-4o\",\n",
    "    messages=messages,\n",
    "    response_format=ResponseOrToolCalls\n",
    ")\n",
    "\n",
    "# The .parsed attribute should hold an instance of FunctionCall\n",
    "parsed_response = response.choices[0].message.parsed\n",
    "\n",
    "print(\"Parsed Response:\")\n",
    "print(parsed_response)"
   ]
  },
  {
   "cell_type": "code",
   "execution_count": 25,
   "metadata": {},
   "outputs": [
    {
     "data": {
      "text/plain": [
       "'I need to search the BostonRestaurants database to find the count of restaurants with an averageRating higher than 4.'"
      ]
     },
     "execution_count": 25,
     "metadata": {},
     "output_type": "execute_result"
    }
   ],
   "source": [
    "parsed_response.reflection_about_tool_use"
   ]
  },
  {
   "cell_type": "code",
   "execution_count": 26,
   "metadata": {},
   "outputs": [
    {
     "data": {
      "text/plain": [
       "[ToolCall(function_name='search_database', arguments=ToolArguments(collection_name='BostonRestaurants', search_query=None, integer_property_filter=IntegerPropertyFilter(property_name='averageRating', operator='>', value=4.0), text_property_filter=None, boolean_property_filter=None, integer_property_aggregation=IntegerPropertyAggregation(property_name='averageRating', metrics='COUNT'), text_property_aggregation=None, boolean_property_aggregation=None, groupby_property=None))]"
      ]
     },
     "execution_count": 26,
     "metadata": {},
     "output_type": "execute_result"
    }
   ],
   "source": [
    "parsed_response.tool_calls"
   ]
  }
 ],
 "metadata": {
  "kernelspec": {
   "display_name": "Python 3",
   "language": "python",
   "name": "python3"
  },
  "language_info": {
   "codemirror_mode": {
    "name": "ipython",
    "version": 3
   },
   "file_extension": ".py",
   "mimetype": "text/x-python",
   "name": "python",
   "nbconvert_exporter": "python",
   "pygments_lexer": "ipython3",
   "version": "3.10.10"
  }
 },
 "nbformat": 4,
 "nbformat_minor": 2
}
