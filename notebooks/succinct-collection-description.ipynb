{
 "cells": [
  {
   "cell_type": "markdown",
   "metadata": {},
   "source": [
    "# Succinct Collections Description\n",
    "\n",
    "One of the key challenges with Function Calling is that you can only use **1024 tokens** to describe the tool."
   ]
  },
  {
   "cell_type": "code",
   "execution_count": 1,
   "metadata": {},
   "outputs": [
    {
     "name": "stderr",
     "output_type": "stream",
     "text": [
      "/Library/Frameworks/Python.framework/Versions/3.10/lib/python3.10/site-packages/weaviate/warnings.py:133: DeprecationWarning: Dep005: You are using weaviate-client version 2.5.1.dev2434+g7589c2f. The latest version is 4.9.3.\n",
      "            Consider upgrading to the latest version. See https://weaviate.io/developers/weaviate/client-libraries/python for details.\n",
      "  warnings.warn(\n"
     ]
    },
    {
     "data": {
      "text/plain": [
       "{'StaffMembers': _CollectionConfigSimple(name='StaffMembers', description=\"The StaffMembers collection maintains information about the restaurant's staff, including their names, experience, and current duty status. This collection is essential for scheduling and managing staffing levels.\", generative_config=None, properties=[_Property(name='staffName', description='The name of the staff member.', data_type=<DataType.TEXT: 'text'>, index_filterable=True, index_range_filters=False, index_searchable=True, nested_properties=None, tokenization=<Tokenization.WHITESPACE: 'whitespace'>, vectorizer_config=_PropertyVectorizerConfig(skip=False, vectorize_property_name=False), vectorizer='text2vec-transformers'), _Property(name='experienceYears', description='The number of years of experience the staff member has.', data_type=<DataType.NUMBER: 'number'>, index_filterable=True, index_range_filters=False, index_searchable=False, nested_properties=None, tokenization=None, vectorizer_config=_PropertyVectorizerConfig(skip=False, vectorize_property_name=False), vectorizer='text2vec-transformers'), _Property(name='isOnDuty', description='Indicates if the staff member is currently on duty.', data_type=<DataType.BOOL: 'boolean'>, index_filterable=True, index_range_filters=False, index_searchable=False, nested_properties=None, tokenization=None, vectorizer_config=_PropertyVectorizerConfig(skip=False, vectorize_property_name=False), vectorizer='text2vec-transformers')], references=[], reranker_config=None, vectorizer_config=_VectorizerConfig(vectorizer=<Vectorizers.TEXT2VEC_TRANSFORMERS: 'text2vec-transformers'>, model={'poolingStrategy': 'masked_mean'}, vectorize_collection_name=True), vectorizer=<Vectorizers.TEXT2VEC_TRANSFORMERS: 'text2vec-transformers'>, vector_config=None),\n",
       " 'RestaurantMenu': _CollectionConfigSimple(name='RestaurantMenu', description='The RestaurantMenu collection stores details about each dish offered in a restaurant, including their names, prices, and vegetarian status. This information allows for menu management and facilitates the creation of customer-friendly menu displays.', generative_config=None, properties=[_Property(name='dishName', description='The name of the dish offered in the restaurant menu.', data_type=<DataType.TEXT: 'text'>, index_filterable=True, index_range_filters=False, index_searchable=True, nested_properties=None, tokenization=<Tokenization.WHITESPACE: 'whitespace'>, vectorizer_config=_PropertyVectorizerConfig(skip=False, vectorize_property_name=False), vectorizer='text2vec-transformers'), _Property(name='price', description='The price of the dish.', data_type=<DataType.NUMBER: 'number'>, index_filterable=True, index_range_filters=False, index_searchable=False, nested_properties=None, tokenization=None, vectorizer_config=_PropertyVectorizerConfig(skip=False, vectorize_property_name=False), vectorizer='text2vec-transformers'), _Property(name='isVegetarian', description='Indicates if the dish is vegetarian.', data_type=<DataType.BOOL: 'boolean'>, index_filterable=True, index_range_filters=False, index_searchable=False, nested_properties=None, tokenization=None, vectorizer_config=_PropertyVectorizerConfig(skip=False, vectorize_property_name=False), vectorizer='text2vec-transformers')], references=[], reranker_config=None, vectorizer_config=_VectorizerConfig(vectorizer=<Vectorizers.TEXT2VEC_TRANSFORMERS: 'text2vec-transformers'>, model={'poolingStrategy': 'masked_mean'}, vectorize_collection_name=True), vectorizer=<Vectorizers.TEXT2VEC_TRANSFORMERS: 'text2vec-transformers'>, vector_config=None),\n",
       " 'CustomerOrders': _CollectionConfigSimple(name='CustomerOrders', description='The CustomerOrders collection captures details of customer orders, including their names, total amounts, and whether the orders are takeaway. This collection helps in processing orders and managing order histories.', generative_config=None, properties=[_Property(name='customerName', description='The name of the customer who places the order.', data_type=<DataType.TEXT: 'text'>, index_filterable=True, index_range_filters=False, index_searchable=True, nested_properties=None, tokenization=<Tokenization.WHITESPACE: 'whitespace'>, vectorizer_config=_PropertyVectorizerConfig(skip=False, vectorize_property_name=False), vectorizer='text2vec-transformers'), _Property(name='totalAmount', description=\"The total amount for the customer's order.\", data_type=<DataType.NUMBER: 'number'>, index_filterable=True, index_range_filters=False, index_searchable=False, nested_properties=None, tokenization=None, vectorizer_config=_PropertyVectorizerConfig(skip=False, vectorize_property_name=False), vectorizer='text2vec-transformers'), _Property(name='isTakeaway', description='Indicates whether the order is for takeaway or dine-in.', data_type=<DataType.BOOL: 'boolean'>, index_filterable=True, index_range_filters=False, index_searchable=False, nested_properties=None, tokenization=None, vectorizer_config=_PropertyVectorizerConfig(skip=False, vectorize_property_name=False), vectorizer='text2vec-transformers')], references=[], reranker_config=None, vectorizer_config=_VectorizerConfig(vectorizer=<Vectorizers.TEXT2VEC_TRANSFORMERS: 'text2vec-transformers'>, model={'poolingStrategy': 'masked_mean'}, vectorize_collection_name=True), vectorizer=<Vectorizers.TEXT2VEC_TRANSFORMERS: 'text2vec-transformers'>, vector_config=None)}"
      ]
     },
     "execution_count": 1,
     "metadata": {},
     "output_type": "execute_result"
    }
   ],
   "source": [
    "import weaviate\n",
    "\n",
    "weaviate_client = weaviate.connect_to_local()\n",
    "\n",
    "weaviate_client.collections.list_all()"
   ]
  },
  {
   "cell_type": "code",
   "execution_count": 7,
   "metadata": {},
   "outputs": [],
   "source": [
    "def get_collections_info(client: weaviate.WeaviateClient) -> tuple[str, list[str]]:\n",
    "    \"\"\"\n",
    "    Get detailed information about all collections in a Weaviate instance.\n",
    "    \n",
    "    Args:\n",
    "        client: A Weaviate client instance\n",
    "    \n",
    "    Returns:\n",
    "        tuple[str, list[str]]: Tuple containing formatted collection details string and list of collection names\n",
    "    \"\"\"\n",
    "    \n",
    "    collections = client.collections.list_all()\n",
    "    \n",
    "    # Get collection names as list\n",
    "    collection_names = list(collections.keys())\n",
    "    \n",
    "    # Build output string\n",
    "    output = []\n",
    "    for collection_name, config in collections.items():\n",
    "        output.append(f\"\\nCollection Name: {collection_name}\")\n",
    "        # output.append(f\"Description: {config.description}\")\n",
    "        output.append(\"\\nProperties:\")\n",
    "        for prop in config.properties:\n",
    "            output.append(f\"- {prop.name}: {prop.description} (type: {prop.data_type.value})\")\n",
    "    \n",
    "    return \"\\n\".join(output), collection_names"
   ]
  },
  {
   "cell_type": "code",
   "execution_count": 8,
   "metadata": {},
   "outputs": [
    {
     "name": "stdout",
     "output_type": "stream",
     "text": [
      "\n",
      "Collection Name: RestaurantMenu\n",
      "\n",
      "Properties:\n",
      "- dishName: The name of the dish offered in the restaurant menu. (type: text)\n",
      "- price: The price of the dish. (type: number)\n",
      "- isVegetarian: Indicates if the dish is vegetarian. (type: boolean)\n",
      "\n",
      "Collection Name: CustomerOrders\n",
      "\n",
      "Properties:\n",
      "- customerName: The name of the customer who places the order. (type: text)\n",
      "- totalAmount: The total amount for the customer's order. (type: number)\n",
      "- isTakeaway: Indicates whether the order is for takeaway or dine-in. (type: boolean)\n",
      "\n",
      "Collection Name: StaffMembers\n",
      "\n",
      "Properties:\n",
      "- staffName: The name of the staff member. (type: text)\n",
      "- experienceYears: The number of years of experience the staff member has. (type: number)\n",
      "- isOnDuty: Indicates if the staff member is currently on duty. (type: boolean)\n"
     ]
    }
   ],
   "source": [
    "collections_info, _ = get_collections_info(weaviate_client)\n",
    "print(collections_info)"
   ]
  },
  {
   "cell_type": "code",
   "execution_count": 9,
   "metadata": {},
   "outputs": [
    {
     "data": {
      "text/plain": [
       "790"
      ]
     },
     "execution_count": 9,
     "metadata": {},
     "output_type": "execute_result"
    }
   ],
   "source": [
    "len(collections_info)"
   ]
  }
 ],
 "metadata": {
  "kernelspec": {
   "display_name": "Python 3",
   "language": "python",
   "name": "python3"
  },
  "language_info": {
   "codemirror_mode": {
    "name": "ipython",
    "version": 3
   },
   "file_extension": ".py",
   "mimetype": "text/x-python",
   "name": "python",
   "nbconvert_exporter": "python",
   "pygments_lexer": "ipython3",
   "version": "3.10.10"
  }
 },
 "nbformat": 4,
 "nbformat_minor": 2
}
