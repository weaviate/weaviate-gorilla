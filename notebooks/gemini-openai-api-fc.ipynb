{
 "cells": [
  {
   "cell_type": "code",
   "execution_count": 9,
   "metadata": {},
   "outputs": [
    {
     "name": "stdout",
     "output_type": "stream",
     "text": [
      "ChatCompletionMessage(content='Artificial intelligence (AI) is a broad field encompassing many techniques, but at its core, it aims to create systems that can perform tasks that typically require human intelligence.  These tasks include things like learning, reasoning, problem-solving, perception, and natural language understanding.  There\\'s no single \"how\" AI works, as different AI approaches use different methods.  However, we can break down some common underlying principles:\\n\\n**1. Data is King:**  Most AI systems rely heavily on data.  The more relevant and high-quality data you feed an AI system, the better it will perform.  This data is used to train the AI model.\\n\\n**2. Algorithms are the Engine:**  Algorithms are sets of rules and statistical techniques that the AI uses to process the data. These algorithms allow the AI to learn patterns, make predictions, and improve its performance over time.  Different algorithms are suited to different tasks.  Examples include:\\n\\n* **Machine Learning (ML):** This is a subset of AI where systems learn from data without explicit programming.  Instead of being explicitly programmed with rules, they identify patterns and make predictions based on the data.  This is the most common approach to AI today.  Within ML, there are several subfields:\\n    * **Supervised Learning:** The algorithm is trained on a labeled dataset (data with known inputs and outputs).  It learns to map inputs to outputs.  Examples include image classification (identifying objects in images) and spam detection.\\n    * **Unsupervised Learning:** The algorithm is trained on an unlabeled dataset.  It identifies patterns and structures in the data without explicit guidance.  Examples include clustering (grouping similar data points) and dimensionality reduction.\\n    * **Reinforcement Learning:** The algorithm learns through trial and error by interacting with an environment.  It receives rewards for desirable actions and penalties for undesirable actions.  Examples include game playing (e.g., AlphaGo) and robotics.\\n\\n* **Deep Learning (DL):** A subfield of machine learning that uses artificial neural networks with multiple layers (hence \"deep\").  These networks are inspired by the structure and function of the human brain and are particularly effective at processing complex data like images, audio, and text.  Examples include image recognition, natural language processing, and speech recognition.\\n\\n* **Expert Systems:** These systems use a knowledge base of rules and facts to make decisions.  They\\'re less common now, often overshadowed by machine learning approaches.\\n\\n**3. Models are the Representation:**  The algorithm processes the data and creates a model, which is a mathematical representation of the patterns and relationships learned from the data. This model is used to make predictions or decisions on new, unseen data.\\n\\n**4. Evaluation and Improvement:**  The performance of the AI system is evaluated using various metrics.  Based on the evaluation, the model can be refined, retrained, or improved. This iterative process is crucial for building robust and accurate AI systems.\\n\\n\\nIn short, AI works by using algorithms to find patterns in data, build models that represent those patterns, and then use those models to make predictions or decisions.  The specific techniques used depend on the task and the available data.  It\\'s a constantly evolving field with new approaches and advancements being made regularly.\\n', refusal=None, role='assistant', audio=None, function_call=None, tool_calls=[])\n"
     ]
    }
   ],
   "source": [
    "from openai import OpenAI\n",
    "client = OpenAI(\n",
    "    api_key = \"\",\n",
    "    base_url=\"https://generativelanguage.googleapis.com/v1beta/\"\n",
    ")\n",
    "\n",
    "\n",
    "response = client.chat.completions.create(\n",
    "    model=\"gemini-1.5-flash\",\n",
    "    n=1,\n",
    "    messages=[\n",
    "        {\"role\": \"system\", \"content\": \"You are a helpful assistant.\"},\n",
    "        {\n",
    "            \"role\": \"user\",\n",
    "            \"content\": \"Explain to me how AI works\"\n",
    "        }\n",
    "    ]\n",
    ")\n",
    "\n",
    "print(response.choices[0].message)"
   ]
  },
  {
   "cell_type": "code",
   "execution_count": 2,
   "metadata": {},
   "outputs": [],
   "source": [
    "from pydantic import BaseModel\n",
    "from typing import Optional, Literal\n",
    "\n",
    "class ParameterProperty(BaseModel):\n",
    "    type: str\n",
    "    description: str\n",
    "    enum: Optional[list[str]] = None\n",
    "\n",
    "\n",
    "class Parameters(BaseModel):\n",
    "    type: Literal[\"object\"]\n",
    "    properties: dict[str, ParameterProperty]\n",
    "    required: Optional[list[str]]\n",
    "\n",
    "\n",
    "class Function(BaseModel):\n",
    "    name: str\n",
    "    description: str\n",
    "    parameters: Parameters\n",
    "\n",
    "\n",
    "class Tool(BaseModel):\n",
    "    type: Literal[\"function\"]\n",
    "    function: Function"
   ]
  },
  {
   "cell_type": "code",
   "execution_count": 3,
   "metadata": {},
   "outputs": [],
   "source": [
    "tools = [Tool(\n",
    "    type=\"function\",\n",
    "    function=Function(\n",
    "        name=\"search_weaviate\",\n",
    "        description=\"Search a Database containing information about Weaviate.\",\n",
    "        parameters=Parameters(\n",
    "            type=\"object\",\n",
    "            properties={\n",
    "                \"search_query\": ParameterProperty(\n",
    "                    type=\"string\",\n",
    "                    description=\"The natural language query to search for in the database\"\n",
    "                )\n",
    "            },\n",
    "            required=[\"search_query\"]\n",
    "        )\n",
    "    )\n",
    ")]"
   ]
  },
  {
   "cell_type": "code",
   "execution_count": 10,
   "metadata": {},
   "outputs": [
    {
     "name": "stdout",
     "output_type": "stream",
     "text": [
      "Choice(finish_reason='stop', index=0, logprobs=None, message=ChatCompletionMessage(content=None, refusal=None, role='assistant', audio=None, function_call=None, tool_calls=[ChatCompletionMessageToolCall(id='0', function=Function(arguments='{\"search_query\":\"What was released in Weaviate version 1.27?\"}', name='search_weaviate'), type='function')]))\n"
     ]
    }
   ],
   "source": [
    "messages = [\n",
    "    {\n",
    "        \"role\": \"system\",\n",
    "        \"content\": \"You are a helpful assistant. Use the supplied tools to assist the user.\"\n",
    "    },\n",
    "    {\n",
    "        \"role\": \"user\",\n",
    "        \"content\": \"What did Weaviate release in 1.27?\"\n",
    "    }\n",
    "]\n",
    "\n",
    "def generate(lm_client, messages, tools):\n",
    "    return lm_client.chat.completions.create(\n",
    "        model=\"gemini-2.0-flash-exp\",\n",
    "        messages=messages,\n",
    "        tools=tools\n",
    "    ).choices[0]\n",
    "\n",
    "\n",
    "response = generate(client, messages, tools)\n",
    "\n",
    "print(response)"
   ]
  },
  {
   "cell_type": "code",
   "execution_count": null,
   "metadata": {},
   "outputs": [],
   "source": []
  }
 ],
 "metadata": {
  "kernelspec": {
   "display_name": "Python 3",
   "language": "python",
   "name": "python3"
  },
  "language_info": {
   "codemirror_mode": {
    "name": "ipython",
    "version": 3
   },
   "file_extension": ".py",
   "mimetype": "text/x-python",
   "name": "python",
   "nbconvert_exporter": "python",
   "pygments_lexer": "ipython3",
   "version": "3.10.10"
  }
 },
 "nbformat": 4,
 "nbformat_minor": 2
}
