{
 "cells": [
  {
   "cell_type": "code",
   "execution_count": 1,
   "metadata": {},
   "outputs": [
    {
     "name": "stdout",
     "output_type": "stream",
     "text": [
      "ChatCompletionMessage(content='Artificial intelligence (AI) is a vast and complex field, but at its core, it\\'s about creating systems that can perform tasks that typically require human intelligence.  This includes things like learning, problem-solving, decision-making, perception, and understanding language.  There\\'s no single \"how it works\" answer, as different AI approaches use different techniques. However, we can break down the common principles:\\n\\n**1. Data is King:**  AI systems learn from data.  The more data you feed them, the better they generally perform. This data can be anything from images and text to sensor readings and financial transactions.  The quality and quantity of this data are crucial.  Garbage in, garbage out is a common saying in AI.\\n\\n**2. Algorithms are the Engine:**  Algorithms are sets of instructions that tell the computer how to process the data.  These algorithms are designed to extract patterns, make predictions, and improve their performance over time.  Different types of AI use different algorithms.\\n\\n**3. Learning Techniques:**  This is where the \"intelligence\" comes in.  There are several key learning techniques:\\n\\n* **Supervised Learning:**  The algorithm is trained on a labeled dataset, meaning the data is already tagged with the correct answers.  For example, showing an AI thousands of pictures of cats and dogs, labeled accordingly, teaches it to distinguish between them.\\n* **Unsupervised Learning:** The algorithm is given unlabeled data and must find patterns and structures on its own.  This is used for tasks like clustering similar data points or dimensionality reduction.\\n* **Reinforcement Learning:** The algorithm learns through trial and error, receiving rewards for correct actions and penalties for incorrect ones. This is often used to train AI agents to play games or control robots.\\n* **Deep Learning:** This is a subfield of machine learning that uses artificial neural networks with multiple layers (hence \"deep\") to analyze data.  These networks are inspired by the structure and function of the human brain.  Deep learning is particularly powerful for complex tasks like image recognition, natural language processing, and speech recognition.\\n\\n**4. Models are the Result:** After training on data using algorithms and learning techniques, the AI system creates a \"model.\"  This model is essentially a representation of the patterns and relationships learned from the data.  This model is then used to make predictions or decisions on new, unseen data.\\n\\n**5. Evaluation and Improvement:**  AI systems are constantly evaluated to measure their performance.  Metrics vary depending on the task, but might include accuracy, precision, recall, or efficiency.  Based on this evaluation, the system can be further refined and improved.  This is an iterative process.\\n\\n**Examples of AI in Action:**\\n\\n* **Image Recognition:**  Identifying objects, faces, or scenes in images.\\n* **Natural Language Processing (NLP):**  Understanding and generating human language, used in chatbots, translation software, and sentiment analysis.\\n* **Recommendation Systems:**  Suggesting products or content based on user preferences.\\n* **Self-driving Cars:**  Using sensors and AI to navigate and drive autonomously.\\n\\n\\nIn short, AI is about building systems that can learn from data, make predictions, and solve problems using sophisticated algorithms and learning techniques.  It\\'s a rapidly evolving field, with new approaches and applications constantly emerging.\\n', refusal=None, role='model', audio=None, function_call=None, tool_calls=[])\n"
     ]
    }
   ],
   "source": [
    "from openai import OpenAI\n",
    "client = OpenAI(\n",
    "    api_key = \"\",\n",
    "    base_url=\"https://generativelanguage.googleapis.com/v1beta/\"\n",
    ")\n",
    "\n",
    "\n",
    "response = client.chat.completions.create(\n",
    "    model=\"gemini-1.5-flash\",\n",
    "    n=1,\n",
    "    messages=[\n",
    "        {\"role\": \"system\", \"content\": \"You are a helpful assistant.\"},\n",
    "        {\n",
    "            \"role\": \"user\",\n",
    "            \"content\": \"Explain to me how AI works\"\n",
    "        }\n",
    "    ]\n",
    ")\n",
    "\n",
    "print(response.choices[0].message)"
   ]
  },
  {
   "cell_type": "code",
   "execution_count": 2,
   "metadata": {},
   "outputs": [],
   "source": [
    "from pydantic import BaseModel\n",
    "from typing import Optional, Literal\n",
    "\n",
    "class ParameterProperty(BaseModel):\n",
    "    type: str\n",
    "    description: str\n",
    "    enum: Optional[list[str]] = None\n",
    "\n",
    "\n",
    "class Parameters(BaseModel):\n",
    "    type: Literal[\"object\"]\n",
    "    properties: dict[str, ParameterProperty]\n",
    "    required: Optional[list[str]]\n",
    "\n",
    "\n",
    "class Function(BaseModel):\n",
    "    name: str\n",
    "    description: str\n",
    "    parameters: Parameters\n",
    "\n",
    "\n",
    "class Tool(BaseModel):\n",
    "    type: Literal[\"function\"]\n",
    "    function: Function"
   ]
  },
  {
   "cell_type": "code",
   "execution_count": 3,
   "metadata": {},
   "outputs": [],
   "source": [
    "tools = [Tool(\n",
    "    type=\"function\",\n",
    "    function=Function(\n",
    "        name=\"search_weaviate\",\n",
    "        description=\"Search a Database containing information about Weaviate.\",\n",
    "        parameters=Parameters(\n",
    "            type=\"object\",\n",
    "            properties={\n",
    "                \"search_query\": ParameterProperty(\n",
    "                    type=\"string\",\n",
    "                    description=\"The natural language query to search for in the database\"\n",
    "                )\n",
    "            },\n",
    "            required=[\"search_query\"]\n",
    "        )\n",
    "    )\n",
    ")]"
   ]
  },
  {
   "cell_type": "code",
   "execution_count": 7,
   "metadata": {},
   "outputs": [
    {
     "name": "stdout",
     "output_type": "stream",
     "text": [
      "Choice(finish_reason='stop', index=0, logprobs=None, message=ChatCompletionMessage(content=None, refusal=None, role='model', audio=None, function_call=None, tool_calls=[ChatCompletionMessageToolCall(id='0', function=Function(arguments='{\"search_query\":\"What was released in Weaviate v1.27?\"}', name='search_weaviate'), type='function')]))\n"
     ]
    }
   ],
   "source": [
    "messages = [\n",
    "    {\n",
    "        \"role\": \"system\",\n",
    "        \"content\": \"You are a helpful assistant. Use the supplied tools to assist the user.\"\n",
    "    },\n",
    "    {\n",
    "        \"role\": \"user\",\n",
    "        \"content\": \"What did Weaviate release in 1.27?\"\n",
    "    }\n",
    "]\n",
    "\n",
    "def generate(lm_client, messages, tools):\n",
    "    return lm_client.chat.completions.create(\n",
    "        model=\"gemini-1.5-pro\",\n",
    "        messages=messages,\n",
    "        tools=tools\n",
    "    ).choices[0]\n",
    "\n",
    "\n",
    "response = generate(client, messages, tools)\n",
    "\n",
    "print(response)"
   ]
  },
  {
   "cell_type": "code",
   "execution_count": null,
   "metadata": {},
   "outputs": [],
   "source": []
  }
 ],
 "metadata": {
  "kernelspec": {
   "display_name": "Python 3",
   "language": "python",
   "name": "python3"
  },
  "language_info": {
   "codemirror_mode": {
    "name": "ipython",
    "version": 3
   },
   "file_extension": ".py",
   "mimetype": "text/x-python",
   "name": "python",
   "nbconvert_exporter": "python",
   "pygments_lexer": "ipython3",
   "version": "3.10.10"
  }
 },
 "nbformat": 4,
 "nbformat_minor": 2
}
