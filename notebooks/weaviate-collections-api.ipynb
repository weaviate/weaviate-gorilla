{
 "cells": [
  {
   "cell_type": "code",
   "execution_count": 1,
   "metadata": {},
   "outputs": [],
   "source": [
    "import weaviate"
   ]
  },
  {
   "cell_type": "code",
   "execution_count": 2,
   "metadata": {},
   "outputs": [],
   "source": [
    "import json\n",
    "import os\n",
    "\n",
    "# Read the aquarium schema JSON file\n",
    "schema_path = os.path.join(\"..\", \"data\", \"ToySchemas\", \"aquarium.json\")\n",
    "with open(schema_path, \"r\") as f:\n",
    "    aquarium_schema = json.load(f)"
   ]
  },
  {
   "cell_type": "code",
   "execution_count": 4,
   "metadata": {},
   "outputs": [
    {
     "data": {
      "text/plain": [
       "{'classes': [{'class': 'Aquarium',\n",
       "   'description': 'An aquarium containing fish.',\n",
       "   'vectorIndexType': 'hnsw',\n",
       "   'vectorizer': 'text2vec-transformers',\n",
       "   'properties': [{'name': 'name',\n",
       "     'dataType': ['text'],\n",
       "     'description': 'Name of the aquarium.'},\n",
       "    {'name': 'location',\n",
       "     'dataType': ['text'],\n",
       "     'description': 'Location of the aquarium.'},\n",
       "    {'name': 'waterVolume',\n",
       "     'dataType': ['number'],\n",
       "     'description': 'Water volume of the aquarium in liters.'},\n",
       "    {'name': 'hasMarineFish',\n",
       "     'dataType': ['boolean'],\n",
       "     'description': 'Does the aquarium have marine fish?'},\n",
       "    {'name': 'caretaker',\n",
       "     'dataType': ['Aquarist'],\n",
       "     'description': 'Aquarist taking care of the aquarium.'}]},\n",
       "  {'class': 'Aquarist',\n",
       "   'description': 'A person who takes care of aquariums.',\n",
       "   'vectorIndexType': 'hnsw',\n",
       "   'vectorizer': 'text2vec-transformers',\n",
       "   'properties': [{'name': 'name',\n",
       "     'dataType': ['text'],\n",
       "     'description': 'Name of the aquarist.'},\n",
       "    {'name': 'yearsExperience',\n",
       "     'dataType': ['int'],\n",
       "     'description': 'Years of experience as an aquarist.'}]}]}"
      ]
     },
     "execution_count": 4,
     "metadata": {},
     "output_type": "execute_result"
    }
   ],
   "source": [
    "aquarium_schema"
   ]
  },
  {
   "cell_type": "code",
   "execution_count": 6,
   "metadata": {},
   "outputs": [
    {
     "name": "stdout",
     "output_type": "stream",
     "text": [
      "{'error': [{'message': \"property 'caretaker': invalid dataType: reference property to nonexistent class\"}]}\n"
     ]
    }
   ],
   "source": [
    "import requests\n",
    "\n",
    "url = \"http://localhost:8080/v1/schema\"\n",
    "\n",
    "payload = aquarium_schema['classes'][0]\n",
    "\n",
    "response = requests.post(url, json=payload)\n",
    "\n",
    "print(response.json())"
   ]
  },
  {
   "cell_type": "code",
   "execution_count": null,
   "metadata": {},
   "outputs": [],
   "source": []
  }
 ],
 "metadata": {
  "kernelspec": {
   "display_name": "Python 3",
   "language": "python",
   "name": "python3"
  },
  "language_info": {
   "codemirror_mode": {
    "name": "ipython",
    "version": 3
   },
   "file_extension": ".py",
   "mimetype": "text/x-python",
   "name": "python",
   "nbconvert_exporter": "python",
   "pygments_lexer": "ipython3",
   "version": "3.10.10"
  }
 },
 "nbformat": 4,
 "nbformat_minor": 2
}
