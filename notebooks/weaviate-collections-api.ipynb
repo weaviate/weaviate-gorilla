{
 "cells": [
  {
   "cell_type": "markdown",
   "metadata": {},
   "source": [
    "# Create Schema with a POST request"
   ]
  },
  {
   "cell_type": "code",
   "execution_count": 1,
   "metadata": {},
   "outputs": [],
   "source": [
    "import weaviate"
   ]
  },
  {
   "cell_type": "code",
   "execution_count": 7,
   "metadata": {},
   "outputs": [],
   "source": [
    "import json\n",
    "import os\n",
    "\n",
    "# Read the aquarium schema JSON file\n",
    "schema_path = os.path.join(\"..\", \"data\", \"demo-schema.json\")\n",
    "with open(schema_path, \"r\") as f:\n",
    "    aquarium_schema = json.load(f)"
   ]
  },
  {
   "cell_type": "code",
   "execution_count": 8,
   "metadata": {},
   "outputs": [
    {
     "data": {
      "text/plain": [
       "{'classes': [{'class': 'Aquarium',\n",
       "   'description': 'An aquarium containing fish.',\n",
       "   'vectorIndexType': 'hnsw',\n",
       "   'vectorizer': 'text2vec-transformers',\n",
       "   'properties': [{'name': 'name',\n",
       "     'dataType': ['text'],\n",
       "     'description': 'Name of the aquarium.'},\n",
       "    {'name': 'location',\n",
       "     'dataType': ['text'],\n",
       "     'description': 'Location of the aquarium.'},\n",
       "    {'name': 'waterVolume',\n",
       "     'dataType': ['number'],\n",
       "     'description': 'Water volume of the aquarium in liters.'},\n",
       "    {'name': 'hasMarineFish',\n",
       "     'dataType': ['boolean'],\n",
       "     'description': 'Does the aquarium have marine fish?'}]},\n",
       "  {'class': 'Aquarist',\n",
       "   'description': 'A person who takes care of aquariums.',\n",
       "   'vectorIndexType': 'hnsw',\n",
       "   'vectorizer': 'text2vec-transformers',\n",
       "   'properties': [{'name': 'name',\n",
       "     'dataType': ['text'],\n",
       "     'description': 'Name of the aquarist.'},\n",
       "    {'name': 'yearsExperience',\n",
       "     'dataType': ['int'],\n",
       "     'description': 'Years of experience as an aquarist.'}]}]}"
      ]
     },
     "execution_count": 8,
     "metadata": {},
     "output_type": "execute_result"
    }
   ],
   "source": [
    "aquarium_schema"
   ]
  },
  {
   "cell_type": "code",
   "execution_count": 17,
   "metadata": {},
   "outputs": [
    {
     "name": "stdout",
     "output_type": "stream",
     "text": [
      "{'code': 400, 'message': 'parsing objectClass body from \"\" failed, because json: cannot unmarshal array into Go value of type models.Class'}\n"
     ]
    }
   ],
   "source": [
    "import requests\n",
    "\n",
    "url = \"http://localhost:8080/v1/schema\"\n",
    "\n",
    "payload = aquarium_schema['classes'][0]\n",
    "\n",
    "response = requests.post(url, json=payload)\n",
    "\n",
    "print(response.json())"
   ]
  },
  {
   "cell_type": "markdown",
   "metadata": {},
   "source": [
    "# Parse `collections.list_all()`"
   ]
  },
  {
   "cell_type": "code",
   "execution_count": 14,
   "metadata": {},
   "outputs": [
    {
     "data": {
      "text/plain": [
       "{'Aquarium': _CollectionConfigSimple(name='Aquarium', description='An aquarium containing fish.', generative_config=None, properties=[_Property(name='name', description='Name of the aquarium.', data_type=<DataType.TEXT: 'text'>, index_filterable=True, index_searchable=True, nested_properties=None, tokenization=<Tokenization.WORD: 'word'>, vectorizer_config=_PropertyVectorizerConfig(skip=False, vectorize_property_name=False), vectorizer='text2vec-transformers'), _Property(name='location', description='Location of the aquarium.', data_type=<DataType.TEXT: 'text'>, index_filterable=True, index_searchable=True, nested_properties=None, tokenization=<Tokenization.WORD: 'word'>, vectorizer_config=_PropertyVectorizerConfig(skip=False, vectorize_property_name=False), vectorizer='text2vec-transformers'), _Property(name='waterVolume', description='Water volume of the aquarium in liters.', data_type=<DataType.NUMBER: 'number'>, index_filterable=True, index_searchable=False, nested_properties=None, tokenization=None, vectorizer_config=_PropertyVectorizerConfig(skip=False, vectorize_property_name=False), vectorizer='text2vec-transformers'), _Property(name='hasMarineFish', description='Does the aquarium have marine fish?', data_type=<DataType.BOOL: 'boolean'>, index_filterable=True, index_searchable=False, nested_properties=None, tokenization=None, vectorizer_config=_PropertyVectorizerConfig(skip=False, vectorize_property_name=False), vectorizer='text2vec-transformers')], references=[], reranker_config=None, vectorizer_config=_VectorizerConfig(vectorizer=<Vectorizers.TEXT2VEC_TRANSFORMERS: 'text2vec-transformers'>, model={'poolingStrategy': 'masked_mean'}, vectorize_collection_name=True), vectorizer=<Vectorizers.TEXT2VEC_TRANSFORMERS: 'text2vec-transformers'>, vector_config=None)}"
      ]
     },
     "execution_count": 14,
     "metadata": {},
     "output_type": "execute_result"
    }
   ],
   "source": [
    "import weaviate\n",
    "\n",
    "weaviate_client = weaviate.connect_to_local()\n",
    "\n",
    "weaviate_client.collections.list_all()"
   ]
  },
  {
   "cell_type": "code",
   "execution_count": 16,
   "metadata": {},
   "outputs": [
    {
     "name": "stdout",
     "output_type": "stream",
     "text": [
      "Collection names: ['Aquarium']\n"
     ]
    }
   ],
   "source": [
    "# Get list of collection names from the response\n",
    "collection_names = list(weaviate_client.collections.list_all().keys())\n",
    "print(f\"Collection names: {collection_names}\")"
   ]
  },
  {
   "cell_type": "code",
   "execution_count": null,
   "metadata": {},
   "outputs": [],
   "source": []
  }
 ],
 "metadata": {
  "kernelspec": {
   "display_name": "Python 3",
   "language": "python",
   "name": "python3"
  },
  "language_info": {
   "codemirror_mode": {
    "name": "ipython",
    "version": 3
   },
   "file_extension": ".py",
   "mimetype": "text/x-python",
   "name": "python",
   "nbconvert_exporter": "python",
   "pygments_lexer": "ipython3",
   "version": "3.10.10"
  }
 },
 "nbformat": 4,
 "nbformat_minor": 2
}
