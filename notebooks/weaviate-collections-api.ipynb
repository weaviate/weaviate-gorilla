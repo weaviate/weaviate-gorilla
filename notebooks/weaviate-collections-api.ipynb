{
 "cells": [
  {
   "cell_type": "markdown",
   "metadata": {},
   "source": [
    "# Create Schema with a POST request"
   ]
  },
  {
   "cell_type": "code",
   "execution_count": 10,
   "metadata": {},
   "outputs": [],
   "source": [
    "import weaviate"
   ]
  },
  {
   "cell_type": "code",
   "execution_count": 11,
   "metadata": {},
   "outputs": [],
   "source": [
    "import json\n",
    "import os\n",
    "\n",
    "# Read the aquarium schema JSON file\n",
    "schemas_path = os.path.join(\"..\", \"data\", \"simple-3-collection-schemas.json\")\n",
    "with open(schemas_path, \"r\") as f:\n",
    "    schemas = json.load(f)"
   ]
  },
  {
   "cell_type": "code",
   "execution_count": 12,
   "metadata": {},
   "outputs": [
    {
     "data": {
      "text/plain": [
       "{'properties': [{'name': 'patientName',\n",
       "   'data_type': ['text'],\n",
       "   'description': 'Name of the patient.'},\n",
       "  {'name': 'age',\n",
       "   'data_type': ['number'],\n",
       "   'description': 'Age of the patient.'},\n",
       "  {'name': 'admitted',\n",
       "   'data_type': ['boolean'],\n",
       "   'description': 'Indicates if the patient is currently admitted to the hospital.'}],\n",
       " 'class': 'HospitalPatients',\n",
       " 'description': 'The HospitalPatients collection tracks patient information, including their demographics and admission status. This is crucial for managing patient records and coordinating care with medical staff.',\n",
       " 'vectorIndexType': 'hnsw',\n",
       " 'vectorizer': 'text2vec-transformers'}"
      ]
     },
     "execution_count": 12,
     "metadata": {},
     "output_type": "execute_result"
    }
   ],
   "source": [
    "import json\n",
    "json_schema = json.loads(schemas[0])\n",
    "json_schema[\"weaviate_collections\"][0]"
   ]
  },
  {
   "cell_type": "code",
   "execution_count": 13,
   "metadata": {},
   "outputs": [
    {
     "data": {
      "text/plain": [
       "{'weaviate_collections': [{'properties': [{'name': 'patientName',\n",
       "     'data_type': ['text'],\n",
       "     'description': 'Name of the patient.'},\n",
       "    {'name': 'age',\n",
       "     'data_type': ['number'],\n",
       "     'description': 'Age of the patient.'},\n",
       "    {'name': 'admitted',\n",
       "     'data_type': ['boolean'],\n",
       "     'description': 'Indicates if the patient is currently admitted to the hospital.'}],\n",
       "   'class': 'HospitalPatients',\n",
       "   'description': 'The HospitalPatients collection tracks patient information, including their demographics and admission status. This is crucial for managing patient records and coordinating care with medical staff.',\n",
       "   'vectorIndexType': 'hnsw',\n",
       "   'vectorizer': 'text2vec-transformers'},\n",
       "  {'properties': [{'name': 'staffName',\n",
       "     'data_type': ['text'],\n",
       "     'description': 'Name of the medical staff member.'},\n",
       "    {'name': 'yearsOfExperience',\n",
       "     'data_type': ['number'],\n",
       "     'description': 'Number of years of experience the staff has.'},\n",
       "    {'name': 'onDuty',\n",
       "     'data_type': ['boolean'],\n",
       "     'description': 'Indicates if the staff member is currently on duty.'}],\n",
       "   'class': 'MedicalStaff',\n",
       "   'description': 'The MedicalStaff collection maintains records of hospital staff members, their experience, and current duty status. This allows efficient scheduling and assignment of staff to patients based on their needs and availability.',\n",
       "   'vectorIndexType': 'hnsw',\n",
       "   'vectorizer': 'text2vec-transformers'},\n",
       "  {'properties': [{'name': 'departmentName',\n",
       "     'data_type': ['text'],\n",
       "     'description': 'Name of the hospital department.'},\n",
       "    {'name': 'bedCapacity',\n",
       "     'data_type': ['number'],\n",
       "     'description': 'Number of beds available in the department.'},\n",
       "    {'name': 'operational',\n",
       "     'data_type': ['boolean'],\n",
       "     'description': 'Indicates if the department is currently operational.'}],\n",
       "   'class': 'HospitalDepartments',\n",
       "   'description': 'HospitalDepartments provides information on each department within the hospital, including their capacity and operational status. This helps in optimizing resource allocation and ensuring each department can handle patient load effectively.',\n",
       "   'vectorIndexType': 'hnsw',\n",
       "   'vectorizer': 'text2vec-transformers'}]}"
      ]
     },
     "execution_count": 13,
     "metadata": {},
     "output_type": "execute_result"
    }
   ],
   "source": [
    "json_schema"
   ]
  },
  {
   "cell_type": "code",
   "execution_count": 16,
   "metadata": {},
   "outputs": [
    {
     "name": "stdout",
     "output_type": "stream",
     "text": [
      "Sending schema for class HospitalPatients:\n",
      "{\"class\": \"HospitalPatients\", \"description\": \"The HospitalPatients collection tracks patient information, including their demographics and admission status. This is crucial for managing patient records and coordinating care with medical staff.\", \"properties\": [{\"name\": \"patientName\", \"description\": \"Name of the patient.\", \"dataType\": [\"text\"]}, {\"name\": \"age\", \"description\": \"Age of the patient.\", \"dataType\": [\"number\"]}, {\"name\": \"admitted\", \"description\": \"Indicates if the patient is currently admitted to the hospital.\", \"dataType\": [\"boolean\"]}], \"vectorizer\": \"text2vec-transformers\", \"vectorIndexType\": \"hnsw\"}\n",
      "Response status: 200\n",
      "Sending schema for class MedicalStaff:\n",
      "{\"class\": \"MedicalStaff\", \"description\": \"The MedicalStaff collection maintains records of hospital staff members, their experience, and current duty status. This allows efficient scheduling and assignment of staff to patients based on their needs and availability.\", \"properties\": [{\"name\": \"staffName\", \"description\": \"Name of the medical staff member.\", \"dataType\": [\"text\"]}, {\"name\": \"yearsOfExperience\", \"description\": \"Number of years of experience the staff has.\", \"dataType\": [\"number\"]}, {\"name\": \"onDuty\", \"description\": \"Indicates if the staff member is currently on duty.\", \"dataType\": [\"boolean\"]}], \"vectorizer\": \"text2vec-transformers\", \"vectorIndexType\": \"hnsw\"}\n",
      "Response status: 200\n",
      "Sending schema for class HospitalDepartments:\n",
      "{\"class\": \"HospitalDepartments\", \"description\": \"HospitalDepartments provides information on each department within the hospital, including their capacity and operational status. This helps in optimizing resource allocation and ensuring each department can handle patient load effectively.\", \"properties\": [{\"name\": \"departmentName\", \"description\": \"Name of the hospital department.\", \"dataType\": [\"text\"]}, {\"name\": \"bedCapacity\", \"description\": \"Number of beds available in the department.\", \"dataType\": [\"number\"]}, {\"name\": \"operational\", \"description\": \"Indicates if the department is currently operational.\", \"dataType\": [\"boolean\"]}], \"vectorizer\": \"text2vec-transformers\", \"vectorIndexType\": \"hnsw\"}\n",
      "Response status: 200\n"
     ]
    }
   ],
   "source": [
    "import requests\n",
    "\n",
    "url = \"http://localhost:8080/v1/schema\"\n",
    "\n",
    "# Post each class schema separately\n",
    "for class_schema in json_schema['weaviate_collections']:\n",
    "    # Make sure the schema has all required fields\n",
    "    if 'class' not in class_schema:\n",
    "        print(\"Error: Schema missing required 'class' field\")\n",
    "        continue\n",
    "        \n",
    "    # Create a clean schema object with only the required fields\n",
    "    clean_schema = {\n",
    "        'class': class_schema['class'],  # Use existing 'class' field\n",
    "        'description': class_schema.get('description', ''),\n",
    "        'properties': [\n",
    "            {\n",
    "                'name': prop['name'],\n",
    "                'description': prop.get('description', ''),\n",
    "                'dataType': prop['data_type']  # Weaviate expects dataType, not data_type\n",
    "            }\n",
    "            for prop in class_schema.get('properties', [])\n",
    "        ],\n",
    "        'vectorizer': class_schema.get('vectorizer', 'text2vec-transformers'),\n",
    "        'vectorIndexType': class_schema.get('vectorIndexType', 'hnsw'),\n",
    "    }\n",
    "    \n",
    "    # Convert to string\n",
    "    schema_str = json.dumps(clean_schema)\n",
    "    \n",
    "    print(f\"Sending schema for class {clean_schema['class']}:\")\n",
    "    print(schema_str)\n",
    "    \n",
    "    response = requests.post(\n",
    "        url, \n",
    "        data=schema_str,\n",
    "        headers={'Content-Type': 'application/json'}\n",
    "    )\n",
    "    \n",
    "    print(f\"Response status: {response.status_code}\")\n",
    "    if response.status_code != 200:\n",
    "        print(f\"Error response: {response.text}\")"
   ]
  },
  {
   "cell_type": "markdown",
   "metadata": {},
   "source": [
    "# Parse `collections.list_all()`"
   ]
  },
  {
   "cell_type": "code",
   "execution_count": 19,
   "metadata": {},
   "outputs": [
    {
     "name": "stderr",
     "output_type": "stream",
     "text": [
      "/var/folders/41/8dp_379x15d8zz4ppsjthdw40000gn/T/ipykernel_47028/1226633171.py:3: ResourceWarning: unclosed <socket.socket fd=76, family=AddressFamily.AF_INET6, type=SocketKind.SOCK_STREAM, proto=6, laddr=('::1', 50977, 0, 0), raddr=('::1', 8080, 0, 0)>\n",
      "  weaviate_client = weaviate.connect_to_local()\n",
      "ResourceWarning: Enable tracemalloc to get the object allocation traceback\n"
     ]
    },
    {
     "data": {
      "text/plain": [
       "{'HospitalDepartments': _CollectionConfigSimple(name='HospitalDepartments', description='HospitalDepartments provides information on each department within the hospital, including their capacity and operational status. This helps in optimizing resource allocation and ensuring each department can handle patient load effectively.', generative_config=None, properties=[_Property(name='departmentName', description='Name of the hospital department.', data_type=<DataType.TEXT: 'text'>, index_filterable=True, index_searchable=True, nested_properties=None, tokenization=<Tokenization.WORD: 'word'>, vectorizer_config=_PropertyVectorizerConfig(skip=False, vectorize_property_name=False), vectorizer='text2vec-transformers'), _Property(name='bedCapacity', description='Number of beds available in the department.', data_type=<DataType.NUMBER: 'number'>, index_filterable=True, index_searchable=False, nested_properties=None, tokenization=None, vectorizer_config=_PropertyVectorizerConfig(skip=False, vectorize_property_name=False), vectorizer='text2vec-transformers'), _Property(name='operational', description='Indicates if the department is currently operational.', data_type=<DataType.BOOL: 'boolean'>, index_filterable=True, index_searchable=False, nested_properties=None, tokenization=None, vectorizer_config=_PropertyVectorizerConfig(skip=False, vectorize_property_name=False), vectorizer='text2vec-transformers')], references=[], reranker_config=None, vectorizer_config=_VectorizerConfig(vectorizer=<Vectorizers.TEXT2VEC_TRANSFORMERS: 'text2vec-transformers'>, model={'poolingStrategy': 'masked_mean'}, vectorize_collection_name=True), vectorizer=<Vectorizers.TEXT2VEC_TRANSFORMERS: 'text2vec-transformers'>, vector_config=None),\n",
       " 'MedicalStaff': _CollectionConfigSimple(name='MedicalStaff', description='The MedicalStaff collection maintains records of hospital staff members, their experience, and current duty status. This allows efficient scheduling and assignment of staff to patients based on their needs and availability.', generative_config=None, properties=[_Property(name='staffName', description='Name of the medical staff member.', data_type=<DataType.TEXT: 'text'>, index_filterable=True, index_searchable=True, nested_properties=None, tokenization=<Tokenization.WORD: 'word'>, vectorizer_config=_PropertyVectorizerConfig(skip=False, vectorize_property_name=False), vectorizer='text2vec-transformers'), _Property(name='yearsOfExperience', description='Number of years of experience the staff has.', data_type=<DataType.NUMBER: 'number'>, index_filterable=True, index_searchable=False, nested_properties=None, tokenization=None, vectorizer_config=_PropertyVectorizerConfig(skip=False, vectorize_property_name=False), vectorizer='text2vec-transformers'), _Property(name='onDuty', description='Indicates if the staff member is currently on duty.', data_type=<DataType.BOOL: 'boolean'>, index_filterable=True, index_searchable=False, nested_properties=None, tokenization=None, vectorizer_config=_PropertyVectorizerConfig(skip=False, vectorize_property_name=False), vectorizer='text2vec-transformers')], references=[], reranker_config=None, vectorizer_config=_VectorizerConfig(vectorizer=<Vectorizers.TEXT2VEC_TRANSFORMERS: 'text2vec-transformers'>, model={'poolingStrategy': 'masked_mean'}, vectorize_collection_name=True), vectorizer=<Vectorizers.TEXT2VEC_TRANSFORMERS: 'text2vec-transformers'>, vector_config=None),\n",
       " 'HospitalPatients': _CollectionConfigSimple(name='HospitalPatients', description='The HospitalPatients collection tracks patient information, including their demographics and admission status. This is crucial for managing patient records and coordinating care with medical staff.', generative_config=None, properties=[_Property(name='patientName', description='Name of the patient.', data_type=<DataType.TEXT: 'text'>, index_filterable=True, index_searchable=True, nested_properties=None, tokenization=<Tokenization.WORD: 'word'>, vectorizer_config=_PropertyVectorizerConfig(skip=False, vectorize_property_name=False), vectorizer='text2vec-transformers'), _Property(name='age', description='Age of the patient.', data_type=<DataType.NUMBER: 'number'>, index_filterable=True, index_searchable=False, nested_properties=None, tokenization=None, vectorizer_config=_PropertyVectorizerConfig(skip=False, vectorize_property_name=False), vectorizer='text2vec-transformers'), _Property(name='admitted', description='Indicates if the patient is currently admitted to the hospital.', data_type=<DataType.BOOL: 'boolean'>, index_filterable=True, index_searchable=False, nested_properties=None, tokenization=None, vectorizer_config=_PropertyVectorizerConfig(skip=False, vectorize_property_name=False), vectorizer='text2vec-transformers')], references=[], reranker_config=None, vectorizer_config=_VectorizerConfig(vectorizer=<Vectorizers.TEXT2VEC_TRANSFORMERS: 'text2vec-transformers'>, model={'poolingStrategy': 'masked_mean'}, vectorize_collection_name=True), vectorizer=<Vectorizers.TEXT2VEC_TRANSFORMERS: 'text2vec-transformers'>, vector_config=None)}"
      ]
     },
     "execution_count": 19,
     "metadata": {},
     "output_type": "execute_result"
    }
   ],
   "source": [
    "import weaviate\n",
    "\n",
    "weaviate_client = weaviate.connect_to_local()\n",
    "\n",
    "weaviate_client.collections.list_all()"
   ]
  },
  {
   "cell_type": "code",
   "execution_count": 26,
   "metadata": {},
   "outputs": [
    {
     "name": "stdout",
     "output_type": "stream",
     "text": [
      "\n",
      "Collection Name: MedicalStaff\n",
      "Description: The MedicalStaff collection maintains records of hospital staff members, their experience, and current duty status. This allows efficient scheduling and assignment of staff to patients based on their needs and availability.\n",
      "\n",
      "Properties:\n",
      "- staffName: Name of the medical staff member. (type: text)\n",
      "- yearsOfExperience: Number of years of experience the staff has. (type: number)\n",
      "- onDuty: Indicates if the staff member is currently on duty. (type: boolean)\n",
      "\n",
      "Collection Name: HospitalPatients\n",
      "Description: The HospitalPatients collection tracks patient information, including their demographics and admission status. This is crucial for managing patient records and coordinating care with medical staff.\n",
      "\n",
      "Properties:\n",
      "- patientName: Name of the patient. (type: text)\n",
      "- age: Age of the patient. (type: number)\n",
      "- admitted: Indicates if the patient is currently admitted to the hospital. (type: boolean)\n",
      "\n",
      "Collection Name: HospitalDepartments\n",
      "Description: HospitalDepartments provides information on each department within the hospital, including their capacity and operational status. This helps in optimizing resource allocation and ensuring each department can handle patient load effectively.\n",
      "\n",
      "Properties:\n",
      "- departmentName: Name of the hospital department. (type: text)\n",
      "- bedCapacity: Number of beds available in the department. (type: number)\n",
      "- operational: Indicates if the department is currently operational. (type: boolean)\n"
     ]
    }
   ],
   "source": [
    "def print_collections_info(client: weaviate.WeaviateClient) -> tuple[str, list[str]]:\n",
    "    \"\"\"\n",
    "    Get detailed information about all collections in a Weaviate instance.\n",
    "    \n",
    "    Args:\n",
    "        client: A Weaviate client instance\n",
    "    \n",
    "    Returns:\n",
    "        tuple[str, list[str]]: Tuple containing formatted collection details string and list of collection names\n",
    "    \"\"\"\n",
    "    \n",
    "    collections = client.collections.list_all()\n",
    "    \n",
    "    # Get collection names as list\n",
    "    collection_names = list(collections.keys())\n",
    "    \n",
    "    # Build output string\n",
    "    output = []\n",
    "    for collection_name, config in collections.items():\n",
    "        output.append(f\"\\nCollection Name: {collection_name}\")\n",
    "        output.append(f\"Description: {config.description}\")\n",
    "        output.append(\"\\nProperties:\")\n",
    "        for prop in config.properties:\n",
    "            output.append(f\"- {prop.name}: {prop.description} (type: {prop.data_type.value})\")\n",
    "    \n",
    "    return \"\\n\".join(output), collection_names\n",
    "\n",
    "# Call the function with our client and print result\n",
    "info_str, collections_list = print_collections_info(weaviate_client)\n",
    "print(info_str)"
   ]
  },
  {
   "cell_type": "markdown",
   "metadata": {},
   "source": [
    "# Create Function"
   ]
  },
  {
   "cell_type": "markdown",
   "metadata": {},
   "source": [
    "OpenAI wants to take enum as an argument with the following:\n",
    "\n",
    "`\"enum\": [\"c\", \"f\"]`\n",
    "\n",
    "Function Schema:\n",
    "\n",
    "```python\n",
    "{\n",
    "    \"name\": \"search_weaviate_collection\",\n",
    "    \"description\": \"Search a Weaviate Collection\",\n",
    "    \"parameters\": {\n",
    "        \"type\": \"object\",\n",
    "        \"properties\": {\n",
    "            \"collection_name\": {\n",
    "                \"type\": \"enum\": collections_list,\n",
    "                \"description\": \"The Weaviate Collection to search through.\"\n",
    "            },\n",
    "            \"search_query\": {\n",
    "                \"type\": \"string\",\n",
    "                \"description\": \"The search query.\"\n",
    "            }\n",
    "        },\n",
    "        \"required\": [\"collection_name\", \"search_query\"],\n",
    "        \"additionalProperties\": False\n",
    "    }\n",
    "}\n",
    "```"
   ]
  },
  {
   "cell_type": "code",
   "execution_count": 38,
   "metadata": {},
   "outputs": [],
   "source": [
    "from typing import Literal, Optional, Dict, List\n",
    "from pydantic import BaseModel\n",
    "\n",
    "class ParameterProperty(BaseModel):\n",
    "    type: str\n",
    "    description: str\n",
    "\n",
    "class Parameters(BaseModel):\n",
    "    type: Literal[\"object\"]\n",
    "    properties: Dict[str, ParameterProperty]\n",
    "    required: Optional[List[str]]\n",
    "\n",
    "class Function(BaseModel):\n",
    "    name: str\n",
    "    description: str\n",
    "    parameters: Parameters\n",
    "\n",
    "class Tool(BaseModel):\n",
    "    type: Literal[\"function\"]\n",
    "    function: Function\n",
    "\n",
    "# Example usage:\n",
    "search_tool = Tool(\n",
    "    type=\"function\",\n",
    "    function=Function(\n",
    "        name=\"search_weaviate_collection\",\n",
    "        description=\"Search for the most relevant items to the provided `search_query` in a Weaviate Database Collection.\",\n",
    "        parameters=Parameters(\n",
    "            type=\"object\",\n",
    "            properties={\n",
    "                \"collection_name\": ParameterProperty(\n",
    "                    type=\"string\",\n",
    "                    description=\"The Weaviate Collection to search through.\"\n",
    "                ),\n",
    "                \"search_query\": ParameterProperty(\n",
    "                    type=\"string\",\n",
    "                    description=\"The search query.\"\n",
    "                )\n",
    "            },\n",
    "            required=[\"collection_name\", \"search_query\"]\n",
    "        )\n",
    "    )\n",
    ")\n",
    "\n",
    "# Example of another tool:\n",
    "calculate_avg_tool = Tool(\n",
    "    type=\"function\", \n",
    "    function=Function(\n",
    "        name=\"calculate_average\",\n",
    "        description=\"Calculate the average of a numeric property across collection items\",\n",
    "        parameters=Parameters(\n",
    "            type=\"object\",\n",
    "            properties={\n",
    "                \"collection_name\": ParameterProperty(\n",
    "                    type=\"string\",\n",
    "                    description=\"The Weaviate Collection to analyze\"\n",
    "                ),\n",
    "                \"property_name\": ParameterProperty(\n",
    "                    type=\"string\",\n",
    "                    description=\"The numeric property to average\"\n",
    "                )\n",
    "            },\n",
    "            required=[\"collection_name\", \"property_name\"]\n",
    "        )\n",
    "    )\n",
    ")"
   ]
  },
  {
   "cell_type": "code",
   "execution_count": 39,
   "metadata": {},
   "outputs": [
    {
     "name": "stdout",
     "output_type": "stream",
     "text": [
      "{\n",
      "  \"type\": \"function\",\n",
      "  \"function\": {\n",
      "    \"name\": \"search_weaviate_collection\",\n",
      "    \"description\": \"Search for the most relevant items to the provided `search_query` in a Weaviate Database Collection.\",\n",
      "    \"parameters\": {\n",
      "      \"type\": \"object\",\n",
      "      \"properties\": {\n",
      "        \"collection_name\": {\n",
      "          \"type\": \"string\",\n",
      "          \"description\": \"The Weaviate Collection to search through.\"\n",
      "        },\n",
      "        \"search_query\": {\n",
      "          \"type\": \"string\",\n",
      "          \"description\": \"The search query.\"\n",
      "        }\n",
      "      },\n",
      "      \"required\": [\n",
      "        \"collection_name\",\n",
      "        \"search_query\"\n",
      "      ]\n",
      "    }\n",
      "  }\n",
      "}\n"
     ]
    }
   ],
   "source": [
    "print(search_tool.model_dump_json(indent=2))"
   ]
  },
  {
   "cell_type": "code",
   "execution_count": 40,
   "metadata": {},
   "outputs": [],
   "source": [
    "tools = [search_tool]"
   ]
  },
  {
   "cell_type": "markdown",
   "metadata": {},
   "source": [
    "# Function Calling Test - Collection Query Routing"
   ]
  },
  {
   "cell_type": "code",
   "execution_count": 41,
   "metadata": {},
   "outputs": [],
   "source": [
    "import openai\n",
    "\n",
    "openai_client = openai.OpenAI(\n",
    "    api_key = \"\"\n",
    ")\n",
    "\n",
    "messages = [\n",
    "    {\"role\": \"system\", \"content\": \"You are a helpful hospital support assistant. Use the supplied tools to assist the user.\"},\n",
    "    {\"role\": \"user\", \"content\": \"Hi, can you tell me who works at this hospital?\"}\n",
    "]\n",
    "\n",
    "response = openai_client.chat.completions.create(\n",
    "    model=\"gpt-4o-2024-08-06\",\n",
    "    messages=messages,\n",
    "    tools=tools,\n",
    ")"
   ]
  },
  {
   "cell_type": "code",
   "execution_count": 47,
   "metadata": {},
   "outputs": [
    {
     "name": "stdout",
     "output_type": "stream",
     "text": [
      "Function(arguments='{\"collection_name\":\"hospital_staff\",\"search_query\":\"hospital staff\"}', name='search_weaviate_collection')\n"
     ]
    }
   ],
   "source": [
    "print(response.choices[0].message.tool_calls[0].function.collection_name)\n",
    "\n",
    "print(response.choices[0].message.tool_calls[0].function.search_query)\n",
    "\n"
   ]
  }
 ],
 "metadata": {
  "kernelspec": {
   "display_name": "Python 3",
   "language": "python",
   "name": "python3"
  },
  "language_info": {
   "codemirror_mode": {
    "name": "ipython",
    "version": 3
   },
   "file_extension": ".py",
   "mimetype": "text/x-python",
   "name": "python",
   "nbconvert_exporter": "python",
   "pygments_lexer": "ipython3",
   "version": "3.10.10"
  }
 },
 "nbformat": 4,
 "nbformat_minor": 2
}
