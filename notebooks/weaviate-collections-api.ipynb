{
 "cells": [
  {
   "cell_type": "markdown",
   "metadata": {},
   "source": [
    "# Create Schema with a POST request"
   ]
  },
  {
   "cell_type": "code",
   "execution_count": 1,
   "metadata": {},
   "outputs": [],
   "source": [
    "import weaviate"
   ]
  },
  {
   "cell_type": "code",
   "execution_count": 7,
   "metadata": {},
   "outputs": [],
   "source": [
    "import json\n",
    "import os\n",
    "\n",
    "# Read the aquarium schema JSON file\n",
    "schema_path = os.path.join(\"..\", \"data\", \"demo-schema.json\")\n",
    "with open(schema_path, \"r\") as f:\n",
    "    aquarium_schema = json.load(f)"
   ]
  },
  {
   "cell_type": "code",
   "execution_count": 8,
   "metadata": {},
   "outputs": [
    {
     "data": {
      "text/plain": [
       "{'classes': [{'class': 'Aquarium',\n",
       "   'description': 'An aquarium containing fish.',\n",
       "   'vectorIndexType': 'hnsw',\n",
       "   'vectorizer': 'text2vec-transformers',\n",
       "   'properties': [{'name': 'name',\n",
       "     'dataType': ['text'],\n",
       "     'description': 'Name of the aquarium.'},\n",
       "    {'name': 'location',\n",
       "     'dataType': ['text'],\n",
       "     'description': 'Location of the aquarium.'},\n",
       "    {'name': 'waterVolume',\n",
       "     'dataType': ['number'],\n",
       "     'description': 'Water volume of the aquarium in liters.'},\n",
       "    {'name': 'hasMarineFish',\n",
       "     'dataType': ['boolean'],\n",
       "     'description': 'Does the aquarium have marine fish?'}]},\n",
       "  {'class': 'Aquarist',\n",
       "   'description': 'A person who takes care of aquariums.',\n",
       "   'vectorIndexType': 'hnsw',\n",
       "   'vectorizer': 'text2vec-transformers',\n",
       "   'properties': [{'name': 'name',\n",
       "     'dataType': ['text'],\n",
       "     'description': 'Name of the aquarist.'},\n",
       "    {'name': 'yearsExperience',\n",
       "     'dataType': ['int'],\n",
       "     'description': 'Years of experience as an aquarist.'}]}]}"
      ]
     },
     "execution_count": 8,
     "metadata": {},
     "output_type": "execute_result"
    }
   ],
   "source": [
    "aquarium_schema"
   ]
  },
  {
   "cell_type": "code",
   "execution_count": 18,
   "metadata": {},
   "outputs": [
    {
     "name": "stdout",
     "output_type": "stream",
     "text": [
      "Creating schema for Aquarium:\n",
      "{'error': [{'message': 'class name Aquarium already exists'}]}\n",
      "Creating schema for Aquarist:\n",
      "{'class': 'Aquarist', 'description': 'A person who takes care of aquariums.', 'invertedIndexConfig': {'bm25': {'b': 0.75, 'k1': 1.2}, 'cleanupIntervalSeconds': 60, 'stopwords': {'additions': None, 'preset': 'en', 'removals': None}}, 'moduleConfig': {'text2vec-transformers': {'poolingStrategy': 'masked_mean', 'vectorizeClassName': True}}, 'multiTenancyConfig': {'autoTenantActivation': False, 'autoTenantCreation': False, 'enabled': False}, 'properties': [{'dataType': ['text'], 'description': 'Name of the aquarist.', 'indexFilterable': True, 'indexRangeFilters': False, 'indexSearchable': True, 'moduleConfig': {'text2vec-transformers': {'skip': False, 'vectorizePropertyName': False}}, 'name': 'name', 'tokenization': 'word'}, {'dataType': ['int'], 'description': 'Years of experience as an aquarist.', 'indexFilterable': True, 'indexRangeFilters': False, 'indexSearchable': False, 'moduleConfig': {'text2vec-transformers': {'skip': False, 'vectorizePropertyName': False}}, 'name': 'yearsExperience'}], 'replicationConfig': {'asyncEnabled': False, 'deletionStrategy': 'DeleteOnConflict', 'factor': 1}, 'shardingConfig': {'virtualPerPhysical': 128, 'desiredCount': 1, 'actualCount': 1, 'desiredVirtualCount': 128, 'actualVirtualCount': 128, 'key': '_id', 'strategy': 'hash', 'function': 'murmur3'}, 'vectorIndexConfig': {'skip': False, 'cleanupIntervalSeconds': 300, 'maxConnections': 32, 'efConstruction': 128, 'ef': -1, 'dynamicEfMin': 100, 'dynamicEfMax': 500, 'dynamicEfFactor': 8, 'vectorCacheMaxObjects': 1000000000000, 'flatSearchCutoff': 40000, 'distance': 'cosine', 'pq': {'enabled': False, 'bitCompression': False, 'segments': 0, 'centroids': 256, 'trainingLimit': 100000, 'encoder': {'type': 'kmeans', 'distribution': 'log-normal'}}, 'bq': {'enabled': False}, 'sq': {'enabled': False, 'trainingLimit': 100000, 'rescoreLimit': 20}, 'filterStrategy': 'sweeping'}, 'vectorIndexType': 'hnsw', 'vectorizer': 'text2vec-transformers'}\n"
     ]
    }
   ],
   "source": [
    "import requests\n",
    "\n",
    "url = \"http://localhost:8080/v1/schema\"\n",
    "\n",
    "# Post each class schema separately\n",
    "for class_schema in aquarium_schema['classes']:\n",
    "    response = requests.post(url, json=class_schema)\n",
    "    print(f\"Creating schema for {class_schema['class']}:\")\n",
    "    print(response.json())"
   ]
  },
  {
   "cell_type": "markdown",
   "metadata": {},
   "source": [
    "# Parse `collections.list_all()`"
   ]
  },
  {
   "cell_type": "code",
   "execution_count": 19,
   "metadata": {},
   "outputs": [
    {
     "name": "stderr",
     "output_type": "stream",
     "text": [
      "/var/folders/41/8dp_379x15d8zz4ppsjthdw40000gn/T/ipykernel_15209/1226633171.py:3: ResourceWarning: unclosed <socket.socket fd=114, family=AddressFamily.AF_INET6, type=SocketKind.SOCK_STREAM, proto=6, laddr=('::1', 56047, 0, 0), raddr=('::1', 8080, 0, 0)>\n",
      "  weaviate_client = weaviate.connect_to_local()\n",
      "ResourceWarning: Enable tracemalloc to get the object allocation traceback\n"
     ]
    },
    {
     "data": {
      "text/plain": [
       "{'Aquarium': _CollectionConfigSimple(name='Aquarium', description='An aquarium containing fish.', generative_config=None, properties=[_Property(name='name', description='Name of the aquarium.', data_type=<DataType.TEXT: 'text'>, index_filterable=True, index_searchable=True, nested_properties=None, tokenization=<Tokenization.WORD: 'word'>, vectorizer_config=_PropertyVectorizerConfig(skip=False, vectorize_property_name=False), vectorizer='text2vec-transformers'), _Property(name='location', description='Location of the aquarium.', data_type=<DataType.TEXT: 'text'>, index_filterable=True, index_searchable=True, nested_properties=None, tokenization=<Tokenization.WORD: 'word'>, vectorizer_config=_PropertyVectorizerConfig(skip=False, vectorize_property_name=False), vectorizer='text2vec-transformers'), _Property(name='waterVolume', description='Water volume of the aquarium in liters.', data_type=<DataType.NUMBER: 'number'>, index_filterable=True, index_searchable=False, nested_properties=None, tokenization=None, vectorizer_config=_PropertyVectorizerConfig(skip=False, vectorize_property_name=False), vectorizer='text2vec-transformers'), _Property(name='hasMarineFish', description='Does the aquarium have marine fish?', data_type=<DataType.BOOL: 'boolean'>, index_filterable=True, index_searchable=False, nested_properties=None, tokenization=None, vectorizer_config=_PropertyVectorizerConfig(skip=False, vectorize_property_name=False), vectorizer='text2vec-transformers')], references=[], reranker_config=None, vectorizer_config=_VectorizerConfig(vectorizer=<Vectorizers.TEXT2VEC_TRANSFORMERS: 'text2vec-transformers'>, model={'poolingStrategy': 'masked_mean'}, vectorize_collection_name=True), vectorizer=<Vectorizers.TEXT2VEC_TRANSFORMERS: 'text2vec-transformers'>, vector_config=None),\n",
       " 'Aquarist': _CollectionConfigSimple(name='Aquarist', description='A person who takes care of aquariums.', generative_config=None, properties=[_Property(name='name', description='Name of the aquarist.', data_type=<DataType.TEXT: 'text'>, index_filterable=True, index_searchable=True, nested_properties=None, tokenization=<Tokenization.WORD: 'word'>, vectorizer_config=_PropertyVectorizerConfig(skip=False, vectorize_property_name=False), vectorizer='text2vec-transformers'), _Property(name='yearsExperience', description='Years of experience as an aquarist.', data_type=<DataType.INT: 'int'>, index_filterable=True, index_searchable=False, nested_properties=None, tokenization=None, vectorizer_config=_PropertyVectorizerConfig(skip=False, vectorize_property_name=False), vectorizer='text2vec-transformers')], references=[], reranker_config=None, vectorizer_config=_VectorizerConfig(vectorizer=<Vectorizers.TEXT2VEC_TRANSFORMERS: 'text2vec-transformers'>, model={'poolingStrategy': 'masked_mean'}, vectorize_collection_name=True), vectorizer=<Vectorizers.TEXT2VEC_TRANSFORMERS: 'text2vec-transformers'>, vector_config=None)}"
      ]
     },
     "execution_count": 19,
     "metadata": {},
     "output_type": "execute_result"
    }
   ],
   "source": [
    "import weaviate\n",
    "\n",
    "weaviate_client = weaviate.connect_to_local()\n",
    "\n",
    "weaviate_client.collections.list_all()"
   ]
  },
  {
   "cell_type": "code",
   "execution_count": 21,
   "metadata": {},
   "outputs": [
    {
     "name": "stdout",
     "output_type": "stream",
     "text": [
      "\n",
      "Collection: Aquarium\n",
      "Description: An aquarium containing fish.\n",
      "\n",
      "Properties:\n",
      "- name: Name of the aquarium. (type: text)\n",
      "- location: Location of the aquarium. (type: text)\n",
      "- waterVolume: Water volume of the aquarium in liters. (type: number)\n",
      "- hasMarineFish: Does the aquarium have marine fish? (type: boolean)\n",
      "\n",
      "Collection: Aquarist\n",
      "Description: A person who takes care of aquariums.\n",
      "\n",
      "Properties:\n",
      "- name: Name of the aquarist. (type: text)\n",
      "- yearsExperience: Years of experience as an aquarist. (type: int)\n"
     ]
    }
   ],
   "source": [
    "def print_collections_info(client: weaviate.WeaviateClient) -> str:\n",
    "    \"\"\"\n",
    "    Get detailed information about all collections in a Weaviate instance.\n",
    "    \n",
    "    Args:\n",
    "        client: A Weaviate client instance\n",
    "    \n",
    "    Returns:\n",
    "        str: Formatted string containing collection details\n",
    "    \"\"\"\n",
    "    collections = client.collections.list_all()\n",
    "    \n",
    "    # Build output string\n",
    "    output = []\n",
    "    for collection_name, config in collections.items():\n",
    "        output.append(f\"\\nCollection Name: {collection_name}\")\n",
    "        output.append(f\"Description: {config.description}\")\n",
    "        output.append(\"\\nProperties:\")\n",
    "        for prop in config.properties:\n",
    "            output.append(f\"- {prop.name}: {prop.description} (type: {prop.data_type.value})\")\n",
    "    \n",
    "    return \"\\n\".join(output)\n",
    "\n",
    "# Call the function with our client and print result\n",
    "print(print_collections_info(weaviate_client))"
   ]
  },
  {
   "cell_type": "code",
   "execution_count": null,
   "metadata": {},
   "outputs": [],
   "source": []
  }
 ],
 "metadata": {
  "kernelspec": {
   "display_name": "Python 3",
   "language": "python",
   "name": "python3"
  },
  "language_info": {
   "codemirror_mode": {
    "name": "ipython",
    "version": 3
   },
   "file_extension": ".py",
   "mimetype": "text/x-python",
   "name": "python",
   "nbconvert_exporter": "python",
   "pygments_lexer": "ipython3",
   "version": "3.10.10"
  }
 },
 "nbformat": 4,
 "nbformat_minor": 2
}
