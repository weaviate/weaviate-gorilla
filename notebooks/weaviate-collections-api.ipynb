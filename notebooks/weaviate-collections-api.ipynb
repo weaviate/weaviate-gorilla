{
 "cells": [
  {
   "cell_type": "code",
   "execution_count": 1,
   "metadata": {},
   "outputs": [],
   "source": [
    "import weaviate"
   ]
  },
  {
   "cell_type": "code",
   "execution_count": 7,
   "metadata": {},
   "outputs": [],
   "source": [
    "import json\n",
    "import os\n",
    "\n",
    "# Read the aquarium schema JSON file\n",
    "schema_path = os.path.join(\"..\", \"data\", \"demo-schema.json\")\n",
    "with open(schema_path, \"r\") as f:\n",
    "    aquarium_schema = json.load(f)"
   ]
  },
  {
   "cell_type": "code",
   "execution_count": 8,
   "metadata": {},
   "outputs": [
    {
     "data": {
      "text/plain": [
       "{'classes': [{'class': 'Aquarium',\n",
       "   'description': 'An aquarium containing fish.',\n",
       "   'vectorIndexType': 'hnsw',\n",
       "   'vectorizer': 'text2vec-transformers',\n",
       "   'properties': [{'name': 'name',\n",
       "     'dataType': ['text'],\n",
       "     'description': 'Name of the aquarium.'},\n",
       "    {'name': 'location',\n",
       "     'dataType': ['text'],\n",
       "     'description': 'Location of the aquarium.'},\n",
       "    {'name': 'waterVolume',\n",
       "     'dataType': ['number'],\n",
       "     'description': 'Water volume of the aquarium in liters.'},\n",
       "    {'name': 'hasMarineFish',\n",
       "     'dataType': ['boolean'],\n",
       "     'description': 'Does the aquarium have marine fish?'}]},\n",
       "  {'class': 'Aquarist',\n",
       "   'description': 'A person who takes care of aquariums.',\n",
       "   'vectorIndexType': 'hnsw',\n",
       "   'vectorizer': 'text2vec-transformers',\n",
       "   'properties': [{'name': 'name',\n",
       "     'dataType': ['text'],\n",
       "     'description': 'Name of the aquarist.'},\n",
       "    {'name': 'yearsExperience',\n",
       "     'dataType': ['int'],\n",
       "     'description': 'Years of experience as an aquarist.'}]}]}"
      ]
     },
     "execution_count": 8,
     "metadata": {},
     "output_type": "execute_result"
    }
   ],
   "source": [
    "aquarium_schema"
   ]
  },
  {
   "cell_type": "code",
   "execution_count": 10,
   "metadata": {},
   "outputs": [
    {
     "name": "stdout",
     "output_type": "stream",
     "text": [
      "{'class': 'Aquarium', 'description': 'An aquarium containing fish.', 'invertedIndexConfig': {'bm25': {'b': 0.75, 'k1': 1.2}, 'cleanupIntervalSeconds': 60, 'stopwords': {'additions': None, 'preset': 'en', 'removals': None}}, 'moduleConfig': {'text2vec-transformers': {'poolingStrategy': 'masked_mean', 'vectorizeClassName': True}}, 'multiTenancyConfig': {'autoTenantActivation': False, 'autoTenantCreation': False, 'enabled': False}, 'properties': [{'dataType': ['text'], 'description': 'Name of the aquarium.', 'indexFilterable': True, 'indexRangeFilters': False, 'indexSearchable': True, 'moduleConfig': {'text2vec-transformers': {'skip': False, 'vectorizePropertyName': False}}, 'name': 'name', 'tokenization': 'word'}, {'dataType': ['text'], 'description': 'Location of the aquarium.', 'indexFilterable': True, 'indexRangeFilters': False, 'indexSearchable': True, 'moduleConfig': {'text2vec-transformers': {'skip': False, 'vectorizePropertyName': False}}, 'name': 'location', 'tokenization': 'word'}, {'dataType': ['number'], 'description': 'Water volume of the aquarium in liters.', 'indexFilterable': True, 'indexRangeFilters': False, 'indexSearchable': False, 'moduleConfig': {'text2vec-transformers': {'skip': False, 'vectorizePropertyName': False}}, 'name': 'waterVolume'}, {'dataType': ['boolean'], 'description': 'Does the aquarium have marine fish?', 'indexFilterable': True, 'indexRangeFilters': False, 'indexSearchable': False, 'moduleConfig': {'text2vec-transformers': {'skip': False, 'vectorizePropertyName': False}}, 'name': 'hasMarineFish'}], 'replicationConfig': {'asyncEnabled': False, 'deletionStrategy': 'DeleteOnConflict', 'factor': 1}, 'shardingConfig': {'virtualPerPhysical': 128, 'desiredCount': 1, 'actualCount': 1, 'desiredVirtualCount': 128, 'actualVirtualCount': 128, 'key': '_id', 'strategy': 'hash', 'function': 'murmur3'}, 'vectorIndexConfig': {'skip': False, 'cleanupIntervalSeconds': 300, 'maxConnections': 32, 'efConstruction': 128, 'ef': -1, 'dynamicEfMin': 100, 'dynamicEfMax': 500, 'dynamicEfFactor': 8, 'vectorCacheMaxObjects': 1000000000000, 'flatSearchCutoff': 40000, 'distance': 'cosine', 'pq': {'enabled': False, 'bitCompression': False, 'segments': 0, 'centroids': 256, 'trainingLimit': 100000, 'encoder': {'type': 'kmeans', 'distribution': 'log-normal'}}, 'bq': {'enabled': False}, 'sq': {'enabled': False, 'trainingLimit': 100000, 'rescoreLimit': 20}, 'filterStrategy': 'sweeping'}, 'vectorIndexType': 'hnsw', 'vectorizer': 'text2vec-transformers'}\n"
     ]
    }
   ],
   "source": [
    "import requests\n",
    "\n",
    "url = \"http://localhost:8080/v1/schema\"\n",
    "\n",
    "payload = aquarium_schema['classes'][0]\n",
    "\n",
    "response = requests.post(url, json=payload)\n",
    "\n",
    "print(response.json())"
   ]
  },
  {
   "cell_type": "code",
   "execution_count": null,
   "metadata": {},
   "outputs": [],
   "source": []
  }
 ],
 "metadata": {
  "kernelspec": {
   "display_name": "Python 3",
   "language": "python",
   "name": "python3"
  },
  "language_info": {
   "codemirror_mode": {
    "name": "ipython",
    "version": 3
   },
   "file_extension": ".py",
   "mimetype": "text/x-python",
   "name": "python",
   "nbconvert_exporter": "python",
   "pygments_lexer": "ipython3",
   "version": "3.10.10"
  }
 },
 "nbformat": 4,
 "nbformat_minor": 2
}
