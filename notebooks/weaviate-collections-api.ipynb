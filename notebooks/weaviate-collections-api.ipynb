{
 "cells": [
  {
   "cell_type": "markdown",
   "metadata": {},
   "source": [
    "# Create Schema with a POST request"
   ]
  },
  {
   "cell_type": "code",
   "execution_count": 10,
   "metadata": {},
   "outputs": [],
   "source": [
    "import weaviate"
   ]
  },
  {
   "cell_type": "code",
   "execution_count": 11,
   "metadata": {},
   "outputs": [],
   "source": [
    "import json\n",
    "import os\n",
    "\n",
    "# Read the aquarium schema JSON file\n",
    "schemas_path = os.path.join(\"..\", \"data\", \"simple-3-collection-schemas.json\")\n",
    "with open(schemas_path, \"r\") as f:\n",
    "    schemas = json.load(f)"
   ]
  },
  {
   "cell_type": "code",
   "execution_count": 12,
   "metadata": {},
   "outputs": [
    {
     "data": {
      "text/plain": [
       "{'properties': [{'name': 'patientName',\n",
       "   'data_type': ['text'],\n",
       "   'description': 'Name of the patient.'},\n",
       "  {'name': 'age',\n",
       "   'data_type': ['number'],\n",
       "   'description': 'Age of the patient.'},\n",
       "  {'name': 'admitted',\n",
       "   'data_type': ['boolean'],\n",
       "   'description': 'Indicates if the patient is currently admitted to the hospital.'}],\n",
       " 'class': 'HospitalPatients',\n",
       " 'description': 'The HospitalPatients collection tracks patient information, including their demographics and admission status. This is crucial for managing patient records and coordinating care with medical staff.',\n",
       " 'vectorIndexType': 'hnsw',\n",
       " 'vectorizer': 'text2vec-transformers'}"
      ]
     },
     "execution_count": 12,
     "metadata": {},
     "output_type": "execute_result"
    }
   ],
   "source": [
    "import json\n",
    "json_schema = json.loads(schemas[0])\n",
    "json_schema[\"weaviate_collections\"][0]"
   ]
  },
  {
   "cell_type": "code",
   "execution_count": 13,
   "metadata": {},
   "outputs": [
    {
     "data": {
      "text/plain": [
       "{'weaviate_collections': [{'properties': [{'name': 'patientName',\n",
       "     'data_type': ['text'],\n",
       "     'description': 'Name of the patient.'},\n",
       "    {'name': 'age',\n",
       "     'data_type': ['number'],\n",
       "     'description': 'Age of the patient.'},\n",
       "    {'name': 'admitted',\n",
       "     'data_type': ['boolean'],\n",
       "     'description': 'Indicates if the patient is currently admitted to the hospital.'}],\n",
       "   'class': 'HospitalPatients',\n",
       "   'description': 'The HospitalPatients collection tracks patient information, including their demographics and admission status. This is crucial for managing patient records and coordinating care with medical staff.',\n",
       "   'vectorIndexType': 'hnsw',\n",
       "   'vectorizer': 'text2vec-transformers'},\n",
       "  {'properties': [{'name': 'staffName',\n",
       "     'data_type': ['text'],\n",
       "     'description': 'Name of the medical staff member.'},\n",
       "    {'name': 'yearsOfExperience',\n",
       "     'data_type': ['number'],\n",
       "     'description': 'Number of years of experience the staff has.'},\n",
       "    {'name': 'onDuty',\n",
       "     'data_type': ['boolean'],\n",
       "     'description': 'Indicates if the staff member is currently on duty.'}],\n",
       "   'class': 'MedicalStaff',\n",
       "   'description': 'The MedicalStaff collection maintains records of hospital staff members, their experience, and current duty status. This allows efficient scheduling and assignment of staff to patients based on their needs and availability.',\n",
       "   'vectorIndexType': 'hnsw',\n",
       "   'vectorizer': 'text2vec-transformers'},\n",
       "  {'properties': [{'name': 'departmentName',\n",
       "     'data_type': ['text'],\n",
       "     'description': 'Name of the hospital department.'},\n",
       "    {'name': 'bedCapacity',\n",
       "     'data_type': ['number'],\n",
       "     'description': 'Number of beds available in the department.'},\n",
       "    {'name': 'operational',\n",
       "     'data_type': ['boolean'],\n",
       "     'description': 'Indicates if the department is currently operational.'}],\n",
       "   'class': 'HospitalDepartments',\n",
       "   'description': 'HospitalDepartments provides information on each department within the hospital, including their capacity and operational status. This helps in optimizing resource allocation and ensuring each department can handle patient load effectively.',\n",
       "   'vectorIndexType': 'hnsw',\n",
       "   'vectorizer': 'text2vec-transformers'}]}"
      ]
     },
     "execution_count": 13,
     "metadata": {},
     "output_type": "execute_result"
    }
   ],
   "source": [
    "json_schema"
   ]
  },
  {
   "cell_type": "code",
   "execution_count": 16,
   "metadata": {},
   "outputs": [
    {
     "name": "stdout",
     "output_type": "stream",
     "text": [
      "Sending schema for class HospitalPatients:\n",
      "{\"class\": \"HospitalPatients\", \"description\": \"The HospitalPatients collection tracks patient information, including their demographics and admission status. This is crucial for managing patient records and coordinating care with medical staff.\", \"properties\": [{\"name\": \"patientName\", \"description\": \"Name of the patient.\", \"dataType\": [\"text\"]}, {\"name\": \"age\", \"description\": \"Age of the patient.\", \"dataType\": [\"number\"]}, {\"name\": \"admitted\", \"description\": \"Indicates if the patient is currently admitted to the hospital.\", \"dataType\": [\"boolean\"]}], \"vectorizer\": \"text2vec-transformers\", \"vectorIndexType\": \"hnsw\"}\n",
      "Response status: 200\n",
      "Sending schema for class MedicalStaff:\n",
      "{\"class\": \"MedicalStaff\", \"description\": \"The MedicalStaff collection maintains records of hospital staff members, their experience, and current duty status. This allows efficient scheduling and assignment of staff to patients based on their needs and availability.\", \"properties\": [{\"name\": \"staffName\", \"description\": \"Name of the medical staff member.\", \"dataType\": [\"text\"]}, {\"name\": \"yearsOfExperience\", \"description\": \"Number of years of experience the staff has.\", \"dataType\": [\"number\"]}, {\"name\": \"onDuty\", \"description\": \"Indicates if the staff member is currently on duty.\", \"dataType\": [\"boolean\"]}], \"vectorizer\": \"text2vec-transformers\", \"vectorIndexType\": \"hnsw\"}\n",
      "Response status: 200\n",
      "Sending schema for class HospitalDepartments:\n",
      "{\"class\": \"HospitalDepartments\", \"description\": \"HospitalDepartments provides information on each department within the hospital, including their capacity and operational status. This helps in optimizing resource allocation and ensuring each department can handle patient load effectively.\", \"properties\": [{\"name\": \"departmentName\", \"description\": \"Name of the hospital department.\", \"dataType\": [\"text\"]}, {\"name\": \"bedCapacity\", \"description\": \"Number of beds available in the department.\", \"dataType\": [\"number\"]}, {\"name\": \"operational\", \"description\": \"Indicates if the department is currently operational.\", \"dataType\": [\"boolean\"]}], \"vectorizer\": \"text2vec-transformers\", \"vectorIndexType\": \"hnsw\"}\n",
      "Response status: 200\n"
     ]
    }
   ],
   "source": [
    "import requests\n",
    "\n",
    "url = \"http://localhost:8080/v1/schema\"\n",
    "\n",
    "# Post each class schema separately\n",
    "for class_schema in json_schema['weaviate_collections']:\n",
    "    # Make sure the schema has all required fields\n",
    "    if 'class' not in class_schema:\n",
    "        print(\"Error: Schema missing required 'class' field\")\n",
    "        continue\n",
    "        \n",
    "    # Create a clean schema object with only the required fields\n",
    "    clean_schema = {\n",
    "        'class': class_schema['class'],  # Use existing 'class' field\n",
    "        'description': class_schema.get('description', ''),\n",
    "        'properties': [\n",
    "            {\n",
    "                'name': prop['name'],\n",
    "                'description': prop.get('description', ''),\n",
    "                'dataType': prop['data_type']  # Weaviate expects dataType, not data_type\n",
    "            }\n",
    "            for prop in class_schema.get('properties', [])\n",
    "        ],\n",
    "        'vectorizer': class_schema.get('vectorizer', 'text2vec-transformers'),\n",
    "        'vectorIndexType': class_schema.get('vectorIndexType', 'hnsw'),\n",
    "    }\n",
    "    \n",
    "    # Convert to string\n",
    "    schema_str = json.dumps(clean_schema)\n",
    "    \n",
    "    print(f\"Sending schema for class {clean_schema['class']}:\")\n",
    "    print(schema_str)\n",
    "    \n",
    "    response = requests.post(\n",
    "        url, \n",
    "        data=schema_str,\n",
    "        headers={'Content-Type': 'application/json'}\n",
    "    )\n",
    "    \n",
    "    print(f\"Response status: {response.status_code}\")\n",
    "    if response.status_code != 200:\n",
    "        print(f\"Error response: {response.text}\")"
   ]
  },
  {
   "cell_type": "markdown",
   "metadata": {},
   "source": [
    "# Parse `collections.list_all()`"
   ]
  },
  {
   "cell_type": "code",
   "execution_count": 17,
   "metadata": {},
   "outputs": [
    {
     "data": {
      "text/plain": [
       "{'HospitalDepartments': _CollectionConfigSimple(name='HospitalDepartments', description='HospitalDepartments provides information on each department within the hospital, including their capacity and operational status. This helps in optimizing resource allocation and ensuring each department can handle patient load effectively.', generative_config=None, properties=[_Property(name='departmentName', description='Name of the hospital department.', data_type=<DataType.TEXT: 'text'>, index_filterable=True, index_searchable=True, nested_properties=None, tokenization=<Tokenization.WORD: 'word'>, vectorizer_config=_PropertyVectorizerConfig(skip=False, vectorize_property_name=False), vectorizer='text2vec-transformers'), _Property(name='bedCapacity', description='Number of beds available in the department.', data_type=<DataType.NUMBER: 'number'>, index_filterable=True, index_searchable=False, nested_properties=None, tokenization=None, vectorizer_config=_PropertyVectorizerConfig(skip=False, vectorize_property_name=False), vectorizer='text2vec-transformers'), _Property(name='operational', description='Indicates if the department is currently operational.', data_type=<DataType.BOOL: 'boolean'>, index_filterable=True, index_searchable=False, nested_properties=None, tokenization=None, vectorizer_config=_PropertyVectorizerConfig(skip=False, vectorize_property_name=False), vectorizer='text2vec-transformers')], references=[], reranker_config=None, vectorizer_config=_VectorizerConfig(vectorizer=<Vectorizers.TEXT2VEC_TRANSFORMERS: 'text2vec-transformers'>, model={'poolingStrategy': 'masked_mean'}, vectorize_collection_name=True), vectorizer=<Vectorizers.TEXT2VEC_TRANSFORMERS: 'text2vec-transformers'>, vector_config=None),\n",
       " 'MedicalStaff': _CollectionConfigSimple(name='MedicalStaff', description='The MedicalStaff collection maintains records of hospital staff members, their experience, and current duty status. This allows efficient scheduling and assignment of staff to patients based on their needs and availability.', generative_config=None, properties=[_Property(name='staffName', description='Name of the medical staff member.', data_type=<DataType.TEXT: 'text'>, index_filterable=True, index_searchable=True, nested_properties=None, tokenization=<Tokenization.WORD: 'word'>, vectorizer_config=_PropertyVectorizerConfig(skip=False, vectorize_property_name=False), vectorizer='text2vec-transformers'), _Property(name='yearsOfExperience', description='Number of years of experience the staff has.', data_type=<DataType.NUMBER: 'number'>, index_filterable=True, index_searchable=False, nested_properties=None, tokenization=None, vectorizer_config=_PropertyVectorizerConfig(skip=False, vectorize_property_name=False), vectorizer='text2vec-transformers'), _Property(name='onDuty', description='Indicates if the staff member is currently on duty.', data_type=<DataType.BOOL: 'boolean'>, index_filterable=True, index_searchable=False, nested_properties=None, tokenization=None, vectorizer_config=_PropertyVectorizerConfig(skip=False, vectorize_property_name=False), vectorizer='text2vec-transformers')], references=[], reranker_config=None, vectorizer_config=_VectorizerConfig(vectorizer=<Vectorizers.TEXT2VEC_TRANSFORMERS: 'text2vec-transformers'>, model={'poolingStrategy': 'masked_mean'}, vectorize_collection_name=True), vectorizer=<Vectorizers.TEXT2VEC_TRANSFORMERS: 'text2vec-transformers'>, vector_config=None),\n",
       " 'HospitalPatients': _CollectionConfigSimple(name='HospitalPatients', description='The HospitalPatients collection tracks patient information, including their demographics and admission status. This is crucial for managing patient records and coordinating care with medical staff.', generative_config=None, properties=[_Property(name='patientName', description='Name of the patient.', data_type=<DataType.TEXT: 'text'>, index_filterable=True, index_searchable=True, nested_properties=None, tokenization=<Tokenization.WORD: 'word'>, vectorizer_config=_PropertyVectorizerConfig(skip=False, vectorize_property_name=False), vectorizer='text2vec-transformers'), _Property(name='age', description='Age of the patient.', data_type=<DataType.NUMBER: 'number'>, index_filterable=True, index_searchable=False, nested_properties=None, tokenization=None, vectorizer_config=_PropertyVectorizerConfig(skip=False, vectorize_property_name=False), vectorizer='text2vec-transformers'), _Property(name='admitted', description='Indicates if the patient is currently admitted to the hospital.', data_type=<DataType.BOOL: 'boolean'>, index_filterable=True, index_searchable=False, nested_properties=None, tokenization=None, vectorizer_config=_PropertyVectorizerConfig(skip=False, vectorize_property_name=False), vectorizer='text2vec-transformers')], references=[], reranker_config=None, vectorizer_config=_VectorizerConfig(vectorizer=<Vectorizers.TEXT2VEC_TRANSFORMERS: 'text2vec-transformers'>, model={'poolingStrategy': 'masked_mean'}, vectorize_collection_name=True), vectorizer=<Vectorizers.TEXT2VEC_TRANSFORMERS: 'text2vec-transformers'>, vector_config=None)}"
      ]
     },
     "execution_count": 17,
     "metadata": {},
     "output_type": "execute_result"
    }
   ],
   "source": [
    "import weaviate\n",
    "\n",
    "weaviate_client = weaviate.connect_to_local()\n",
    "\n",
    "weaviate_client.collections.list_all()"
   ]
  },
  {
   "cell_type": "code",
   "execution_count": 18,
   "metadata": {},
   "outputs": [
    {
     "name": "stdout",
     "output_type": "stream",
     "text": [
      "\n",
      "Collection Name: MedicalStaff\n",
      "Description: The MedicalStaff collection maintains records of hospital staff members, their experience, and current duty status. This allows efficient scheduling and assignment of staff to patients based on their needs and availability.\n",
      "\n",
      "Properties:\n",
      "- staffName: Name of the medical staff member. (type: text)\n",
      "- yearsOfExperience: Number of years of experience the staff has. (type: number)\n",
      "- onDuty: Indicates if the staff member is currently on duty. (type: boolean)\n",
      "\n",
      "Collection Name: HospitalPatients\n",
      "Description: The HospitalPatients collection tracks patient information, including their demographics and admission status. This is crucial for managing patient records and coordinating care with medical staff.\n",
      "\n",
      "Properties:\n",
      "- patientName: Name of the patient. (type: text)\n",
      "- age: Age of the patient. (type: number)\n",
      "- admitted: Indicates if the patient is currently admitted to the hospital. (type: boolean)\n",
      "\n",
      "Collection Name: HospitalDepartments\n",
      "Description: HospitalDepartments provides information on each department within the hospital, including their capacity and operational status. This helps in optimizing resource allocation and ensuring each department can handle patient load effectively.\n",
      "\n",
      "Properties:\n",
      "- departmentName: Name of the hospital department. (type: text)\n",
      "- bedCapacity: Number of beds available in the department. (type: number)\n",
      "- operational: Indicates if the department is currently operational. (type: boolean)\n"
     ]
    }
   ],
   "source": [
    "from enum import Enum\n",
    "\n",
    "def print_collections_info(client: weaviate.WeaviateClient) -> tuple[str, Enum]:\n",
    "    \"\"\"\n",
    "    Get detailed information about all collections in a Weaviate instance.\n",
    "    \n",
    "    Args:\n",
    "        client: A Weaviate client instance\n",
    "    \n",
    "    Returns:\n",
    "        tuple[str, Enum]: Tuple containing formatted collection details string and dynamically created Collections enum\n",
    "    \"\"\"\n",
    "    \n",
    "    collections = client.collections.list_all()\n",
    "    \n",
    "    # Dynamically create Enum class from collection names\n",
    "    Collections = Enum('Collections', {\n",
    "        name.upper(): name for name in collections.keys()\n",
    "    })\n",
    "    \n",
    "    # Build output string\n",
    "    output = []\n",
    "    for collection_name, config in collections.items():\n",
    "        output.append(f\"\\nCollection Name: {collection_name}\")\n",
    "        output.append(f\"Description: {config.description}\")\n",
    "        output.append(\"\\nProperties:\")\n",
    "        for prop in config.properties:\n",
    "            output.append(f\"- {prop.name}: {prop.description} (type: {prop.data_type.value})\")\n",
    "    \n",
    "    return \"\\n\".join(output), Collections\n",
    "\n",
    "# Call the function with our client and print result\n",
    "info_str, collections_enum = print_collections_info(weaviate_client)\n",
    "print(info_str)"
   ]
  },
  {
   "cell_type": "markdown",
   "metadata": {},
   "source": [
    "# Function Calling Test - Collection Query Routing"
   ]
  },
  {
   "cell_type": "code",
   "execution_count": null,
   "metadata": {},
   "outputs": [],
   "source": [
    "medical_staff_query = \"\"\n",
    "\n",
    "# ...."
   ]
  },
  {
   "cell_type": "code",
   "execution_count": null,
   "metadata": {},
   "outputs": [],
   "source": []
  }
 ],
 "metadata": {
  "kernelspec": {
   "display_name": "Python 3",
   "language": "python",
   "name": "python3"
  },
  "language_info": {
   "codemirror_mode": {
    "name": "ipython",
    "version": 3
   },
   "file_extension": ".py",
   "mimetype": "text/x-python",
   "name": "python",
   "nbconvert_exporter": "python",
   "pygments_lexer": "ipython3",
   "version": "3.10.10"
  }
 },
 "nbformat": 4,
 "nbformat_minor": 2
}
