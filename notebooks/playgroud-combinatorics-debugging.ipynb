{
 "cells": [
  {
   "cell_type": "code",
   "execution_count": 2,
   "metadata": {},
   "outputs": [
    {
     "name": "stdout",
     "output_type": "stream",
     "text": [
      "Formula breakdown:\n",
      "Array a unique values (including None): 2\n",
      "Array b unique values (including None): 2\n",
      "Array c unique values (including None): 3\n",
      "Array d unique values (including None): 4\n",
      "\n",
      "Total combinations = 2 * 2 * 3 * 4 = 48\n",
      "Total combinations: 48\n",
      "Sample combinations:\n",
      "{'a': 1, 'b': 2, 'c': 1, 'd': 1}\n",
      "{'a': 1, 'b': 2, 'c': 1, 'd': 2}\n",
      "{'a': 1, 'b': 2, 'c': 1, 'd': 3}\n",
      "{'a': 1, 'b': 2, 'c': 1, 'd': None}\n",
      "{'a': 1, 'b': 2, 'c': 2, 'd': 1}\n"
     ]
    }
   ],
   "source": [
    "# Define the arrays\n",
    "a = [1,None] # |a| = 1\n",
    "b = [2, None] # |b| = 1\n",
    "c = [1,2, None] # |c| = 2\n",
    "d = [1,2,3,None] # |d| = 3\n",
    "\n",
    "# Calculate total possible combinations\n",
    "# For each array, we add 1 to account for None value\n",
    "# Then multiply the lengths together\n",
    "total_possible = (len(set(a))) * (len(set(b))) * (len(set(c))) * (len(set(d)))\n",
    "\n",
    "print(\"Formula breakdown:\")\n",
    "print(f\"Array a unique values (including None): {len(set(a))}\")\n",
    "print(f\"Array b unique values (including None): {len(set(b))}\")  \n",
    "print(f\"Array c unique values (including None): {len(set(c))}\")\n",
    "print(f\"Array d unique values (including None): {len(set(d))}\")\n",
    "print(f\"\\nTotal combinations = {len(set(a))} * {len(set(b))} * {len(set(c))} * {len(set(d))} = {total_possible}\")\n",
    "\n",
    "\n",
    "# Generate all combinations\n",
    "combinations = []\n",
    "for a_val in a:\n",
    "    for b_val in b:\n",
    "        for c_val in c:\n",
    "            for d_val in d:\n",
    "                combination = {\n",
    "                    'a': a_val,\n",
    "                    'b': b_val, \n",
    "                    'c': c_val,\n",
    "                    'd': d_val\n",
    "                }\n",
    "                combinations.append(combination)\n",
    "\n",
    "print(f\"Total combinations: {len(combinations)}\")\n",
    "print(\"Sample combinations:\")\n",
    "for i, combo in enumerate(combinations):\n",
    "    if i < 5:  # Print first 5 combinations as sample\n",
    "        print(combo)"
   ]
  }
 ],
 "metadata": {
  "kernelspec": {
   "display_name": "Python 3",
   "language": "python",
   "name": "python3"
  },
  "language_info": {
   "codemirror_mode": {
    "name": "ipython",
    "version": 3
   },
   "file_extension": ".py",
   "mimetype": "text/x-python",
   "name": "python",
   "nbconvert_exporter": "python",
   "pygments_lexer": "ipython3",
   "version": "3.10.10"
  }
 },
 "nbformat": 4,
 "nbformat_minor": 2
}
