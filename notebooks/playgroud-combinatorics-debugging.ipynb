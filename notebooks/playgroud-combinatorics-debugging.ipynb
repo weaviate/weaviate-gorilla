{
 "cells": [
  {
   "cell_type": "code",
   "execution_count": 1,
   "metadata": {},
   "outputs": [
    {
     "name": "stdout",
     "output_type": "stream",
     "text": [
      "Total combinations: 48\n",
      "Sample combinations:\n",
      "{'a': 1, 'b': 2, 'c': 1, 'd': 1}\n",
      "{'a': 1, 'b': 2, 'c': 1, 'd': 2}\n",
      "{'a': 1, 'b': 2, 'c': 1, 'd': 3}\n",
      "{'a': 1, 'b': 2, 'c': 1, 'd': None}\n",
      "{'a': 1, 'b': 2, 'c': 2, 'd': 1}\n"
     ]
    }
   ],
   "source": [
    "# Define the arrays\n",
    "a = [1,None]\n",
    "b = [2, None]\n",
    "c = [1,2, None]\n",
    "d = [1,2,3,None]\n",
    "\n",
    "# Generate all combinations\n",
    "combinations = []\n",
    "for a_val in a:\n",
    "    for b_val in b:\n",
    "        for c_val in c:\n",
    "            for d_val in d:\n",
    "                combination = {\n",
    "                    'a': a_val,\n",
    "                    'b': b_val, \n",
    "                    'c': c_val,\n",
    "                    'd': d_val\n",
    "                }\n",
    "                combinations.append(combination)\n",
    "\n",
    "print(f\"Total combinations: {len(combinations)}\")\n",
    "print(\"Sample combinations:\")\n",
    "for i, combo in enumerate(combinations):\n",
    "    if i < 5:  # Print first 5 combinations as sample\n",
    "        print(combo)"
   ]
  },
  {
   "cell_type": "code",
   "execution_count": null,
   "metadata": {},
   "outputs": [],
   "source": []
  }
 ],
 "metadata": {
  "kernelspec": {
   "display_name": "Python 3",
   "language": "python",
   "name": "python3"
  },
  "language_info": {
   "codemirror_mode": {
    "name": "ipython",
    "version": 3
   },
   "file_extension": ".py",
   "mimetype": "text/x-python",
   "name": "python",
   "nbconvert_exporter": "python",
   "pygments_lexer": "ipython3",
   "version": "3.10.10"
  }
 },
 "nbformat": 4,
 "nbformat_minor": 2
}
