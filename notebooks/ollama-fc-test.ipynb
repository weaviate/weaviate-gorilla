{
 "cells": [
  {
   "cell_type": "code",
   "execution_count": 1,
   "metadata": {},
   "outputs": [],
   "source": [
    "import ollama"
   ]
  },
  {
   "cell_type": "code",
   "execution_count": 8,
   "metadata": {},
   "outputs": [],
   "source": [
    "import ollama\n",
    "from typing import List, Dict, Optional\n",
    "\n",
    "from pydantic import BaseModel, Field\n",
    "from typing import Literal, Dict, Any\n",
    "\n",
    "class FunctionParameters(BaseModel):\n",
    "    type: Literal[\"object\"] = \"object\"\n",
    "    properties: Dict[str, Dict[str, Any]]\n",
    "    required: list[str]\n",
    "\n",
    "class Function(BaseModel):\n",
    "    name: str = Field(description=\"Name of the function to call\")\n",
    "    description: str = Field(description=\"Description of what the function does\")\n",
    "    parameters: FunctionParameters\n",
    "\n",
    "class OllamaTool(BaseModel):\n",
    "    type: Literal[\"function\"] = \"function\"\n",
    "    function: Function\n",
    "\n",
    "# Example usage for search function\n",
    "search_parameters = FunctionParameters(\n",
    "    properties={\n",
    "        \"query\": {\n",
    "            \"type\": \"string\",\n",
    "            \"description\": \"The search query.\"\n",
    "        }\n",
    "    },\n",
    "    required=[\"query\"]\n",
    ")\n",
    "\n",
    "search_function = Function(\n",
    "    name=\"get_search_results\",\n",
    "    description=\"Get search results for a provided query.\",\n",
    "    parameters=search_parameters\n",
    ")\n",
    "\n",
    "tools_schema = [OllamaTool(\n",
    "    function=search_function\n",
    ").model_dump()]\n",
    "\n",
    "def ollama_function_selection(user_message: str,\n",
    "                            tools_schema: List,\n",
    "                            model_name: str = \"llama3.1:8b\") -> Optional[dict]:\n",
    "    \"\"\"\n",
    "    Get function calling arguments from Ollama model for a single function call.\n",
    "    Returns None if no function is selected.\n",
    "    \"\"\"\n",
    "    messages=[{\n",
    "        \"role\": \"user\", \n",
    "        \"content\": user_message\n",
    "    }]\n",
    "    \n",
    "    response = ollama.chat(\n",
    "        model=model_name,\n",
    "        messages=messages,\n",
    "        tools=tools_schema\n",
    "    )\n",
    "\n",
    "    if not response[\"message\"].get(\"tool_calls\"):\n",
    "        return None\n",
    "    \n",
    "    # Return arguments of first tool call\n",
    "    tool = response[\"message\"][\"tool_calls\"][0]\n",
    "    return tool[\"function\"][\"arguments\"]"
   ]
  },
  {
   "cell_type": "code",
   "execution_count": 9,
   "metadata": {},
   "outputs": [
    {
     "data": {
      "text/plain": [
       "{'query': 'HNSW algorithm'}"
      ]
     },
     "execution_count": 9,
     "metadata": {},
     "output_type": "execute_result"
    }
   ],
   "source": [
    "ollama_function_selection(\n",
    "    \"How does HNSW work?\",\n",
    "    tools_schema=tools_schema,\n",
    "    model_name=\"llama3.1:8b\"\n",
    ")"
   ]
  },
  {
   "cell_type": "code",
   "execution_count": 10,
   "metadata": {},
   "outputs": [
    {
     "data": {
      "text/plain": [
       "{'query': 'HNSW how it works'}"
      ]
     },
     "execution_count": 10,
     "metadata": {},
     "output_type": "execute_result"
    }
   ],
   "source": [
    "ollama_function_selection(\n",
    "    \"How does HNSW work?\",\n",
    "    tools_schema=tools_schema,\n",
    "    model_name=\"llama3.2:3b\"\n",
    ")"
   ]
  },
  {
   "cell_type": "code",
   "execution_count": 14,
   "metadata": {},
   "outputs": [],
   "source": [
    "import ollama\n",
    "from typing import List, Dict, Optional\n",
    "\n",
    "from pydantic import BaseModel, Field\n",
    "from typing import Literal, Dict, Any\n",
    "\n",
    "class FunctionParameters(BaseModel):\n",
    "    type: Literal[\"object\"] = \"object\"\n",
    "    properties: Dict[str, Dict[str, Any]]\n",
    "    required: list[str]\n",
    "\n",
    "class Function(BaseModel):\n",
    "    name: str = Field(description=\"Name of the function to call\")\n",
    "    description: str = Field(description=\"Description of what the function does\")\n",
    "    parameters: FunctionParameters\n",
    "\n",
    "class OllamaTool(BaseModel):\n",
    "    type: Literal[\"function\"] = \"function\"\n",
    "    function: Function\n",
    "\n",
    "class SearchQuery(BaseModel):\n",
    "    query: str = Field(description=\"The search query to execute\")\n",
    "    target_collection: str = Field(description=\"The collection to search in\", default=\"default\")\n",
    "    filters: str = Field(description=\"Any filters to apply to the search\", default=\"\")\n",
    "\n",
    "# Get the schema for SearchQuery, which defines the query parameter structure\n",
    "search_query_schema = SearchQuery.model_json_schema()\n",
    "query_properties = search_query_schema[\"properties\"]\n",
    "\n",
    "# Example usage for search function\n",
    "search_parameters = FunctionParameters(\n",
    "    properties={\n",
    "        \"query\": query_properties[\"query\"],\n",
    "        \"target_collection\": query_properties[\"target_collection\"],\n",
    "        \"filters\": query_properties[\"filters\"]\n",
    "    },\n",
    "    required=[\"query\", \"target_collection\"]  # Make both fields required\n",
    ")\n",
    "\n",
    "search_function = Function(\n",
    "    name=\"get_search_results\",\n",
    "    description=\"Search for documents in a specified collection using a query and optional filters.\",\n",
    "    parameters=search_parameters\n",
    ")\n",
    "\n",
    "tools_schema = [OllamaTool(\n",
    "    function=search_function\n",
    ").model_dump()]\n",
    "\n",
    "def ollama_function_selection(user_message: str,\n",
    "                            tools_schema: List,\n",
    "                            model_name: str = \"llama3.1:8b\") -> Optional[dict]:\n",
    "    \"\"\"\n",
    "    Get function calling arguments from Ollama model for a single function call.\n",
    "    Returns None if no function is selected.\n",
    "    \"\"\"\n",
    "    messages=[{\n",
    "        \"role\": \"system\",\n",
    "        \"content\": \"You are a helpful assistant that searches through document collections. When given a query, you should specify both the search query and target collection.\"\n",
    "    }, {\n",
    "        \"role\": \"user\", \n",
    "        \"content\": user_message\n",
    "    }]\n",
    "    \n",
    "    response = ollama.chat(\n",
    "        model=model_name,\n",
    "        messages=messages,\n",
    "        tools=tools_schema\n",
    "    )\n",
    "\n",
    "    if not response[\"message\"].get(\"tool_calls\"):\n",
    "        return None\n",
    "    \n",
    "    # Return arguments of first tool call\n",
    "    tool = response[\"message\"][\"tool_calls\"][0]\n",
    "    return tool[\"function\"][\"arguments\"]"
   ]
  },
  {
   "cell_type": "code",
   "execution_count": 18,
   "metadata": {},
   "outputs": [
    {
     "name": "stdout",
     "output_type": "stream",
     "text": [
      "{'filters': '', 'query': 'HNSW algorithm', 'target_collection': 'Computer Science Documentation'}\n"
     ]
    }
   ],
   "source": [
    "model_response = ollama_function_selection(\n",
    "    \"How does HNSW work?\",\n",
    "    tools_schema=tools_schema,\n",
    "    model_name=\"llama3.1:8b\"\n",
    ")\n",
    "\n",
    "print(model_response)"
   ]
  },
  {
   "cell_type": "code",
   "execution_count": null,
   "metadata": {},
   "outputs": [],
   "source": []
  }
 ],
 "metadata": {
  "kernelspec": {
   "display_name": "Python 3",
   "language": "python",
   "name": "python3"
  },
  "language_info": {
   "codemirror_mode": {
    "name": "ipython",
    "version": 3
   },
   "file_extension": ".py",
   "mimetype": "text/x-python",
   "name": "python",
   "nbconvert_exporter": "python",
   "pygments_lexer": "ipython3",
   "version": "3.10.10"
  }
 },
 "nbformat": 4,
 "nbformat_minor": 2
}
