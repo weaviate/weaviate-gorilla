{
 "cells": [
  {
   "cell_type": "code",
   "execution_count": 1,
   "metadata": {},
   "outputs": [],
   "source": [
    "import ollama"
   ]
  },
  {
   "cell_type": "code",
   "execution_count": 2,
   "metadata": {},
   "outputs": [],
   "source": [
    "import ollama\n",
    "from typing import List, Dict, Optional\n",
    "\n",
    "tools_schema=[{\n",
    "    'type': 'function',\n",
    "    'function': {\n",
    "        'name': 'get_search_results',\n",
    "        'description': 'Get search results for a provided query.',\n",
    "        'parameters': {\n",
    "          'type': 'object',\n",
    "          'properties': {\n",
    "            'query': {\n",
    "              'type': 'string',\n",
    "              'description': 'The search query.',\n",
    "            },\n",
    "          },\n",
    "          'required': ['query'],\n",
    "        },\n",
    "    },\n",
    "}]\n",
    "\n",
    "def ollama_function_selection(user_message: str,\n",
    "                            tools_schema: List,\n",
    "                            model_name: str = \"llama3.1:8b\") -> Optional[dict]:\n",
    "    \"\"\"\n",
    "    Get function calling arguments from Ollama model for a single function call.\n",
    "    Returns None if no function is selected.\n",
    "    \"\"\"\n",
    "    messages=[{\n",
    "        \"role\": \"user\", \n",
    "        \"content\": user_message\n",
    "    }]\n",
    "    \n",
    "    response = ollama.chat(\n",
    "        model=model_name,\n",
    "        messages=messages,\n",
    "        tools=tools_schema\n",
    "    )\n",
    "\n",
    "    if not response[\"message\"].get(\"tool_calls\"):\n",
    "        return None\n",
    "    \n",
    "    # Return arguments of first tool call\n",
    "    tool = response[\"message\"][\"tool_calls\"][0]\n",
    "    return tool[\"function\"][\"arguments\"]"
   ]
  },
  {
   "cell_type": "code",
   "execution_count": 3,
   "metadata": {},
   "outputs": [
    {
     "data": {
      "text/plain": [
       "{'query': 'HNSW algorithm'}"
      ]
     },
     "execution_count": 3,
     "metadata": {},
     "output_type": "execute_result"
    }
   ],
   "source": [
    "ollama_function_selection(\n",
    "    \"How does HNSW work?\",\n",
    "    tools_schema=tools_schema,\n",
    "    model_name=\"llama3.1:8b\"\n",
    ")"
   ]
  },
  {
   "cell_type": "code",
   "execution_count": 4,
   "metadata": {},
   "outputs": [
    {
     "data": {
      "text/plain": [
       "{'query': 'HNSW algorithm'}"
      ]
     },
     "execution_count": 4,
     "metadata": {},
     "output_type": "execute_result"
    }
   ],
   "source": [
    "ollama_function_selection(\n",
    "    \"How does HNSW work?\",\n",
    "    tools_schema=tools_schema,\n",
    "    model_name=\"llama3.2:3b\"\n",
    ")"
   ]
  },
  {
   "cell_type": "code",
   "execution_count": null,
   "metadata": {},
   "outputs": [],
   "source": []
  }
 ],
 "metadata": {
  "kernelspec": {
   "display_name": "Python 3",
   "language": "python",
   "name": "python3"
  },
  "language_info": {
   "codemirror_mode": {
    "name": "ipython",
    "version": 3
   },
   "file_extension": ".py",
   "mimetype": "text/x-python",
   "name": "python",
   "nbconvert_exporter": "python",
   "pygments_lexer": "ipython3",
   "version": "3.10.10"
  }
 },
 "nbformat": 4,
 "nbformat_minor": 2
}
