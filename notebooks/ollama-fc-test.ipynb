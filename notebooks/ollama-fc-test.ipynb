{
 "cells": [
  {
   "cell_type": "code",
   "execution_count": 1,
   "metadata": {},
   "outputs": [],
   "source": [
    "import ollama"
   ]
  },
  {
   "cell_type": "code",
   "execution_count": 8,
   "metadata": {},
   "outputs": [],
   "source": [
    "import ollama\n",
    "from typing import List, Dict, Optional\n",
    "\n",
    "from pydantic import BaseModel, Field\n",
    "from typing import Literal, Dict, Any\n",
    "\n",
    "class FunctionParameters(BaseModel):\n",
    "    type: Literal[\"object\"] = \"object\"\n",
    "    properties: Dict[str, Dict[str, Any]]\n",
    "    required: list[str]\n",
    "\n",
    "class Function(BaseModel):\n",
    "    name: str = Field(description=\"Name of the function to call\")\n",
    "    description: str = Field(description=\"Description of what the function does\")\n",
    "    parameters: FunctionParameters\n",
    "\n",
    "class OllamaTool(BaseModel):\n",
    "    type: Literal[\"function\"] = \"function\"\n",
    "    function: Function\n",
    "\n",
    "# Example usage for search function\n",
    "search_parameters = FunctionParameters(\n",
    "    properties={\n",
    "        \"query\": {\n",
    "            \"type\": \"string\",\n",
    "            \"description\": \"The search query.\"\n",
    "        }\n",
    "    },\n",
    "    required=[\"query\"]\n",
    ")\n",
    "\n",
    "search_function = Function(\n",
    "    name=\"get_search_results\",\n",
    "    description=\"Get search results for a provided query.\",\n",
    "    parameters=search_parameters\n",
    ")\n",
    "\n",
    "tools_schema = [OllamaTool(\n",
    "    function=search_function\n",
    ").model_dump()]\n",
    "\n",
    "def ollama_function_selection(user_message: str,\n",
    "                            tools_schema: List,\n",
    "                            model_name: str = \"llama3.1:8b\") -> Optional[dict]:\n",
    "    \"\"\"\n",
    "    Get function calling arguments from Ollama model for a single function call.\n",
    "    Returns None if no function is selected.\n",
    "    \"\"\"\n",
    "    messages=[{\n",
    "        \"role\": \"user\", \n",
    "        \"content\": user_message\n",
    "    }]\n",
    "    \n",
    "    response = ollama.chat(\n",
    "        model=model_name,\n",
    "        messages=messages,\n",
    "        tools=tools_schema\n",
    "    )\n",
    "\n",
    "    if not response[\"message\"].get(\"tool_calls\"):\n",
    "        return None\n",
    "    \n",
    "    # Return arguments of first tool call\n",
    "    tool = response[\"message\"][\"tool_calls\"][0]\n",
    "    return tool[\"function\"][\"arguments\"]"
   ]
  },
  {
   "cell_type": "code",
   "execution_count": 9,
   "metadata": {},
   "outputs": [
    {
     "data": {
      "text/plain": [
       "{'query': 'HNSW algorithm'}"
      ]
     },
     "execution_count": 9,
     "metadata": {},
     "output_type": "execute_result"
    }
   ],
   "source": [
    "ollama_function_selection(\n",
    "    \"How does HNSW work?\",\n",
    "    tools_schema=tools_schema,\n",
    "    model_name=\"llama3.1:8b\"\n",
    ")"
   ]
  },
  {
   "cell_type": "code",
   "execution_count": 10,
   "metadata": {},
   "outputs": [
    {
     "data": {
      "text/plain": [
       "{'query': 'HNSW how it works'}"
      ]
     },
     "execution_count": 10,
     "metadata": {},
     "output_type": "execute_result"
    }
   ],
   "source": [
    "ollama_function_selection(\n",
    "    \"How does HNSW work?\",\n",
    "    tools_schema=tools_schema,\n",
    "    model_name=\"llama3.2:3b\"\n",
    ")"
   ]
  },
  {
   "cell_type": "code",
   "execution_count": 14,
   "metadata": {},
   "outputs": [],
   "source": [
    "import ollama\n",
    "from typing import List, Dict, Optional\n",
    "\n",
    "from pydantic import BaseModel, Field\n",
    "from typing import Literal, Dict, Any\n",
    "\n",
    "class FunctionParameters(BaseModel):\n",
    "    type: Literal[\"object\"] = \"object\"\n",
    "    properties: Dict[str, Dict[str, Any]]\n",
    "    required: list[str]\n",
    "\n",
    "class Function(BaseModel):\n",
    "    name: str = Field(description=\"Name of the function to call\")\n",
    "    description: str = Field(description=\"Description of what the function does\")\n",
    "    parameters: FunctionParameters\n",
    "\n",
    "class OllamaTool(BaseModel):\n",
    "    type: Literal[\"function\"] = \"function\"\n",
    "    function: Function\n",
    "\n",
    "class SearchQuery(BaseModel):\n",
    "    query: str = Field(description=\"The search query to execute\")\n",
    "    target_collection: str = Field(description=\"The collection to search in\", default=\"default\")\n",
    "    filters: str = Field(description=\"Any filters to apply to the search\", default=\"\")\n",
    "\n",
    "# Get the schema for SearchQuery, which defines the query parameter structure\n",
    "search_query_schema = SearchQuery.model_json_schema()\n",
    "query_properties = search_query_schema[\"properties\"]\n",
    "\n",
    "# Example usage for search function\n",
    "search_parameters = FunctionParameters(\n",
    "    properties={\n",
    "        \"query\": query_properties[\"query\"],\n",
    "        \"target_collection\": query_properties[\"target_collection\"],\n",
    "        \"filters\": query_properties[\"filters\"]\n",
    "    },\n",
    "    required=[\"query\", \"target_collection\"]  # Make both fields required\n",
    ")\n",
    "\n",
    "search_function = Function(\n",
    "    name=\"get_search_results\",\n",
    "    description=\"Search for documents in a specified collection using a query and optional filters.\",\n",
    "    parameters=search_parameters\n",
    ")\n",
    "\n",
    "tools_schema = [OllamaTool(\n",
    "    function=search_function\n",
    ").model_dump()]\n",
    "\n",
    "def ollama_function_selection(user_message: str,\n",
    "                            tools_schema: List,\n",
    "                            model_name: str = \"llama3.1:8b\") -> Optional[dict]:\n",
    "    \"\"\"\n",
    "    Get function calling arguments from Ollama model for a single function call.\n",
    "    Returns None if no function is selected.\n",
    "    \"\"\"\n",
    "    messages=[{\n",
    "        \"role\": \"system\",\n",
    "        \"content\": \"You are a helpful assistant that searches through document collections. When given a query, you should specify both the search query and target collection.\"\n",
    "    }, {\n",
    "        \"role\": \"user\", \n",
    "        \"content\": user_message\n",
    "    }]\n",
    "    \n",
    "    response = ollama.chat(\n",
    "        model=model_name,\n",
    "        messages=messages,\n",
    "        tools=tools_schema\n",
    "    )\n",
    "\n",
    "    if not response[\"message\"].get(\"tool_calls\"):\n",
    "        return None\n",
    "    \n",
    "    # Return arguments of first tool call\n",
    "    tool = response[\"message\"][\"tool_calls\"][0]\n",
    "    return tool[\"function\"][\"arguments\"]"
   ]
  },
  {
   "cell_type": "code",
   "execution_count": 18,
   "metadata": {},
   "outputs": [
    {
     "name": "stdout",
     "output_type": "stream",
     "text": [
      "{'filters': '', 'query': 'HNSW algorithm', 'target_collection': 'Computer Science Documentation'}\n"
     ]
    }
   ],
   "source": [
    "model_response = ollama_function_selection(\n",
    "    \"How does HNSW work?\",\n",
    "    tools_schema=tools_schema,\n",
    "    model_name=\"llama3.1:8b\"\n",
    ")\n",
    "\n",
    "print(model_response)"
   ]
  },
  {
   "cell_type": "markdown",
   "metadata": {},
   "source": [
    "## `WeaviateQuery` model\n",
    "\n",
    "```python\n",
    "class IntPropertyFilter(BaseModel):\n",
    "    property_name: str\n",
    "    operator: Literal[\"=\", \"<\", \">\", \"<=\", \">=\"]\n",
    "    value: int | float\n",
    "\n",
    "class TextPropertyFilter(BaseModel):\n",
    "    property_name: str\n",
    "    operator: Literal[\"=\", \"LIKE\"]\n",
    "    value: str\n",
    "\n",
    "class BooleanPropertyFilter(BaseModel):\n",
    "    property_name: str\n",
    "    operator: Literal[\"=\", \"!=\"]\n",
    "    value: bool\n",
    "\n",
    "class IntAggregation(BaseModel):\n",
    "    property_name: str\n",
    "    metrics: Literal[\"COUNT\", \"TYPE\", \"MIN\", \"MAX\", \"MEAN\", \"MEDIAN\", \"MODE\", \"SUM\"]\n",
    "\n",
    "class TextAggregation(BaseModel):\n",
    "    property_name: str\n",
    "    metrics: Literal[\"COUNT\", \"TYPE\", \"TOP_OCCURRENCES\"]\n",
    "    top_occurrences_limit: Optional[int] = None\n",
    "\n",
    "class BooleanAggregation(BaseModel):\n",
    "    property_name: str\n",
    "    metrics: Literal[\"COUNT\", \"TYPE\", \"TOTAL_TRUE\", \"TOTAL_FALSE\", \"PERCENTAGE_TRUE\", \"PERCENTAGE_FALSE\"]\n",
    "\n",
    "class WeaviateQuery(BaseModel):\n",
    "    corresponding_natural_language_query: str\n",
    "    target_collection: str\n",
    "    search_query: Optional[str]\n",
    "    integer_property_filter: Optional[IntPropertyFilter]\n",
    "    text_property_filter: Optional[TextPropertyFilter]\n",
    "    boolean_property_filter: Optional[BooleanPropertyFilter]\n",
    "    integer_property_aggregation: Optional[IntAggregation]\n",
    "    text_property_aggregation: Optional[TextAggregation]\n",
    "    boolean_property_aggregation: Optional[BooleanAggregation]\n",
    "    groupby_property: Optional[str]\n",
    "```\n"
   ]
  },
  {
   "cell_type": "code",
   "execution_count": 53,
   "metadata": {},
   "outputs": [],
   "source": [
    "import ollama\n",
    "from typing import List, Dict, Optional, Union\n",
    "from pydantic import BaseModel, Field\n",
    "from typing import Literal, Dict, Any\n",
    "\n",
    "# Import the WeaviateQuery model and its dependencies from above\n",
    "class IntPropertyFilter(BaseModel):\n",
    "    property_name: str\n",
    "    operator: Literal[\"=\", \"<\", \">\", \"<=\", \">=\"]\n",
    "    value: int | float\n",
    "\n",
    "class TextPropertyFilter(BaseModel):\n",
    "    property_name: str\n",
    "    operator: Literal[\"=\", \"LIKE\"]\n",
    "    value: str\n",
    "\n",
    "class BooleanPropertyFilter(BaseModel):\n",
    "    property_name: str\n",
    "    operator: Literal[\"=\", \"!=\"]\n",
    "    value: bool\n",
    "\n",
    "class IntAggregation(BaseModel):\n",
    "    property_name: str\n",
    "    metrics: Literal[\"COUNT\", \"TYPE\", \"MIN\", \"MAX\", \"MEAN\", \"MEDIAN\", \"MODE\", \"SUM\"]\n",
    "\n",
    "class TextAggregation(BaseModel):\n",
    "    property_name: str\n",
    "    metrics: Literal[\"COUNT\", \"TYPE\", \"TOP_OCCURRENCES\"]\n",
    "    top_occurrences_limit: Optional[int] = None\n",
    "\n",
    "class BooleanAggregation(BaseModel):\n",
    "    property_name: str\n",
    "    metrics: Literal[\"COUNT\", \"TYPE\", \"TOTAL_TRUE\", \"TOTAL_FALSE\", \"PERCENTAGE_TRUE\", \"PERCENTAGE_FALSE\"]\n",
    "\n",
    "class WeaviateQuery(BaseModel):\n",
    "    corresponding_natural_language_query: str\n",
    "    target_collection: str\n",
    "    search_query: Optional[str]\n",
    "    integer_property_filter: Optional[IntPropertyFilter]\n",
    "    text_property_filter: Optional[TextPropertyFilter]\n",
    "    boolean_property_filter: Optional[BooleanPropertyFilter]\n",
    "    integer_property_aggregation: Optional[IntAggregation]\n",
    "    text_property_aggregation: Optional[TextAggregation]\n",
    "    boolean_property_aggregation: Optional[BooleanAggregation]\n",
    "    groupby_property: Optional[str]\n",
    "\n",
    "class OllamaFunction(BaseModel):\n",
    "    name: str\n",
    "    description: str\n",
    "    parameters: dict\n",
    "\n",
    "class OllamaTool(BaseModel):\n",
    "    type: Literal[\"function\"] = \"function\"\n",
    "    function: OllamaFunction\n",
    "\n",
    "# Get the schema for WeaviateQuery\n",
    "weaviate_query_schema = WeaviateQuery.model_json_schema()\n",
    "query_properties = weaviate_query_schema[\"properties\"]\n",
    "\n",
    "# Define function parameters using WeaviateQuery schema\n",
    "search_parameters = {\n",
    "    \"type\": \"object\",\n",
    "    \"properties\": {\n",
    "        \"corresponding_natural_language_query\": query_properties[\"corresponding_natural_language_query\"],\n",
    "        \"target_collection\": query_properties[\"target_collection\"],\n",
    "        \"search_query\": query_properties[\"search_query\"],\n",
    "        \"integer_property_filter\": {\n",
    "            \"type\": \"object\",\n",
    "            \"properties\": {\n",
    "                \"property_name\": {\"type\": \"string\"},\n",
    "                \"operator\": {\"type\": \"string\", \"enum\": [\"=\", \"<\", \">\", \"<=\", \">=\"]},\n",
    "                \"value\": {\"type\": \"number\"}\n",
    "            },\n",
    "            \"required\": [\"property_name\", \"operator\", \"value\"]\n",
    "        },\n",
    "        \"text_property_filter\": {\n",
    "            \"type\": \"object\", \n",
    "            \"properties\": {\n",
    "                \"property_name\": {\"type\": \"string\"},\n",
    "                \"operator\": {\"type\": \"string\", \"enum\": [\"=\", \"LIKE\"]},\n",
    "                \"value\": {\"type\": \"string\"}\n",
    "            },\n",
    "            \"required\": [\"property_name\", \"operator\", \"value\"]\n",
    "        },\n",
    "        \"boolean_property_filter\": {\n",
    "            \"type\": \"object\",\n",
    "            \"properties\": {\n",
    "                \"property_name\": {\"type\": \"string\"},\n",
    "                \"operator\": {\"type\": \"string\", \"enum\": [\"=\", \"!=\"]},\n",
    "                \"value\": {\"type\": \"boolean\"}\n",
    "            },\n",
    "            \"required\": [\"property_name\", \"operator\", \"value\"]\n",
    "        },\n",
    "        \"integer_property_aggregation\": {\n",
    "            \"type\": \"object\",\n",
    "            \"properties\": {\n",
    "                \"property_name\": {\"type\": \"string\"},\n",
    "                \"metrics\": {\"type\": \"string\", \"enum\": [\"COUNT\", \"TYPE\", \"MIN\", \"MAX\", \"MEAN\", \"MEDIAN\", \"MODE\", \"SUM\"]}\n",
    "            },\n",
    "            \"required\": [\"property_name\", \"metrics\"]\n",
    "        },\n",
    "        \"text_property_aggregation\": {\n",
    "            \"type\": \"object\",\n",
    "            \"properties\": {\n",
    "                \"property_name\": {\"type\": \"string\"},\n",
    "                \"metrics\": {\"type\": \"string\", \"enum\": [\"COUNT\", \"TYPE\", \"TOP_OCCURRENCES\"]},\n",
    "                \"top_occurrences_limit\": {\"type\": \"integer\"}\n",
    "            },\n",
    "            \"required\": [\"property_name\", \"metrics\"]\n",
    "        },\n",
    "        \"boolean_property_aggregation\": {\n",
    "            \"type\": \"object\",\n",
    "            \"properties\": {\n",
    "                \"property_name\": {\"type\": \"string\"},\n",
    "                \"metrics\": {\"type\": \"string\", \"enum\": [\"COUNT\", \"TYPE\", \"TOTAL_TRUE\", \"TOTAL_FALSE\", \"PERCENTAGE_TRUE\", \"PERCENTAGE_FALSE\"]}\n",
    "            },\n",
    "            \"required\": [\"property_name\", \"metrics\"]\n",
    "        },\n",
    "        \"groupby_property\": query_properties[\"groupby_property\"]\n",
    "    },\n",
    "    \"required\": [\"corresponding_natural_language_query\", \"target_collection\"]\n",
    "}\n",
    "\n",
    "tools_schema = [OllamaTool(\n",
    "    type=\"function\",\n",
    "    function=OllamaFunction(\n",
    "        name=\"get_search_results\",\n",
    "        description=\"\"\"Search for documents in a specified collection using a query and optional filters and aggregations.\n",
    "        When filtering by dates or years, use integer_property_filter with the appropriate property name and operator.\"\"\",\n",
    "        parameters=search_parameters\n",
    "    )\n",
    ").model_dump()]\n",
    "\n",
    "def ollama_function_selection(user_message: str,\n",
    "                            tools_schema: List,\n",
    "                            model_name: str = \"llama3.1:8b\") -> Optional[dict]:\n",
    "    \"\"\"\n",
    "    Get function calling arguments from Ollama model for a single function call.\n",
    "    Returns None if no function is selected.\n",
    "    \"\"\"\n",
    "    messages=[{\n",
    "        \"role\": \"system\",\n",
    "        \"content\": \"\"\"You are a helpful assistant that searches through document collections. When given a query, you should specify both the search query and target collection.\n",
    "        When filtering by dates or years, use integer_property_filter with the correct operator format, e.g.:\n",
    "        {\"property_name\": \"published_year\", \"operator\": \">=\", \"value\": 2022}\"\"\"\n",
    "    }, {\n",
    "        \"role\": \"user\", \n",
    "        \"content\": user_message\n",
    "    }]\n",
    "    \n",
    "    response = ollama.chat(\n",
    "        model=model_name,\n",
    "        messages=messages,\n",
    "        tools=tools_schema\n",
    "    )\n",
    "\n",
    "    if not response[\"message\"].get(\"tool_calls\"):\n",
    "        return None\n",
    "    \n",
    "    # Return arguments of first tool call\n",
    "    tool = response[\"message\"][\"tool_calls\"][0]\n",
    "    return tool[\"function\"][\"arguments\"]"
   ]
  },
  {
   "cell_type": "code",
   "execution_count": 54,
   "metadata": {},
   "outputs": [
    {
     "name": "stdout",
     "output_type": "stream",
     "text": [
      "{'corresponding_natural_language_query': 'How does HNSW work?', 'target_collection': 'knowledge_base'}\n"
     ]
    }
   ],
   "source": [
    "model_response = ollama_function_selection(\n",
    "    \"How does HNSW work?\",\n",
    "    tools_schema=tools_schema,\n",
    "    model_name=\"llama3.1:8b\"\n",
    ")\n",
    "\n",
    "print(model_response)"
   ]
  },
  {
   "cell_type": "code",
   "execution_count": 40,
   "metadata": {},
   "outputs": [
    {
     "name": "stdout",
     "output_type": "stream",
     "text": [
      "{'corresponding_natural_language_query': 'How does HNSW work?', 'integer_property_filter': \"{'property_name': 'published_year', 'operator': '>=', 'value': 2022}\", 'target_collection': 'articles'}\n"
     ]
    }
   ],
   "source": [
    "model_response = ollama_function_selection(\n",
    "    \"How does HNSW work? Filters by articles at least as new as 2022\",\n",
    "    tools_schema=tools_schema,\n",
    "    model_name=\"llama3.1:8b\"\n",
    ")\n",
    "\n",
    "print(model_response)"
   ]
  },
  {
   "cell_type": "code",
   "execution_count": 47,
   "metadata": {},
   "outputs": [
    {
     "data": {
      "text/plain": [
       "str"
      ]
     },
     "execution_count": 47,
     "metadata": {},
     "output_type": "execute_result"
    }
   ],
   "source": [
    "type(model_response[\"integer_property_filter\"])"
   ]
  },
  {
   "cell_type": "code",
   "execution_count": 50,
   "metadata": {},
   "outputs": [
    {
     "data": {
      "text/plain": [
       "IntPropertyFilter(property_name='published_year', operator='>=', value=2022)"
      ]
     },
     "execution_count": 50,
     "metadata": {},
     "output_type": "execute_result"
    }
   ],
   "source": [
    "import json\n",
    "from typing import Dict, Any\n",
    "\n",
    "def parse_int_property_filter(model_response: Dict[str, Any]) -> IntPropertyFilter:\n",
    "    # Replace single quotes with double quotes to make it valid JSON\n",
    "    json_str = model_response[\"integer_property_filter\"].replace(\"'\", '\"')\n",
    "    filter_dict = json.loads(json_str)\n",
    "    return IntPropertyFilter(\n",
    "        property_name=filter_dict[\"property_name\"],\n",
    "        operator=filter_dict[\"operator\"],\n",
    "        value=filter_dict[\"value\"]\n",
    "    )\n",
    "\n",
    "parse_int_property_filter(model_response)"
   ]
  },
  {
   "cell_type": "markdown",
   "metadata": {},
   "source": [
    "# Limitation of Filter Models"
   ]
  },
  {
   "cell_type": "code",
   "execution_count": 52,
   "metadata": {},
   "outputs": [
    {
     "name": "stdout",
     "output_type": "stream",
     "text": [
      "{'corresponding_natural_language_query': 'How does HNSW work?', 'integer_property_filter': {'operator': '>=', 'property_name': 'published_year', 'value': 2022}, 'target_collection': 'articles'}\n"
     ]
    }
   ],
   "source": [
    "model_response = ollama_function_selection(\n",
    "    \"How does HNSW work? Find articles from 2022 or later that have more than 1000 citations\",\n",
    "    tools_schema=tools_schema,\n",
    "    model_name=\"llama3.1:8b\"\n",
    ")\n",
    "\n",
    "print(model_response)"
   ]
  }
 ],
 "metadata": {
  "kernelspec": {
   "display_name": "Python 3",
   "language": "python",
   "name": "python3"
  },
  "language_info": {
   "codemirror_mode": {
    "name": "ipython",
    "version": 3
   },
   "file_extension": ".py",
   "mimetype": "text/x-python",
   "name": "python",
   "nbconvert_exporter": "python",
   "pygments_lexer": "ipython3",
   "version": "3.10.10"
  }
 },
 "nbformat": 4,
 "nbformat_minor": 2
}
