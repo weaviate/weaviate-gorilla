{
 "cells": [
  {
   "cell_type": "markdown",
   "metadata": {},
   "source": [
    "# Tool DSL Parsing"
   ]
  },
  {
   "cell_type": "code",
   "execution_count": 11,
   "metadata": {},
   "outputs": [],
   "source": [
    "import weaviate\n",
    "from weaviate.classes.query import Filter\n",
    "from weaviate.classes.query import Metrics # used for aggregation filter (not in this code cell block)\n",
    "from weaviate.classes.aggregate import GroupByAggregate # used for aggregation filter (not in this code cell block)\n",
    "\n",
    "def _build_weaviate_filter(filter_string: str) -> Filter:\n",
    "    def _parse_condition(condition: str) -> Filter:\n",
    "        parts = condition.split(':')\n",
    "        if len(parts) < 3:\n",
    "            raise ValueError(f\"Invalid condition: {condition}\")\n",
    "\n",
    "        property, operator, value = parts[0], parts[1], ':'.join(parts[2:])\n",
    "\n",
    "        if operator == '=':\n",
    "            return Filter.by_property(property).equal(value)\n",
    "        elif operator == '!=':\n",
    "            return Filter.by_property(property).not_equal(value)\n",
    "        elif operator == '>':\n",
    "            return Filter.by_property(property).greater_than(float(value))\n",
    "        elif operator == '<':\n",
    "            return Filter.by_property(property).less_than(float(value))\n",
    "        elif operator == '>=':\n",
    "            return Filter.by_property(property).greater_than_equal(float(value))\n",
    "        elif operator == '<=':\n",
    "            return Filter.by_property(property).less_than_equal(float(value))\n",
    "        elif operator == 'LIKE':\n",
    "            return Filter.by_property(property).like(value)\n",
    "        elif operator == 'CONTAINS_ANY':\n",
    "            return Filter.by_property(property).contains_any(value.split(','))\n",
    "        elif operator == 'CONTAINS_ALL':\n",
    "            return Filter.by_property(property).contains_all(value.split(','))\n",
    "        elif operator == 'WITHIN':\n",
    "            lat, lon, dist = map(float, value.split(','))\n",
    "            return Filter.by_property(property).within_geo_range(lat, lon, dist)\n",
    "        else:\n",
    "            raise ValueError(f\"Unsupported operator: {operator}\")\n",
    "\n",
    "    def _parse_group(group: str) -> Filter:\n",
    "        if 'AND' in group:\n",
    "            conditions = [_parse_group(g.strip()) for g in group.split('AND')]\n",
    "            return Filter.all_of(conditions)\n",
    "        elif 'OR' in group:\n",
    "            conditions = [_parse_group(g.strip()) for g in group.split('OR')]\n",
    "            return Filter.any_of(conditions)\n",
    "        else:\n",
    "            return _parse_condition(group)\n",
    "\n",
    "    # Remove outer parentheses if present\n",
    "    filter_string = filter_string.strip()\n",
    "    if filter_string.startswith('(') and filter_string.endswith(')'):\n",
    "        filter_string = filter_string[1:-1]\n",
    "\n",
    "    return _parse_group(filter_string)"
   ]
  },
  {
   "cell_type": "code",
   "execution_count": 12,
   "metadata": {},
   "outputs": [
    {
     "data": {
      "text/plain": [
       "_FilterValue(value='charles', operator=<_Operator.EQUAL: 'Equal'>, target='name')"
      ]
     },
     "execution_count": 12,
     "metadata": {},
     "output_type": "execute_result"
    }
   ],
   "source": [
    "_build_weaviate_filter(\"name:=:charles\")"
   ]
  },
  {
   "cell_type": "code",
   "execution_count": 15,
   "metadata": {},
   "outputs": [],
   "source": [
    "from typing import Tuple, Optional, List\n",
    "from weaviate.classes.query import Metrics\n",
    "from weaviate.classes.aggregate import GroupByAggregate\n",
    "import re\n",
    "\n",
    "def _build_weaviate_aggregation(agg_string: str) -> Tuple[Optional[GroupByAggregate], List[Metrics]]:\n",
    "    \"\"\"\n",
    "    Parses an aggregation string into Weaviate GroupByAggregate and Metrics objects.\n",
    "    \n",
    "    Format:\n",
    "    GROUP_BY(property) METRICS(property:type[metrics], property2:type[metrics])\n",
    "    \n",
    "    Examples:\n",
    "    - \"GROUP_BY(publication) METRICS(wordCount:int[count,mean,max])\"\n",
    "    - \"METRICS(rating:num[mean,sum], title:text[count,topOccurrences])\"\n",
    "    - \"GROUP_BY(author) METRICS(isPublished:bool[totalTrue,percentageFalse])\"\n",
    "    \n",
    "    Returns:\n",
    "    Tuple of (GroupByAggregate, List[Metrics])\n",
    "    \"\"\"\n",
    "    def _parse_metrics(metrics_str: str) -> List[Metrics]:\n",
    "        # Extract content within METRICS(...)\n",
    "        metrics_list = []\n",
    "        \n",
    "        # Split multiple metrics definitions by comma, but not within brackets\n",
    "        metrics_parts = []\n",
    "        current_part = \"\"\n",
    "        bracket_count = 0\n",
    "        \n",
    "        for char in metrics_str:\n",
    "            if char == '[':\n",
    "                bracket_count += 1\n",
    "            elif char == ']':\n",
    "                bracket_count -= 1\n",
    "            elif char == ',' and bracket_count == 0:\n",
    "                metrics_parts.append(current_part.strip())\n",
    "                current_part = \"\"\n",
    "                continue\n",
    "            current_part += char\n",
    "        if current_part:\n",
    "            metrics_parts.append(current_part.strip())\n",
    "        \n",
    "        # Parse each metric definition\n",
    "        for metric in metrics_parts:\n",
    "            # Parse property:type[operations]\n",
    "            match = re.match(r'(\\w+):(text|int|num|bool)\\[([\\w,]+)\\]', metric.strip())\n",
    "            if not match:\n",
    "                raise ValueError(f\"Invalid metrics format: {metric}\")\n",
    "            \n",
    "            prop_name, data_type, operations = match.groups()\n",
    "            operations = [op.strip() for op in operations.split(',')]\n",
    "            \n",
    "            # Create appropriate Metrics object based on type\n",
    "            if data_type == 'text':\n",
    "                metric_obj = Metrics(prop_name).text(\n",
    "                    count='count' in operations,\n",
    "                    top_occurrences='topOccurrences' in operations\n",
    "                )\n",
    "            elif data_type in ('int', 'num'):\n",
    "                metric_obj = Metrics(prop_name).number(\n",
    "                    count='count' in operations,\n",
    "                    minimum='min' in operations,\n",
    "                    maximum='max' in operations,\n",
    "                    mean='mean' in operations,\n",
    "                    median='median' in operations,\n",
    "                    mode='mode' in operations,\n",
    "                    sum_='sum' in operations\n",
    "                )\n",
    "            elif data_type == 'bool':\n",
    "                metric_obj = Metrics(prop_name).boolean(\n",
    "                    count='count' in operations,\n",
    "                    total_true='totalTrue' in operations,\n",
    "                    total_false='totalFalse' in operations,\n",
    "                    percentage_true='percentageTrue' in operations,\n",
    "                    percentage_false='percentageFalse' in operations\n",
    "                )\n",
    "            else:\n",
    "                raise ValueError(f\"Unsupported data type: {data_type}\")\n",
    "                \n",
    "            metrics_list.append(metric_obj)\n",
    "        \n",
    "        return metrics_list\n",
    "\n",
    "    def _parse_group_by(group_str: str) -> GroupByAggregate:\n",
    "        # Extract property name from GROUP_BY(property)\n",
    "        match = re.match(r'GROUP_BY\\((\\w+)\\)', group_str)\n",
    "        if not match:\n",
    "            raise ValueError(f\"Invalid GROUP_BY format: {group_str}\")\n",
    "        \n",
    "        return GroupByAggregate(prop=match.group(1))\n",
    "\n",
    "    # Initialize return values\n",
    "    group_by = None\n",
    "    metrics = []\n",
    "    \n",
    "    # Split into parts by space, but not within parentheses\n",
    "    parts = []\n",
    "    current_part = \"\"\n",
    "    paren_count = 0\n",
    "    \n",
    "    for char in agg_string:\n",
    "        if char == '(':\n",
    "            paren_count += 1\n",
    "        elif char == ')':\n",
    "            paren_count -= 1\n",
    "        elif char.isspace() and paren_count == 0:\n",
    "            if current_part:\n",
    "                parts.append(current_part)\n",
    "            current_part = \"\"\n",
    "            continue\n",
    "        current_part += char\n",
    "    if current_part:\n",
    "        parts.append(current_part)\n",
    "    \n",
    "    # Parse each part\n",
    "    for part in parts:\n",
    "        if part.startswith('GROUP_BY'):\n",
    "            if group_by is not None:\n",
    "                raise ValueError(\"Multiple GROUP_BY clauses not allowed\")\n",
    "            group_by = _parse_group_by(part)\n",
    "        elif part.startswith('METRICS'):\n",
    "            # Extract content within METRICS(...)\n",
    "            match = re.match(r'METRICS\\((.*)\\)', part)\n",
    "            if not match:\n",
    "                raise ValueError(f\"Invalid METRICS format: {part}\")\n",
    "            metrics.extend(_parse_metrics(match.group(1)))\n",
    "    \n",
    "    return group_by, metrics"
   ]
  },
  {
   "cell_type": "code",
   "execution_count": 16,
   "metadata": {},
   "outputs": [],
   "source": [
    "agg_str1 = \"METRICS(wordCount:int[count,mean,max])\"\n",
    "group_by1, metrics1 = _build_weaviate_aggregation(agg_str1)"
   ]
  },
  {
   "cell_type": "code",
   "execution_count": 17,
   "metadata": {},
   "outputs": [],
   "source": [
    "group_by1"
   ]
  },
  {
   "cell_type": "code",
   "execution_count": 18,
   "metadata": {},
   "outputs": [
    {
     "data": {
      "text/plain": [
       "[_MetricsNumber(property_name='wordCount', count=True, maximum=True, mean=True, median=False, minimum=False, mode=False, sum_=False)]"
      ]
     },
     "execution_count": 18,
     "metadata": {},
     "output_type": "execute_result"
    }
   ],
   "source": [
    "metrics1"
   ]
  },
  {
   "cell_type": "code",
   "execution_count": 19,
   "metadata": {},
   "outputs": [],
   "source": [
    "def test_aggregation_builder():\n",
    "    # Test case 1: Just metrics\n",
    "    agg_str1 = \"METRICS(wordCount:int[count,mean,max])\"\n",
    "    group_by1, metrics1 = _build_weaviate_aggregation(agg_str1)\n",
    "    assert group_by1 is None\n",
    "    assert len(metrics1) == 1\n",
    "    \n",
    "    # Test case 2: Group by with metrics\n",
    "    agg_str2 = \"GROUP_BY(publication) METRICS(rating:num[mean,sum])\"\n",
    "    group_by2, metrics2 = _build_weaviate_aggregation(agg_str2)\n",
    "    assert group_by2.prop == \"publication\"\n",
    "    assert len(metrics2) == 1\n",
    "    \n",
    "    # Test case 3: Multiple metrics\n",
    "    agg_str3 = \"METRICS(rating:num[mean,sum], isPublished:bool[totalTrue,percentageFalse])\"\n",
    "    group_by3, metrics3 = _build_weaviate_aggregation(agg_str3)\n",
    "    assert group_by3 is None\n",
    "    assert len(metrics3) == 2\n",
    "    \n",
    "    print(\"All tests passed!\")"
   ]
  },
  {
   "cell_type": "code",
   "execution_count": 20,
   "metadata": {},
   "outputs": [
    {
     "name": "stdout",
     "output_type": "stream",
     "text": [
      "All tests passed!\n"
     ]
    }
   ],
   "source": [
    "test_aggregation_builder()"
   ]
  },
  {
   "cell_type": "code",
   "execution_count": null,
   "metadata": {},
   "outputs": [],
   "source": []
  }
 ],
 "metadata": {
  "kernelspec": {
   "display_name": "Python 3",
   "language": "python",
   "name": "python3"
  },
  "language_info": {
   "codemirror_mode": {
    "name": "ipython",
    "version": 3
   },
   "file_extension": ".py",
   "mimetype": "text/x-python",
   "name": "python",
   "nbconvert_exporter": "python",
   "pygments_lexer": "ipython3",
   "version": "3.10.10"
  }
 },
 "nbformat": 4,
 "nbformat_minor": 2
}
