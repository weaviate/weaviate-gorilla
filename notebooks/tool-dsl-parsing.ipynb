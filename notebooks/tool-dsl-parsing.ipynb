{
 "cells": [
  {
   "cell_type": "markdown",
   "metadata": {},
   "source": [
    "# Tool DSL Parsing"
   ]
  },
  {
   "cell_type": "code",
   "execution_count": 5,
   "metadata": {},
   "outputs": [],
   "source": [
    "import weaviate\n",
    "from weaviate.classes.query import Filter\n",
    "from weaviate.classes.query import Metrics # used for aggregation filter (note in this code cell block)\n",
    "\n",
    "def _build_weaviate_filter(filter_string: str) -> Filter:\n",
    "    def _parse_condition(condition: str) -> Filter:\n",
    "        parts = condition.split(':')\n",
    "        if len(parts) < 3:\n",
    "            raise ValueError(f\"Invalid condition: {condition}\")\n",
    "\n",
    "        property, operator, value = parts[0], parts[1], ':'.join(parts[2:])\n",
    "\n",
    "        if operator == '=':\n",
    "            return Filter.by_property(property).equal(value)\n",
    "        elif operator == '!=':\n",
    "            return Filter.by_property(property).not_equal(value)\n",
    "        elif operator == '>':\n",
    "            return Filter.by_property(property).greater_than(float(value))\n",
    "        elif operator == '<':\n",
    "            return Filter.by_property(property).less_than(float(value))\n",
    "        elif operator == '>=':\n",
    "            return Filter.by_property(property).greater_than_equal(float(value))\n",
    "        elif operator == '<=':\n",
    "            return Filter.by_property(property).less_than_equal(float(value))\n",
    "        elif operator == 'LIKE':\n",
    "            return Filter.by_property(property).like(value)\n",
    "        elif operator == 'CONTAINS_ANY':\n",
    "            return Filter.by_property(property).contains_any(value.split(','))\n",
    "        elif operator == 'CONTAINS_ALL':\n",
    "            return Filter.by_property(property).contains_all(value.split(','))\n",
    "        elif operator == 'WITHIN':\n",
    "            lat, lon, dist = map(float, value.split(','))\n",
    "            return Filter.by_property(property).within_geo_range(lat, lon, dist)\n",
    "        else:\n",
    "            raise ValueError(f\"Unsupported operator: {operator}\")\n",
    "\n",
    "    def _parse_group(group: str) -> Filter:\n",
    "        if 'AND' in group:\n",
    "            conditions = [_parse_group(g.strip()) for g in group.split('AND')]\n",
    "            return Filter.all_of(conditions)\n",
    "        elif 'OR' in group:\n",
    "            conditions = [_parse_group(g.strip()) for g in group.split('OR')]\n",
    "            return Filter.any_of(conditions)\n",
    "        else:\n",
    "            return _parse_condition(group)\n",
    "\n",
    "    # Remove outer parentheses if present\n",
    "    filter_string = filter_string.strip()\n",
    "    if filter_string.startswith('(') and filter_string.endswith(')'):\n",
    "        filter_string = filter_string[1:-1]\n",
    "\n",
    "    return _parse_group(filter_string)"
   ]
  },
  {
   "cell_type": "code",
   "execution_count": 6,
   "metadata": {},
   "outputs": [
    {
     "data": {
      "text/plain": [
       "_FilterValue(value='charles', operator=<_Operator.EQUAL: 'Equal'>, target='name')"
      ]
     },
     "execution_count": 6,
     "metadata": {},
     "output_type": "execute_result"
    }
   ],
   "source": [
    "_build_weaviate_filter(\"name:=:charles\")"
   ]
  },
  {
   "cell_type": "code",
   "execution_count": null,
   "metadata": {},
   "outputs": [],
   "source": []
  }
 ],
 "metadata": {
  "kernelspec": {
   "display_name": "Python 3",
   "language": "python",
   "name": "python3"
  },
  "language_info": {
   "codemirror_mode": {
    "name": "ipython",
    "version": 3
   },
   "file_extension": ".py",
   "mimetype": "text/x-python",
   "name": "python",
   "nbconvert_exporter": "python",
   "pygments_lexer": "ipython3",
   "version": "3.10.10"
  }
 },
 "nbformat": 4,
 "nbformat_minor": 2
}
