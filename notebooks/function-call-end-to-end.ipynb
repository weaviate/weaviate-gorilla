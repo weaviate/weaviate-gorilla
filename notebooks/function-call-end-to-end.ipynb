{
 "cells": [
  {
   "cell_type": "markdown",
   "metadata": {},
   "source": [
    "# Create Schema with a POST request"
   ]
  },
  {
   "cell_type": "code",
   "execution_count": 1,
   "metadata": {},
   "outputs": [],
   "source": [
    "import weaviate"
   ]
  },
  {
   "cell_type": "code",
   "execution_count": 6,
   "metadata": {},
   "outputs": [],
   "source": [
    "import json\n",
    "import os\n",
    "\n",
    "# Read the aquarium schema JSON file\n",
    "schemas_path = os.path.join(\"..\", \"data\", \"cleaned-simple-3-collection-schemas.json\")\n",
    "with open(schemas_path, \"r\") as f:\n",
    "    schemas = json.load(f)"
   ]
  },
  {
   "cell_type": "code",
   "execution_count": 7,
   "metadata": {},
   "outputs": [
    {
     "data": {
      "text/plain": [
       "{'properties': [{'name': 'DishName',\n",
       "   'data_type': ['string'],\n",
       "   'description': 'The name of the dish offered in the restaurant menu.'},\n",
       "  {'name': 'Price',\n",
       "   'data_type': ['number'],\n",
       "   'description': 'The price of the dish.'},\n",
       "  {'name': 'IsVegetarian',\n",
       "   'data_type': ['boolean'],\n",
       "   'description': 'Indicates if the dish is vegetarian.'}],\n",
       " 'class': 'RestaurantMenu',\n",
       " 'description': 'The RestaurantMenu collection stores details about each dish offered in a restaurant, including their names, prices, and vegetarian status. This information allows for menu management and facilitates the creation of customer-friendly menu displays.',\n",
       " 'vectorIndexType': 'hnsw',\n",
       " 'vectorizer': 'text2vec-transformers'}"
      ]
     },
     "execution_count": 7,
     "metadata": {},
     "output_type": "execute_result"
    }
   ],
   "source": [
    "import json\n",
    "json_schema = json.loads(schemas[0])\n",
    "json_schema[\"weaviate_collections\"][0]"
   ]
  },
  {
   "cell_type": "code",
   "execution_count": 8,
   "metadata": {},
   "outputs": [
    {
     "data": {
      "text/plain": [
       "{'weaviate_collections': [{'properties': [{'name': 'DishName',\n",
       "     'data_type': ['string'],\n",
       "     'description': 'The name of the dish offered in the restaurant menu.'},\n",
       "    {'name': 'Price',\n",
       "     'data_type': ['number'],\n",
       "     'description': 'The price of the dish.'},\n",
       "    {'name': 'IsVegetarian',\n",
       "     'data_type': ['boolean'],\n",
       "     'description': 'Indicates if the dish is vegetarian.'}],\n",
       "   'class': 'RestaurantMenu',\n",
       "   'description': 'The RestaurantMenu collection stores details about each dish offered in a restaurant, including their names, prices, and vegetarian status. This information allows for menu management and facilitates the creation of customer-friendly menu displays.',\n",
       "   'vectorIndexType': 'hnsw',\n",
       "   'vectorizer': 'text2vec-transformers'},\n",
       "  {'properties': [{'name': 'CustomerName',\n",
       "     'data_type': ['string'],\n",
       "     'description': 'The name of the customer who places the order.'},\n",
       "    {'name': 'TotalAmount',\n",
       "     'data_type': ['number'],\n",
       "     'description': \"The total amount for the customer's order.\"},\n",
       "    {'name': 'IsTakeaway',\n",
       "     'data_type': ['boolean'],\n",
       "     'description': 'Indicates whether the order is for takeaway or dine-in.'}],\n",
       "   'class': 'CustomerOrders',\n",
       "   'description': 'The CustomerOrders collection captures details of customer orders, including their names, total amounts, and whether the orders are takeaway. This collection helps in processing orders and managing order histories.',\n",
       "   'vectorIndexType': 'hnsw',\n",
       "   'vectorizer': 'text2vec-transformers'},\n",
       "  {'properties': [{'name': 'StaffName',\n",
       "     'data_type': ['string'],\n",
       "     'description': 'The name of the staff member.'},\n",
       "    {'name': 'ExperienceYears',\n",
       "     'data_type': ['number'],\n",
       "     'description': 'The number of years of experience the staff member has.'},\n",
       "    {'name': 'IsOnDuty',\n",
       "     'data_type': ['boolean'],\n",
       "     'description': 'Indicates if the staff member is currently on duty.'}],\n",
       "   'class': 'StaffMembers',\n",
       "   'description': \"The StaffMembers collection maintains information about the restaurant's staff, including their names, experience, and current duty status. This collection is essential for scheduling and managing staffing levels.\",\n",
       "   'vectorIndexType': 'hnsw',\n",
       "   'vectorizer': 'text2vec-transformers'}]}"
      ]
     },
     "execution_count": 8,
     "metadata": {},
     "output_type": "execute_result"
    }
   ],
   "source": [
    "json_schema"
   ]
  },
  {
   "cell_type": "code",
   "execution_count": 9,
   "metadata": {},
   "outputs": [
    {
     "name": "stdout",
     "output_type": "stream",
     "text": [
      "Sending schema for class RestaurantMenu:\n",
      "{\"class\": \"RestaurantMenu\", \"description\": \"The RestaurantMenu collection stores details about each dish offered in a restaurant, including their names, prices, and vegetarian status. This information allows for menu management and facilitates the creation of customer-friendly menu displays.\", \"properties\": [{\"name\": \"DishName\", \"description\": \"The name of the dish offered in the restaurant menu.\", \"dataType\": [\"string\"]}, {\"name\": \"Price\", \"description\": \"The price of the dish.\", \"dataType\": [\"number\"]}, {\"name\": \"IsVegetarian\", \"description\": \"Indicates if the dish is vegetarian.\", \"dataType\": [\"boolean\"]}], \"vectorizer\": \"text2vec-transformers\", \"vectorIndexType\": \"hnsw\"}\n",
      "Response status: 200\n",
      "Sending schema for class CustomerOrders:\n",
      "{\"class\": \"CustomerOrders\", \"description\": \"The CustomerOrders collection captures details of customer orders, including their names, total amounts, and whether the orders are takeaway. This collection helps in processing orders and managing order histories.\", \"properties\": [{\"name\": \"CustomerName\", \"description\": \"The name of the customer who places the order.\", \"dataType\": [\"string\"]}, {\"name\": \"TotalAmount\", \"description\": \"The total amount for the customer's order.\", \"dataType\": [\"number\"]}, {\"name\": \"IsTakeaway\", \"description\": \"Indicates whether the order is for takeaway or dine-in.\", \"dataType\": [\"boolean\"]}], \"vectorizer\": \"text2vec-transformers\", \"vectorIndexType\": \"hnsw\"}\n",
      "Response status: 200\n",
      "Sending schema for class StaffMembers:\n",
      "{\"class\": \"StaffMembers\", \"description\": \"The StaffMembers collection maintains information about the restaurant's staff, including their names, experience, and current duty status. This collection is essential for scheduling and managing staffing levels.\", \"properties\": [{\"name\": \"StaffName\", \"description\": \"The name of the staff member.\", \"dataType\": [\"string\"]}, {\"name\": \"ExperienceYears\", \"description\": \"The number of years of experience the staff member has.\", \"dataType\": [\"number\"]}, {\"name\": \"IsOnDuty\", \"description\": \"Indicates if the staff member is currently on duty.\", \"dataType\": [\"boolean\"]}], \"vectorizer\": \"text2vec-transformers\", \"vectorIndexType\": \"hnsw\"}\n",
      "Response status: 200\n"
     ]
    }
   ],
   "source": [
    "import requests\n",
    "\n",
    "url = \"http://localhost:8080/v1/schema\"\n",
    "\n",
    "# Post each class schema separately\n",
    "for class_schema in json_schema['weaviate_collections']:\n",
    "    # Make sure the schema has all required fields\n",
    "    if 'class' not in class_schema:\n",
    "        print(\"Error: Schema missing required 'class' field\")\n",
    "        continue\n",
    "        \n",
    "    # Create a clean schema object with only the required fields\n",
    "    clean_schema = {\n",
    "        'class': class_schema['class'],  # Use existing 'class' field\n",
    "        'description': class_schema.get('description', ''),\n",
    "        'properties': [\n",
    "            {\n",
    "                'name': prop['name'],\n",
    "                'description': prop.get('description', ''),\n",
    "                'dataType': prop['data_type']  # Weaviate expects dataType, not data_type\n",
    "            }\n",
    "            for prop in class_schema.get('properties', [])\n",
    "        ],\n",
    "        'vectorizer': class_schema.get('vectorizer', 'text2vec-transformers'),\n",
    "        'vectorIndexType': class_schema.get('vectorIndexType', 'hnsw'),\n",
    "    }\n",
    "    \n",
    "    # Convert to string\n",
    "    schema_str = json.dumps(clean_schema)\n",
    "    \n",
    "    print(f\"Sending schema for class {clean_schema['class']}:\")\n",
    "    print(schema_str)\n",
    "    \n",
    "    response = requests.post(\n",
    "        url, \n",
    "        data=schema_str,\n",
    "        headers={'Content-Type': 'application/json'}\n",
    "    )\n",
    "    \n",
    "    print(f\"Response status: {response.status_code}\")\n",
    "    if response.status_code != 200:\n",
    "        print(f\"Error response: {response.text}\")"
   ]
  },
  {
   "cell_type": "markdown",
   "metadata": {},
   "source": [
    "# Parse `collections.list_all()`"
   ]
  },
  {
   "cell_type": "code",
   "execution_count": 10,
   "metadata": {},
   "outputs": [
    {
     "name": "stderr",
     "output_type": "stream",
     "text": [
      "/Library/Frameworks/Python.framework/Versions/3.10/lib/python3.10/site-packages/weaviate/warnings.py:133: DeprecationWarning: Dep005: You are using weaviate-client version 2.5.1.dev2434+g7589c2f. The latest version is 4.9.0.\n",
      "            Consider upgrading to the latest version. See https://weaviate.io/developers/weaviate/client-libraries/python for details.\n",
      "  warnings.warn(\n"
     ]
    },
    {
     "data": {
      "text/plain": [
       "{'RestaurantMenu': _CollectionConfigSimple(name='RestaurantMenu', description='The RestaurantMenu collection stores details about each dish offered in a restaurant, including their names, prices, and vegetarian status. This information allows for menu management and facilitates the creation of customer-friendly menu displays.', generative_config=None, properties=[_Property(name='dishName', description='The name of the dish offered in the restaurant menu.', data_type=<DataType.TEXT: 'text'>, index_filterable=True, index_range_filters=False, index_searchable=True, nested_properties=None, tokenization=<Tokenization.WHITESPACE: 'whitespace'>, vectorizer_config=_PropertyVectorizerConfig(skip=False, vectorize_property_name=False), vectorizer='text2vec-transformers'), _Property(name='price', description='The price of the dish.', data_type=<DataType.NUMBER: 'number'>, index_filterable=True, index_range_filters=False, index_searchable=False, nested_properties=None, tokenization=None, vectorizer_config=_PropertyVectorizerConfig(skip=False, vectorize_property_name=False), vectorizer='text2vec-transformers'), _Property(name='isVegetarian', description='Indicates if the dish is vegetarian.', data_type=<DataType.BOOL: 'boolean'>, index_filterable=True, index_range_filters=False, index_searchable=False, nested_properties=None, tokenization=None, vectorizer_config=_PropertyVectorizerConfig(skip=False, vectorize_property_name=False), vectorizer='text2vec-transformers')], references=[], reranker_config=None, vectorizer_config=_VectorizerConfig(vectorizer=<Vectorizers.TEXT2VEC_TRANSFORMERS: 'text2vec-transformers'>, model={'poolingStrategy': 'masked_mean'}, vectorize_collection_name=True), vectorizer=<Vectorizers.TEXT2VEC_TRANSFORMERS: 'text2vec-transformers'>, vector_config=None),\n",
       " 'MedicalStaff': _CollectionConfigSimple(name='MedicalStaff', description='The MedicalStaff collection maintains records of hospital staff members, their experience, and current duty status. This allows efficient scheduling and assignment of staff to patients based on their needs and availability.', generative_config=None, properties=[_Property(name='staffName', description='Name of the medical staff member.', data_type=<DataType.TEXT: 'text'>, index_filterable=True, index_range_filters=False, index_searchable=True, nested_properties=None, tokenization=<Tokenization.WORD: 'word'>, vectorizer_config=_PropertyVectorizerConfig(skip=False, vectorize_property_name=False), vectorizer='text2vec-transformers'), _Property(name='yearsOfExperience', description='Number of years of experience the staff has.', data_type=<DataType.NUMBER: 'number'>, index_filterable=True, index_range_filters=False, index_searchable=False, nested_properties=None, tokenization=None, vectorizer_config=_PropertyVectorizerConfig(skip=False, vectorize_property_name=False), vectorizer='text2vec-transformers'), _Property(name='onDuty', description='Indicates if the staff member is currently on duty.', data_type=<DataType.BOOL: 'boolean'>, index_filterable=True, index_range_filters=False, index_searchable=False, nested_properties=None, tokenization=None, vectorizer_config=_PropertyVectorizerConfig(skip=False, vectorize_property_name=False), vectorizer='text2vec-transformers')], references=[], reranker_config=None, vectorizer_config=_VectorizerConfig(vectorizer=<Vectorizers.TEXT2VEC_TRANSFORMERS: 'text2vec-transformers'>, model={'poolingStrategy': 'masked_mean'}, vectorize_collection_name=True), vectorizer=<Vectorizers.TEXT2VEC_TRANSFORMERS: 'text2vec-transformers'>, vector_config=None),\n",
       " 'HospitalPatients': _CollectionConfigSimple(name='HospitalPatients', description='The HospitalPatients collection tracks patient information, including their demographics and admission status. This is crucial for managing patient records and coordinating care with medical staff.', generative_config=None, properties=[_Property(name='patientName', description='Name of the patient.', data_type=<DataType.TEXT: 'text'>, index_filterable=True, index_range_filters=False, index_searchable=True, nested_properties=None, tokenization=<Tokenization.WORD: 'word'>, vectorizer_config=_PropertyVectorizerConfig(skip=False, vectorize_property_name=False), vectorizer='text2vec-transformers'), _Property(name='age', description='Age of the patient.', data_type=<DataType.NUMBER: 'number'>, index_filterable=True, index_range_filters=False, index_searchable=False, nested_properties=None, tokenization=None, vectorizer_config=_PropertyVectorizerConfig(skip=False, vectorize_property_name=False), vectorizer='text2vec-transformers'), _Property(name='admitted', description='Indicates if the patient is currently admitted to the hospital.', data_type=<DataType.BOOL: 'boolean'>, index_filterable=True, index_range_filters=False, index_searchable=False, nested_properties=None, tokenization=None, vectorizer_config=_PropertyVectorizerConfig(skip=False, vectorize_property_name=False), vectorizer='text2vec-transformers')], references=[], reranker_config=None, vectorizer_config=_VectorizerConfig(vectorizer=<Vectorizers.TEXT2VEC_TRANSFORMERS: 'text2vec-transformers'>, model={'poolingStrategy': 'masked_mean'}, vectorize_collection_name=True), vectorizer=<Vectorizers.TEXT2VEC_TRANSFORMERS: 'text2vec-transformers'>, vector_config=None),\n",
       " 'CustomerOrders': _CollectionConfigSimple(name='CustomerOrders', description='The CustomerOrders collection captures details of customer orders, including their names, total amounts, and whether the orders are takeaway. This collection helps in processing orders and managing order histories.', generative_config=None, properties=[_Property(name='customerName', description='The name of the customer who places the order.', data_type=<DataType.TEXT: 'text'>, index_filterable=True, index_range_filters=False, index_searchable=True, nested_properties=None, tokenization=<Tokenization.WHITESPACE: 'whitespace'>, vectorizer_config=_PropertyVectorizerConfig(skip=False, vectorize_property_name=False), vectorizer='text2vec-transformers'), _Property(name='totalAmount', description=\"The total amount for the customer's order.\", data_type=<DataType.NUMBER: 'number'>, index_filterable=True, index_range_filters=False, index_searchable=False, nested_properties=None, tokenization=None, vectorizer_config=_PropertyVectorizerConfig(skip=False, vectorize_property_name=False), vectorizer='text2vec-transformers'), _Property(name='isTakeaway', description='Indicates whether the order is for takeaway or dine-in.', data_type=<DataType.BOOL: 'boolean'>, index_filterable=True, index_range_filters=False, index_searchable=False, nested_properties=None, tokenization=None, vectorizer_config=_PropertyVectorizerConfig(skip=False, vectorize_property_name=False), vectorizer='text2vec-transformers')], references=[], reranker_config=None, vectorizer_config=_VectorizerConfig(vectorizer=<Vectorizers.TEXT2VEC_TRANSFORMERS: 'text2vec-transformers'>, model={'poolingStrategy': 'masked_mean'}, vectorize_collection_name=True), vectorizer=<Vectorizers.TEXT2VEC_TRANSFORMERS: 'text2vec-transformers'>, vector_config=None),\n",
       " 'StaffMembers': _CollectionConfigSimple(name='StaffMembers', description=\"The StaffMembers collection maintains information about the restaurant's staff, including their names, experience, and current duty status. This collection is essential for scheduling and managing staffing levels.\", generative_config=None, properties=[_Property(name='staffName', description='The name of the staff member.', data_type=<DataType.TEXT: 'text'>, index_filterable=True, index_range_filters=False, index_searchable=True, nested_properties=None, tokenization=<Tokenization.WHITESPACE: 'whitespace'>, vectorizer_config=_PropertyVectorizerConfig(skip=False, vectorize_property_name=False), vectorizer='text2vec-transformers'), _Property(name='experienceYears', description='The number of years of experience the staff member has.', data_type=<DataType.NUMBER: 'number'>, index_filterable=True, index_range_filters=False, index_searchable=False, nested_properties=None, tokenization=None, vectorizer_config=_PropertyVectorizerConfig(skip=False, vectorize_property_name=False), vectorizer='text2vec-transformers'), _Property(name='isOnDuty', description='Indicates if the staff member is currently on duty.', data_type=<DataType.BOOL: 'boolean'>, index_filterable=True, index_range_filters=False, index_searchable=False, nested_properties=None, tokenization=None, vectorizer_config=_PropertyVectorizerConfig(skip=False, vectorize_property_name=False), vectorizer='text2vec-transformers')], references=[], reranker_config=None, vectorizer_config=_VectorizerConfig(vectorizer=<Vectorizers.TEXT2VEC_TRANSFORMERS: 'text2vec-transformers'>, model={'poolingStrategy': 'masked_mean'}, vectorize_collection_name=True), vectorizer=<Vectorizers.TEXT2VEC_TRANSFORMERS: 'text2vec-transformers'>, vector_config=None),\n",
       " 'HospitalDepartments': _CollectionConfigSimple(name='HospitalDepartments', description='HospitalDepartments provides information on each department within the hospital, including their capacity and operational status. This helps in optimizing resource allocation and ensuring each department can handle patient load effectively.', generative_config=None, properties=[_Property(name='departmentName', description='Name of the hospital department.', data_type=<DataType.TEXT: 'text'>, index_filterable=True, index_range_filters=False, index_searchable=True, nested_properties=None, tokenization=<Tokenization.WORD: 'word'>, vectorizer_config=_PropertyVectorizerConfig(skip=False, vectorize_property_name=False), vectorizer='text2vec-transformers'), _Property(name='bedCapacity', description='Number of beds available in the department.', data_type=<DataType.NUMBER: 'number'>, index_filterable=True, index_range_filters=False, index_searchable=False, nested_properties=None, tokenization=None, vectorizer_config=_PropertyVectorizerConfig(skip=False, vectorize_property_name=False), vectorizer='text2vec-transformers'), _Property(name='operational', description='Indicates if the department is currently operational.', data_type=<DataType.BOOL: 'boolean'>, index_filterable=True, index_range_filters=False, index_searchable=False, nested_properties=None, tokenization=None, vectorizer_config=_PropertyVectorizerConfig(skip=False, vectorize_property_name=False), vectorizer='text2vec-transformers')], references=[], reranker_config=None, vectorizer_config=_VectorizerConfig(vectorizer=<Vectorizers.TEXT2VEC_TRANSFORMERS: 'text2vec-transformers'>, model={'poolingStrategy': 'masked_mean'}, vectorize_collection_name=True), vectorizer=<Vectorizers.TEXT2VEC_TRANSFORMERS: 'text2vec-transformers'>, vector_config=None)}"
      ]
     },
     "execution_count": 10,
     "metadata": {},
     "output_type": "execute_result"
    }
   ],
   "source": [
    "import weaviate\n",
    "\n",
    "weaviate_client = weaviate.connect_to_local()\n",
    "\n",
    "weaviate_client.collections.list_all()"
   ]
  },
  {
   "cell_type": "code",
   "execution_count": 11,
   "metadata": {},
   "outputs": [
    {
     "name": "stdout",
     "output_type": "stream",
     "text": [
      "\n",
      "Collection Name: HospitalDepartments\n",
      "Description: HospitalDepartments provides information on each department within the hospital, including their capacity and operational status. This helps in optimizing resource allocation and ensuring each department can handle patient load effectively.\n",
      "\n",
      "Properties:\n",
      "- departmentName: Name of the hospital department. (type: text)\n",
      "- bedCapacity: Number of beds available in the department. (type: number)\n",
      "- operational: Indicates if the department is currently operational. (type: boolean)\n",
      "\n",
      "Collection Name: RestaurantMenu\n",
      "Description: The RestaurantMenu collection stores details about each dish offered in a restaurant, including their names, prices, and vegetarian status. This information allows for menu management and facilitates the creation of customer-friendly menu displays.\n",
      "\n",
      "Properties:\n",
      "- dishName: The name of the dish offered in the restaurant menu. (type: text)\n",
      "- price: The price of the dish. (type: number)\n",
      "- isVegetarian: Indicates if the dish is vegetarian. (type: boolean)\n",
      "\n",
      "Collection Name: MedicalStaff\n",
      "Description: The MedicalStaff collection maintains records of hospital staff members, their experience, and current duty status. This allows efficient scheduling and assignment of staff to patients based on their needs and availability.\n",
      "\n",
      "Properties:\n",
      "- staffName: Name of the medical staff member. (type: text)\n",
      "- yearsOfExperience: Number of years of experience the staff has. (type: number)\n",
      "- onDuty: Indicates if the staff member is currently on duty. (type: boolean)\n",
      "\n",
      "Collection Name: HospitalPatients\n",
      "Description: The HospitalPatients collection tracks patient information, including their demographics and admission status. This is crucial for managing patient records and coordinating care with medical staff.\n",
      "\n",
      "Properties:\n",
      "- patientName: Name of the patient. (type: text)\n",
      "- age: Age of the patient. (type: number)\n",
      "- admitted: Indicates if the patient is currently admitted to the hospital. (type: boolean)\n",
      "\n",
      "Collection Name: CustomerOrders\n",
      "Description: The CustomerOrders collection captures details of customer orders, including their names, total amounts, and whether the orders are takeaway. This collection helps in processing orders and managing order histories.\n",
      "\n",
      "Properties:\n",
      "- customerName: The name of the customer who places the order. (type: text)\n",
      "- totalAmount: The total amount for the customer's order. (type: number)\n",
      "- isTakeaway: Indicates whether the order is for takeaway or dine-in. (type: boolean)\n",
      "\n",
      "Collection Name: StaffMembers\n",
      "Description: The StaffMembers collection maintains information about the restaurant's staff, including their names, experience, and current duty status. This collection is essential for scheduling and managing staffing levels.\n",
      "\n",
      "Properties:\n",
      "- staffName: The name of the staff member. (type: text)\n",
      "- experienceYears: The number of years of experience the staff member has. (type: number)\n",
      "- isOnDuty: Indicates if the staff member is currently on duty. (type: boolean)\n"
     ]
    }
   ],
   "source": [
    "def get_collections_info(client: weaviate.WeaviateClient) -> tuple[str, list[str]]:\n",
    "    \"\"\"\n",
    "    Get detailed information about all collections in a Weaviate instance.\n",
    "    \n",
    "    Args:\n",
    "        client: A Weaviate client instance\n",
    "    \n",
    "    Returns:\n",
    "        tuple[str, list[str]]: Tuple containing formatted collection details string and list of collection names\n",
    "    \"\"\"\n",
    "    \n",
    "    collections = client.collections.list_all()\n",
    "    \n",
    "    # Get collection names as list\n",
    "    collection_names = list(collections.keys())\n",
    "    \n",
    "    # Build output string\n",
    "    output = []\n",
    "    for collection_name, config in collections.items():\n",
    "        output.append(f\"\\nCollection Name: {collection_name}\")\n",
    "        output.append(f\"Description: {config.description}\")\n",
    "        output.append(\"\\nProperties:\")\n",
    "        for prop in config.properties:\n",
    "            output.append(f\"- {prop.name}: {prop.description} (type: {prop.data_type.value})\")\n",
    "    \n",
    "    return \"\\n\".join(output), collection_names\n",
    "\n",
    "# Call the function with our client and print result\n",
    "info_str, collections_list = get_collections_info(weaviate_client)\n",
    "print(info_str)"
   ]
  },
  {
   "cell_type": "markdown",
   "metadata": {},
   "source": [
    "# Create Function"
   ]
  },
  {
   "cell_type": "markdown",
   "metadata": {},
   "source": [
    "OpenAI wants to take enum as an argument with the following:\n",
    "\n",
    "`\"enum\": [\"c\", \"f\"]`\n",
    "\n",
    "Function Schema:\n",
    "\n",
    "```python\n",
    "{\n",
    "    \"name\": \"search_weaviate_collection\",\n",
    "    \"description\": \"Search a Weaviate Collection\",\n",
    "    \"parameters\": {\n",
    "        \"type\": \"object\",\n",
    "        \"properties\": {\n",
    "            \"collection_name\": {\n",
    "                \"type\": \"enum\": collections_list,\n",
    "                \"description\": \"The Weaviate Collection to search through.\"\n",
    "            },\n",
    "            \"search_query\": {\n",
    "                \"type\": \"string\",\n",
    "                \"description\": \"The search query.\"\n",
    "            }\n",
    "        },\n",
    "        \"required\": [\"collection_name\", \"search_query\"],\n",
    "        \"additionalProperties\": False\n",
    "    }\n",
    "}\n",
    "```"
   ]
  },
  {
   "cell_type": "code",
   "execution_count": 12,
   "metadata": {},
   "outputs": [],
   "source": [
    "from typing import Literal, Optional, Dict, List, Union\n",
    "from pydantic import BaseModel\n",
    "\n",
    "class ParameterProperty(BaseModel):\n",
    "    type: str\n",
    "    description: str\n",
    "    enum: Optional[List[str]] = None\n",
    "\n",
    "class Parameters(BaseModel):\n",
    "    type: Literal[\"object\"]\n",
    "    properties: Dict[str, ParameterProperty]\n",
    "    required: Optional[List[str]]\n",
    "\n",
    "class Function(BaseModel):\n",
    "    name: str\n",
    "    description: str\n",
    "    parameters: Parameters\n",
    "\n",
    "class Tool(BaseModel):\n",
    "    type: Literal[\"function\"]\n",
    "    function: Function\n",
    "\n",
    "# Example usage:\n",
    "search_tool = Tool(\n",
    "    type=\"function\",\n",
    "    function=Function(\n",
    "        name=\"search_weaviate_collection\",\n",
    "        description=\"Search for the most relevant items to the provided `search_query` in a Weaviate Database Collection.\",\n",
    "        parameters=Parameters(\n",
    "            type=\"object\",\n",
    "            properties={\n",
    "                \"collection_name\": ParameterProperty(\n",
    "                    type=\"string\",\n",
    "                    description=\"The Weaviate Collection to search through.\",\n",
    "                    enum=collections_list\n",
    "                ),\n",
    "                \"search_query\": ParameterProperty(\n",
    "                    type=\"string\",\n",
    "                    description=\"The search query.\"\n",
    "                )\n",
    "            },\n",
    "            required=[\"collection_name\", \"search_query\"]\n",
    "        )\n",
    "    )\n",
    ")\n",
    "\n",
    "# Example of another tool:\n",
    "calculate_avg_tool = Tool(\n",
    "    type=\"function\", \n",
    "    function=Function(\n",
    "        name=\"calculate_average\",\n",
    "        description=\"Calculate the average of a numeric property across collection items\",\n",
    "        parameters=Parameters(\n",
    "            type=\"object\",\n",
    "            properties={\n",
    "                \"collection_name\": ParameterProperty(\n",
    "                    type=\"string\",\n",
    "                    description=\"The Weaviate Collection to analyze\",\n",
    "                    enum=collections_list\n",
    "                ),\n",
    "                \"property_name\": ParameterProperty(\n",
    "                    type=\"string\",\n",
    "                    description=\"The numeric property to average\"\n",
    "                )\n",
    "            },\n",
    "            required=[\"collection_name\", \"property_name\"]\n",
    "        )\n",
    "    )\n",
    ")"
   ]
  },
  {
   "cell_type": "code",
   "execution_count": 13,
   "metadata": {},
   "outputs": [
    {
     "name": "stdout",
     "output_type": "stream",
     "text": [
      "{\n",
      "  \"type\": \"function\",\n",
      "  \"function\": {\n",
      "    \"name\": \"search_weaviate_collection\",\n",
      "    \"description\": \"Search for the most relevant items to the provided `search_query` in a Weaviate Database Collection.\",\n",
      "    \"parameters\": {\n",
      "      \"type\": \"object\",\n",
      "      \"properties\": {\n",
      "        \"collection_name\": {\n",
      "          \"type\": \"string\",\n",
      "          \"description\": \"The Weaviate Collection to search through.\",\n",
      "          \"enum\": [\n",
      "            \"HospitalDepartments\",\n",
      "            \"RestaurantMenu\",\n",
      "            \"MedicalStaff\",\n",
      "            \"HospitalPatients\",\n",
      "            \"CustomerOrders\",\n",
      "            \"StaffMembers\"\n",
      "          ]\n",
      "        },\n",
      "        \"search_query\": {\n",
      "          \"type\": \"string\",\n",
      "          \"description\": \"The search query.\",\n",
      "          \"enum\": null\n",
      "        }\n",
      "      },\n",
      "      \"required\": [\n",
      "        \"collection_name\",\n",
      "        \"search_query\"\n",
      "      ]\n",
      "    }\n",
      "  }\n",
      "}\n"
     ]
    }
   ],
   "source": [
    "print(search_tool.model_dump_json(indent=2))"
   ]
  },
  {
   "cell_type": "code",
   "execution_count": 15,
   "metadata": {},
   "outputs": [],
   "source": [
    "tools = [search_tool]"
   ]
  },
  {
   "cell_type": "markdown",
   "metadata": {},
   "source": [
    "# Function Calling Test - Collection Query Routing"
   ]
  },
  {
   "cell_type": "code",
   "execution_count": 27,
   "metadata": {},
   "outputs": [],
   "source": [
    "import openai\n",
    "\n",
    "openai_client = openai.OpenAI(\n",
    "    api_key = \"\"\n",
    ")\n",
    "\n",
    "prompt = \"Does the restaurant have sandwhiches?\"\n",
    "\n",
    "messages = [\n",
    "    {\"role\": \"system\", \"content\": \"You are a helpful hospital support assistant. Use the supplied tools to assist the user.\"},\n",
    "    {\"role\": \"user\", \"content\": prompt}\n",
    "]\n",
    "\n",
    "response = openai_client.chat.completions.create(\n",
    "    model=\"gpt-4o-2024-08-06\",\n",
    "    messages=messages,\n",
    "    tools=tools,\n",
    ")"
   ]
  },
  {
   "cell_type": "code",
   "execution_count": 28,
   "metadata": {},
   "outputs": [
    {
     "name": "stdout",
     "output_type": "stream",
     "text": [
      "{\"collection_name\":\"RestaurantMenu\",\"search_query\":\"sandwich\"}\n"
     ]
    }
   ],
   "source": [
    "print(response.choices[0].message.tool_calls[0].function.arguments)\n"
   ]
  }
 ],
 "metadata": {
  "kernelspec": {
   "display_name": "Python 3",
   "language": "python",
   "name": "python3"
  },
  "language_info": {
   "codemirror_mode": {
    "name": "ipython",
    "version": 3
   },
   "file_extension": ".py",
   "mimetype": "text/x-python",
   "name": "python",
   "nbconvert_exporter": "python",
   "pygments_lexer": "ipython3",
   "version": "3.10.10"
  }
 },
 "nbformat": 4,
 "nbformat_minor": 2
}
