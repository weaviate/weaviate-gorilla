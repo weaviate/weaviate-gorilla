{
 "cells": [
  {
   "cell_type": "markdown",
   "metadata": {},
   "source": [
    "# DSPy Setup"
   ]
  },
  {
   "cell_type": "code",
   "execution_count": 1,
   "metadata": {},
   "outputs": [],
   "source": [
    "import dspy"
   ]
  },
  {
   "cell_type": "code",
   "execution_count": 2,
   "metadata": {},
   "outputs": [],
   "source": [
    "openai_api_key = \"\""
   ]
  },
  {
   "cell_type": "code",
   "execution_count": 3,
   "metadata": {},
   "outputs": [],
   "source": [
    "dspy.settings.configure(\n",
    "    lm=dspy.OpenAI(\n",
    "        model=\"gpt-4o-mini\",\n",
    "        api_key=openai_api_key,\n",
    "        max_tokens=4000,\n",
    "        temperature=0\n",
    "    )\n",
    ")"
   ]
  },
  {
   "cell_type": "code",
   "execution_count": 4,
   "metadata": {},
   "outputs": [
    {
     "data": {
      "text/plain": [
       "['Hello! How can I assist you today?']"
      ]
     },
     "execution_count": 4,
     "metadata": {},
     "output_type": "execute_result"
    }
   ],
   "source": [
    "dspy.settings.lm(\"say hello\")"
   ]
  },
  {
   "cell_type": "markdown",
   "metadata": {},
   "source": [
    "# Tool Setup"
   ]
  },
  {
   "cell_type": "code",
   "execution_count": 5,
   "metadata": {},
   "outputs": [],
   "source": [
    "# Load Schema into Weaviate\n",
    "\n",
    "# Load synthetic data into Weaviate\n",
    "\n",
    "# Run GFL to enhance data"
   ]
  },
  {
   "cell_type": "code",
   "execution_count": 3,
   "metadata": {},
   "outputs": [
    {
     "data": {
      "text/plain": [
       "3"
      ]
     },
     "execution_count": 3,
     "metadata": {},
     "output_type": "execute_result"
    }
   ],
   "source": [
    "import json\n",
    "import os\n",
    "\n",
    "schemas_path = os.path.join(\"..\", \"data\", \"simple-3-collection-schemas.json\")\n",
    "with open(schemas_path, \"r\") as f:\n",
    "    schemas = json.load(f)\n",
    "\n",
    "json_schema = json.loads(schemas[0])\n",
    "len(json_schema[\"weaviate_collections\"])"
   ]
  },
  {
   "cell_type": "code",
   "execution_count": 5,
   "metadata": {},
   "outputs": [
    {
     "data": {
      "text/plain": [
       "[Collection(name='RestaurantMenu', properties=[Property(name='DishName', data_type=['string'], description='The name of the dish offered in the restaurant menu.'), Property(name='Price', data_type=['number'], description='The price of the dish.'), Property(name='IsVegetarian', data_type=['boolean'], description='Indicates if the dish is vegetarian.')], envisioned_use_case_overview='The RestaurantMenu collection stores details about each dish offered in a restaurant, including their names, prices, and vegetarian status. This information allows for menu management and facilitates the creation of customer-friendly menu displays.'),\n",
       " Collection(name='CustomerOrders', properties=[Property(name='CustomerName', data_type=['string'], description='The name of the customer who places the order.'), Property(name='TotalAmount', data_type=['number'], description=\"The total amount for the customer's order.\"), Property(name='IsTakeaway', data_type=['boolean'], description='Indicates whether the order is for takeaway or dine-in.')], envisioned_use_case_overview='The CustomerOrders collection captures details of customer orders, including their names, total amounts, and whether the orders are takeaway. This collection helps in processing orders and managing order histories.'),\n",
       " Collection(name='StaffMembers', properties=[Property(name='StaffName', data_type=['string'], description='The name of the staff member.'), Property(name='ExperienceYears', data_type=['number'], description='The number of years of experience the staff member has.'), Property(name='IsOnDuty', data_type=['boolean'], description='Indicates if the staff member is currently on duty.')], envisioned_use_case_overview=\"The StaffMembers collection maintains information about the restaurant's staff, including their names, experience, and current duty status. This collection is essential for scheduling and managing staffing levels.\")]"
      ]
     },
     "execution_count": 5,
     "metadata": {},
     "output_type": "execute_result"
    }
   ],
   "source": [
    "from typing import List\n",
    "from pydantic import BaseModel\n",
    "\n",
    "class Property(BaseModel):\n",
    "    name: str\n",
    "    data_type: List[str]\n",
    "    description: str\n",
    "\n",
    "class Collection(BaseModel):\n",
    "    name: str\n",
    "    properties: List[Property]\n",
    "    envisioned_use_case_overview: str\n",
    "\n",
    "collections = [Collection.parse_obj(collection) for collection in json_schema[\"weaviate_collections\"]]\n",
    "collections"
   ]
  },
  {
   "cell_type": "code",
   "execution_count": null,
   "metadata": {},
   "outputs": [],
   "source": [
    "# Need to save this for quick reference\n",
    "\n",
    "def search_weaviate_collection(\n",
    "        collection_name: str,\n",
    "        search_query: str\n",
    "):"
   ]
  },
  {
   "cell_type": "code",
   "execution_count": null,
   "metadata": {},
   "outputs": [],
   "source": [
    "from dspy.predict.avatar import Tool, Avatar\n",
    "\n",
    "Tool(\n",
    "    tool: search_docs,\n",
    "    name: \"Search Code Documentation\",\n",
    "    desc: \"The documentation for the DSPy Python package, contains helpful code references and conceptual explanations.\",\n",
    "    input_type: str\n",
    ")"
   ]
  },
  {
   "cell_type": "code",
   "execution_count": null,
   "metadata": {},
   "outputs": [],
   "source": [
    "from dspy.predict.avatar import Tool, Avatar\n",
    "\n",
    "## NOTE!!!!\n",
    "\n",
    "# Tool looks for a string-valued input_type\n",
    "\"\"\"\n",
    "# dspy/predict/avatar/models.py\n",
    "\n",
    "from typing import Any, Optional\n",
    "from pydantic import BaseModel, Field\n",
    "\n",
    "\n",
    "class Tool(BaseModel):\n",
    "    tool: Any\n",
    "    name: str\n",
    "    desc: Optional[str]\n",
    "    input_type: Optional[str] = None\n",
    "\n",
    "    def __str__(self) -> str:\n",
    "        return f\"{self.name}{f'(valid_input: {self.input_type})' if self.input_type else ''}: {self.desc}\"\n",
    "\n",
    "    def __repr__(self) -> str:\n",
    "        return self.__str__()\n",
    "\n",
    "\n",
    "class Action(BaseModel):\n",
    "    tool_name: Any = Field(..., description=\"Name of the tool to use.\")\n",
    "    tool_input_query: Any = Field(..., description=\"Query to pass as input to the tool.\")\n",
    "\n",
    "\n",
    "class ActionOutput(BaseModel):\n",
    "    tool_name: str\n",
    "    tool_input_query: str\n",
    "    tool_output: str\n",
    "\"\"\"\n",
    "\n",
    "tools = [\n",
    "    Tool(\n",
    "        tool=search_weaviate_collection,\n",
    "        name=\"search_weaviate_collection\",\n",
    "        desc=\"Look up information stored in a Weaviate database instance.\"\n",
    "    )\n",
    "]"
   ]
  }
 ],
 "metadata": {
  "kernelspec": {
   "display_name": "Python 3",
   "language": "python",
   "name": "python3"
  },
  "language_info": {
   "codemirror_mode": {
    "name": "ipython",
    "version": 3
   },
   "file_extension": ".py",
   "mimetype": "text/x-python",
   "name": "python",
   "nbconvert_exporter": "python",
   "pygments_lexer": "ipython3",
   "version": "3.10.10"
  }
 },
 "nbformat": 4,
 "nbformat_minor": 2
}
