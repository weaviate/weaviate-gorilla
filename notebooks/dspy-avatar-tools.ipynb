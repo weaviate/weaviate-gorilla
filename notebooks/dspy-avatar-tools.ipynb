{
 "cells": [
  {
   "cell_type": "markdown",
   "metadata": {},
   "source": [
    "# DSPy Setup"
   ]
  },
  {
   "cell_type": "code",
   "execution_count": 1,
   "metadata": {},
   "outputs": [],
   "source": [
    "import dspy"
   ]
  },
  {
   "cell_type": "code",
   "execution_count": 2,
   "metadata": {},
   "outputs": [],
   "source": [
    "openai_api_key = \"\""
   ]
  },
  {
   "cell_type": "code",
   "execution_count": 3,
   "metadata": {},
   "outputs": [],
   "source": [
    "dspy.settings.configure(\n",
    "    lm=dspy.OpenAI(\n",
    "        model=\"gpt-4o-mini\",\n",
    "        api_key=openai_api_key,\n",
    "        max_tokens=4000,\n",
    "        temperature=0\n",
    "    )\n",
    ")"
   ]
  },
  {
   "cell_type": "code",
   "execution_count": 4,
   "metadata": {},
   "outputs": [
    {
     "data": {
      "text/plain": [
       "['Hello! How can I assist you today?']"
      ]
     },
     "execution_count": 4,
     "metadata": {},
     "output_type": "execute_result"
    }
   ],
   "source": [
    "dspy.settings.lm(\"say hello\")"
   ]
  },
  {
   "cell_type": "markdown",
   "metadata": {},
   "source": [
    "# Tool Setup"
   ]
  },
  {
   "cell_type": "code",
   "execution_count": 5,
   "metadata": {},
   "outputs": [],
   "source": [
    "# Load Schema into Weaviate\n",
    "\n",
    "# Load synthetic data into Weaviate\n",
    "\n",
    "# Run GFL to enhance data"
   ]
  },
  {
   "cell_type": "code",
   "execution_count": null,
   "metadata": {},
   "outputs": [],
   "source": [
    "# Need to save this for quick reference\n",
    "\n",
    "def search_weaviate_collection(\n",
    "        collection_name: str,\n",
    "        search_query: str\n",
    "):"
   ]
  },
  {
   "cell_type": "code",
   "execution_count": null,
   "metadata": {},
   "outputs": [],
   "source": [
    "from dspy.predict.avatar import Tool, Avatar\n",
    "\n",
    "## NOTE!!!!\n",
    "\n",
    "# Tool looks for a string-valued input_type\n",
    "\"\"\"\n",
    "# dspy/predict/avatar/models.py\n",
    "\n",
    "from typing import Any, Optional\n",
    "from pydantic import BaseModel, Field\n",
    "\n",
    "\n",
    "class Tool(BaseModel):\n",
    "    tool: Any\n",
    "    name: str\n",
    "    desc: Optional[str]\n",
    "    input_type: Optional[str] = None\n",
    "\n",
    "    def __str__(self) -> str:\n",
    "        return f\"{self.name}{f'(valid_input: {self.input_type})' if self.input_type else ''}: {self.desc}\"\n",
    "\n",
    "    def __repr__(self) -> str:\n",
    "        return self.__str__()\n",
    "\n",
    "\n",
    "class Action(BaseModel):\n",
    "    tool_name: Any = Field(..., description=\"Name of the tool to use.\")\n",
    "    tool_input_query: Any = Field(..., description=\"Query to pass as input to the tool.\")\n",
    "\n",
    "\n",
    "class ActionOutput(BaseModel):\n",
    "    tool_name: str\n",
    "    tool_input_query: str\n",
    "    tool_output: str\n",
    "\"\"\"\n",
    "\n",
    "tools = [\n",
    "    Tool(\n",
    "        tool=search_weaviate_collection,\n",
    "        name=\"search_weaviate_collection\",\n",
    "        desc=\"Look up information stored in a Weaviate database instance.\"\n",
    "    )\n",
    "]"
   ]
  }
 ],
 "metadata": {
  "kernelspec": {
   "display_name": "Python 3",
   "language": "python",
   "name": "python3"
  },
  "language_info": {
   "codemirror_mode": {
    "name": "ipython",
    "version": 3
   },
   "file_extension": ".py",
   "mimetype": "text/x-python",
   "name": "python",
   "nbconvert_exporter": "python",
   "pygments_lexer": "ipython3",
   "version": "3.10.10"
  }
 },
 "nbformat": 4,
 "nbformat_minor": 2
}
