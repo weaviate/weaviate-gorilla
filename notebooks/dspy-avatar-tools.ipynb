{
 "cells": [
  {
   "cell_type": "markdown",
   "metadata": {},
   "source": [
    "# DSPy Setup"
   ]
  },
  {
   "cell_type": "code",
   "execution_count": 2,
   "metadata": {},
   "outputs": [],
   "source": [
    "import dspy"
   ]
  },
  {
   "cell_type": "code",
   "execution_count": 3,
   "metadata": {},
   "outputs": [],
   "source": [
    "openai_api_key = \"\""
   ]
  },
  {
   "cell_type": "code",
   "execution_count": 4,
   "metadata": {},
   "outputs": [],
   "source": [
    "dspy.settings.configure(\n",
    "    lm=dspy.OpenAI(\n",
    "        model=\"gpt-4o-mini\",\n",
    "        api_key=openai_api_key,\n",
    "        max_tokens=4000,\n",
    "        temperature=0\n",
    "    )\n",
    ")"
   ]
  },
  {
   "cell_type": "code",
   "execution_count": 5,
   "metadata": {},
   "outputs": [
    {
     "data": {
      "text/plain": [
       "['Hello! How can I assist you today?']"
      ]
     },
     "execution_count": 5,
     "metadata": {},
     "output_type": "execute_result"
    }
   ],
   "source": [
    "dspy.settings.lm(\"say hello\")"
   ]
  },
  {
   "cell_type": "markdown",
   "metadata": {},
   "source": [
    "# Tool Setup"
   ]
  },
  {
   "cell_type": "code",
   "execution_count": 6,
   "metadata": {},
   "outputs": [
    {
     "data": {
      "text/plain": [
       "3"
      ]
     },
     "execution_count": 6,
     "metadata": {},
     "output_type": "execute_result"
    }
   ],
   "source": [
    "import json\n",
    "import os\n",
    "\n",
    "schemas_path = os.path.join(\"..\", \"data\", \"simple-3-collection-schemas.json\")\n",
    "with open(schemas_path, \"r\") as f:\n",
    "    schemas = json.load(f)\n",
    "\n",
    "json_schema = json.loads(schemas[0])\n",
    "len(json_schema[\"weaviate_collections\"])"
   ]
  },
  {
   "cell_type": "code",
   "execution_count": 7,
   "metadata": {},
   "outputs": [
    {
     "data": {
      "text/plain": [
       "[Collection(name='RestaurantMenu', properties=[Property(name='DishName', data_type=['string'], description='The name of the dish offered in the restaurant menu.'), Property(name='Price', data_type=['number'], description='The price of the dish.'), Property(name='IsVegetarian', data_type=['boolean'], description='Indicates if the dish is vegetarian.')], envisioned_use_case_overview='The RestaurantMenu collection stores details about each dish offered in a restaurant, including their names, prices, and vegetarian status. This information allows for menu management and facilitates the creation of customer-friendly menu displays.'),\n",
       " Collection(name='CustomerOrders', properties=[Property(name='CustomerName', data_type=['string'], description='The name of the customer who places the order.'), Property(name='TotalAmount', data_type=['number'], description=\"The total amount for the customer's order.\"), Property(name='IsTakeaway', data_type=['boolean'], description='Indicates whether the order is for takeaway or dine-in.')], envisioned_use_case_overview='The CustomerOrders collection captures details of customer orders, including their names, total amounts, and whether the orders are takeaway. This collection helps in processing orders and managing order histories.'),\n",
       " Collection(name='StaffMembers', properties=[Property(name='StaffName', data_type=['string'], description='The name of the staff member.'), Property(name='ExperienceYears', data_type=['number'], description='The number of years of experience the staff member has.'), Property(name='IsOnDuty', data_type=['boolean'], description='Indicates if the staff member is currently on duty.')], envisioned_use_case_overview=\"The StaffMembers collection maintains information about the restaurant's staff, including their names, experience, and current duty status. This collection is essential for scheduling and managing staffing levels.\")]"
      ]
     },
     "execution_count": 7,
     "metadata": {},
     "output_type": "execute_result"
    }
   ],
   "source": [
    "from typing import List\n",
    "from pydantic import BaseModel\n",
    "\n",
    "class Property(BaseModel):\n",
    "    name: str\n",
    "    data_type: List[str]\n",
    "    description: str\n",
    "\n",
    "class Collection(BaseModel):\n",
    "    name: str\n",
    "    properties: List[Property]\n",
    "    envisioned_use_case_overview: str\n",
    "\n",
    "collections = [Collection.parse_obj(collection) for collection in json_schema[\"weaviate_collections\"]]\n",
    "collections"
   ]
  },
  {
   "cell_type": "code",
   "execution_count": 21,
   "metadata": {},
   "outputs": [],
   "source": [
    "# Need to save this for quick reference\n",
    "\n",
    "# Get Weaviate Collections\n",
    "from typing import Any\n",
    "\n",
    "class search_weaviate_collection():\n",
    "        def run(search_query: str):\n",
    "                return f\"{search_query}\""
   ]
  },
  {
   "cell_type": "code",
   "execution_count": 22,
   "metadata": {},
   "outputs": [],
   "source": [
    "from dspy.predict.avatar import Tool\n",
    "\n",
    "tools = [Tool(\n",
    "    tool=search_weaviate_collection,\n",
    "    name=\"Search Code Documentation\",\n",
    "    desc=\"The documentation for the DSPy Python package, contains helpful code references and conceptual explanations.\"\n",
    ")]"
   ]
  },
  {
   "cell_type": "code",
   "execution_count": 23,
   "metadata": {},
   "outputs": [],
   "source": [
    "import dspy\n",
    "\n",
    "class SearchAgentSignature(dspy.Signature):\n",
    "    \"\"\"You will be given a question. Your task is to answer the question.\"\"\"\n",
    "    \n",
    "    question: str = dspy.InputField(\n",
    "        prefix=\"Question:\",\n",
    "        desc=\"question to ask\",\n",
    "        format=lambda x: x.strip(),\n",
    "    )\n",
    "    answer: str = dspy.OutputField(\n",
    "        prefix=\"Answer:\",\n",
    "        desc=\"answer to the question\",\n",
    "    )"
   ]
  },
  {
   "cell_type": "code",
   "execution_count": 24,
   "metadata": {},
   "outputs": [],
   "source": [
    "from dspy.predict.avatar import Avatar\n",
    "\n",
    "search_agent = Avatar(\n",
    "    tools=tools,\n",
    "    signature=SearchAgentSignature,\n",
    "    verbose=True\n",
    ")"
   ]
  },
  {
   "cell_type": "code",
   "execution_count": 25,
   "metadata": {},
   "outputs": [
    {
     "name": "stdout",
     "output_type": "stream",
     "text": [
      "Starting the task...\n",
      "Action 1: Search Code Documentation (How does HNSW help with vector indexing?)\n",
      "Action 2: Finish (HNSW (Hierarchical Navigable Small World) is an algorithm used for efficient vector indexing and nearest neighbor search. It constructs a multi-layered graph where each layer contains a subset of the data points, allowing for fast navigation and retrieval of nearest neighbors. The hierarchical structure enables logarithmic search time, making it suitable for large datasets. HNSW is particularly effective in high-dimensional spaces, providing a balance between accuracy and speed.)\n"
     ]
    },
    {
     "data": {
      "text/plain": [
       "Prediction(\n",
       "    answer='HNSW (Hierarchical Navigable Small World) is an algorithm used for efficient vector indexing and nearest neighbor search. It constructs a multi-layered graph where each layer contains a subset of the data points, allowing for fast navigation and retrieval of nearest neighbors. The hierarchical structure enables logarithmic search time, making it suitable for large datasets. HNSW is particularly effective in high-dimensional spaces, providing a balance between accuracy and speed.',\n",
       "    actions=[ActionOutput(tool_name='Search Code Documentation', tool_input_query='How does HNSW help with vector indexing?', tool_output='How does HNSW help with vector indexing?')]\n",
       ")"
      ]
     },
     "execution_count": 25,
     "metadata": {},
     "output_type": "execute_result"
    }
   ],
   "source": [
    "search_agent(\n",
    "    question=\"How does HNSW help with vector indexing?\"\n",
    ")"
   ]
  },
  {
   "cell_type": "code",
   "execution_count": null,
   "metadata": {},
   "outputs": [],
   "source": []
  }
 ],
 "metadata": {
  "kernelspec": {
   "display_name": "Python 3",
   "language": "python",
   "name": "python3"
  },
  "language_info": {
   "codemirror_mode": {
    "name": "ipython",
    "version": 3
   },
   "file_extension": ".py",
   "mimetype": "text/x-python",
   "name": "python",
   "nbconvert_exporter": "python",
   "pygments_lexer": "ipython3",
   "version": "3.10.10"
  }
 },
 "nbformat": 4,
 "nbformat_minor": 2
}
