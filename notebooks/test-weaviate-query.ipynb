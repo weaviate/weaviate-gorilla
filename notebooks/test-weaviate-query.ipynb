{
 "cells": [
  {
   "cell_type": "code",
   "execution_count": 1,
   "metadata": {},
   "outputs": [],
   "source": [
    "from typing import Literal, Optional\n",
    "from pydantic import BaseModel"
   ]
  },
  {
   "cell_type": "code",
   "execution_count": 2,
   "metadata": {},
   "outputs": [],
   "source": [
    "class IntPropertyFilter(BaseModel):\n",
    "    property_name: str\n",
    "    operator: Literal[\"=\", \"<\", \">\", \"<=\", \">=\"]\n",
    "    value: int | float\n",
    "\n",
    "class TextPropertyFilter(BaseModel):\n",
    "    property_name: str\n",
    "    operator: Literal[\"=\", \"LIKE\"]\n",
    "    value: str\n",
    "\n",
    "class BooleanPropertyFilter(BaseModel):\n",
    "    property_name: str\n",
    "    operator: Literal[\"=\", \"!=\"]\n",
    "    value: bool\n",
    "\n",
    "class IntAggregation(BaseModel):\n",
    "    property_name: str\n",
    "    metrics: Literal[\"COUNT\", \"TYPE\", \"MIN\", \"MAX\", \"MEAN\", \"MEDIAN\", \"MODE\", \"SUM\"]\n",
    "\n",
    "class TextAggregation(BaseModel):\n",
    "    property_name: str\n",
    "    metrics: Literal[\"COUNT\", \"TYPE\", \"TOP_OCCURRENCES\"]\n",
    "    top_occurrences_limit: Optional[int] = None\n",
    "\n",
    "class BooleanAggregation(BaseModel):\n",
    "    property_name: str\n",
    "    metrics: Literal[\"COUNT\", \"TYPE\", \"TOTAL_TRUE\", \"TOTAL_FALSE\", \"PERCENTAGE_TRUE\", \"PERCENTAGE_FALSE\"]"
   ]
  },
  {
   "cell_type": "code",
   "execution_count": 3,
   "metadata": {},
   "outputs": [],
   "source": [
    "class WeaviateQuery(BaseModel):\n",
    "    search_query: Optional[str]\n",
    "    integer_property_filter: Optional[IntPropertyFilter]\n",
    "    text_property_filter: Optional[TextPropertyFilter]\n",
    "    boolean_property_filter: Optional[BooleanPropertyFilter]\n",
    "    integer_property_aggregation: Optional[IntAggregation]\n",
    "    text_property_aggregation: Optional[TextAggregation]\n",
    "    boolean_property_aggregation: Optional[BooleanAggregation]\n",
    "    groupby_property: Optional[str]\n",
    "    corresponding_natural_language_query: str"
   ]
  },
  {
   "cell_type": "code",
   "execution_count": 4,
   "metadata": {},
   "outputs": [],
   "source": [
    "import openai\n",
    "\n",
    "lm_client = openai.OpenAI(\n",
    "    api_key = \"\"\n",
    ")"
   ]
  },
  {
   "cell_type": "code",
   "execution_count": null,
   "metadata": {},
   "outputs": [],
   "source": [
    "response = lm_client.beta.chat.completions.parse(\n",
    "    model=\"gpt-4o\"\n",
    "    messages=[\n",
    "        {\"role\": \"system\", \"content\": \"You are a helpful assistant. Follow the response format instructions.\"},\n",
    "        {\"role\": \"user\", \"content\": prompt}\n",
    "    ],\n",
    "    response_format=WeaviateQuery\n",
    ")"
   ]
  }
 ],
 "metadata": {
  "kernelspec": {
   "display_name": "Python 3",
   "language": "python",
   "name": "python3"
  },
  "language_info": {
   "codemirror_mode": {
    "name": "ipython",
    "version": 3
   },
   "file_extension": ".py",
   "mimetype": "text/x-python",
   "name": "python",
   "nbconvert_exporter": "python",
   "pygments_lexer": "ipython3",
   "version": "3.10.10"
  }
 },
 "nbformat": 4,
 "nbformat_minor": 2
}
