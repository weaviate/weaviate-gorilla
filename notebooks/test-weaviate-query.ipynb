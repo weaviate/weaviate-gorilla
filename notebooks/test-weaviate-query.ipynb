{
 "cells": [
  {
   "cell_type": "code",
   "execution_count": 1,
   "metadata": {},
   "outputs": [],
   "source": [
    "from typing import Literal, Optional\n",
    "from pydantic import BaseModel"
   ]
  },
  {
   "cell_type": "code",
   "execution_count": 2,
   "metadata": {},
   "outputs": [],
   "source": [
    "class IntPropertyFilter(BaseModel):\n",
    "    property_name: str\n",
    "    operator: Literal[\"=\", \"<\", \">\", \"<=\", \">=\"]\n",
    "    value: int | float\n",
    "\n",
    "class TextPropertyFilter(BaseModel):\n",
    "    property_name: str\n",
    "    operator: Literal[\"=\", \"LIKE\"]\n",
    "    value: str\n",
    "\n",
    "class BooleanPropertyFilter(BaseModel):\n",
    "    property_name: str\n",
    "    operator: Literal[\"=\", \"!=\"]\n",
    "    value: bool\n",
    "\n",
    "class IntAggregation(BaseModel):\n",
    "    property_name: str\n",
    "    metrics: Literal[\"COUNT\", \"TYPE\", \"MIN\", \"MAX\", \"MEAN\", \"MEDIAN\", \"MODE\", \"SUM\"]\n",
    "\n",
    "class TextAggregation(BaseModel):\n",
    "    property_name: str\n",
    "    metrics: Literal[\"COUNT\", \"TYPE\", \"TOP_OCCURRENCES\"]\n",
    "    top_occurrences_limit: Optional[int] = None\n",
    "\n",
    "class BooleanAggregation(BaseModel):\n",
    "    property_name: str\n",
    "    metrics: Literal[\"COUNT\", \"TYPE\", \"TOTAL_TRUE\", \"TOTAL_FALSE\", \"PERCENTAGE_TRUE\", \"PERCENTAGE_FALSE\"]"
   ]
  },
  {
   "cell_type": "code",
   "execution_count": 3,
   "metadata": {},
   "outputs": [],
   "source": [
    "class WeaviateQuery(BaseModel):\n",
    "    search_query: Optional[str]\n",
    "    integer_property_filter: Optional[IntPropertyFilter]\n",
    "    text_property_filter: Optional[TextPropertyFilter]\n",
    "    boolean_property_filter: Optional[BooleanPropertyFilter]\n",
    "    integer_property_aggregation: Optional[IntAggregation]\n",
    "    text_property_aggregation: Optional[TextAggregation]\n",
    "    boolean_property_aggregation: Optional[BooleanAggregation]\n",
    "    groupby_property: Optional[str]\n",
    "    corresponding_natural_language_query: str"
   ]
  },
  {
   "cell_type": "code",
   "execution_count": 5,
   "metadata": {},
   "outputs": [],
   "source": [
    "import openai\n",
    "\n",
    "lm_client = openai.OpenAI(\n",
    "    api_key = \"\"\n",
    ")"
   ]
  },
  {
   "cell_type": "code",
   "execution_count": 6,
   "metadata": {},
   "outputs": [],
   "source": [
    "prompt = \"\"\"\n",
    "You are working with a Weaviate collection called \"Products\" that has the following schema:\n",
    "\n",
    "{\n",
    "  \"name\": \"Products\",\n",
    "  \"properties\": [\n",
    "    {\n",
    "      \"name\": \"name\",\n",
    "      \"dataType\": [\"text\"],\n",
    "      \"description\": \"The name of the product\"\n",
    "    },\n",
    "    {\n",
    "      \"name\": \"description\", \n",
    "      \"dataType\": [\"text\"],\n",
    "      \"description\": \"Description of the product\"\n",
    "    },\n",
    "    {\n",
    "      \"name\": \"inStock\",\n",
    "      \"dataType\": [\"boolean\"],\n",
    "      \"description\": \"Whether the product is currently in stock\"\n",
    "    }\n",
    "  ]\n",
    "}\n",
    "\n",
    "Generate a Weaviate query that:\n",
    "1. Searches for products containing the word \"laptop\" in their name or description\n",
    "2. Filters for only products that are in stock (inStock = true)\n",
    "\n",
    "The query should help answer the natural language question: \"What laptops do we have available in stock?\"\n",
    "\"\"\""
   ]
  },
  {
   "cell_type": "code",
   "execution_count": 8,
   "metadata": {},
   "outputs": [],
   "source": [
    "response = lm_client.beta.chat.completions.parse(\n",
    "    model=\"gpt-4o\",\n",
    "    messages=[\n",
    "        {\"role\": \"system\", \"content\": \"You are a helpful assistant. Follow the response format instructions.\"},\n",
    "        {\"role\": \"user\", \"content\": prompt}\n",
    "    ],\n",
    "    response_format=WeaviateQuery\n",
    ")"
   ]
  },
  {
   "cell_type": "code",
   "execution_count": 11,
   "metadata": {},
   "outputs": [
    {
     "data": {
      "text/plain": [
       "WeaviateQuery(search_query='laptop', integer_property_filter=None, text_property_filter=None, boolean_property_filter=BooleanPropertyFilter(property_name='inStock', operator='=', value=True), integer_property_aggregation=None, text_property_aggregation=None, boolean_property_aggregation=None, groupby_property=None, corresponding_natural_language_query='What laptops do we have available in stock?')"
      ]
     },
     "execution_count": 11,
     "metadata": {},
     "output_type": "execute_result"
    }
   ],
   "source": [
    "response.choices[0].message.parsed"
   ]
  },
  {
   "cell_type": "code",
   "execution_count": null,
   "metadata": {},
   "outputs": [],
   "source": []
  }
 ],
 "metadata": {
  "kernelspec": {
   "display_name": "Python 3",
   "language": "python",
   "name": "python3"
  },
  "language_info": {
   "codemirror_mode": {
    "name": "ipython",
    "version": 3
   },
   "file_extension": ".py",
   "mimetype": "text/x-python",
   "name": "python",
   "nbconvert_exporter": "python",
   "pygments_lexer": "ipython3",
   "version": "3.10.10"
  }
 },
 "nbformat": 4,
 "nbformat_minor": 2
}
